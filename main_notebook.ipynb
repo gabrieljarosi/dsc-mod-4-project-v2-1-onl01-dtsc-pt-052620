{
 "cells": [
  {
   "cell_type": "code",
   "execution_count": 43,
   "metadata": {
    "ExecuteTime": {
     "end_time": "2021-01-13T17:21:06.399451Z",
     "start_time": "2021-01-13T17:21:06.388409Z"
    }
   },
   "outputs": [
    {
     "name": "stderr",
     "output_type": "stream",
     "text": [
      "[nltk_data] Downloading package stopwords to\n",
      "[nltk_data]     C:\\Users\\Biel_\\AppData\\Roaming\\nltk_data...\n",
      "[nltk_data]   Package stopwords is already up-to-date!\n",
      "[nltk_data] Downloading package wordnet to\n",
      "[nltk_data]     C:\\Users\\Biel_\\AppData\\Roaming\\nltk_data...\n",
      "[nltk_data]   Package wordnet is already up-to-date!\n",
      "[nltk_data] Downloading package punkt to\n",
      "[nltk_data]     C:\\Users\\Biel_\\AppData\\Roaming\\nltk_data...\n",
      "[nltk_data]   Package punkt is already up-to-date!\n"
     ]
    }
   ],
   "source": [
    "import pandas as pd\n",
    "from nltk import word_tokenize\n",
    "from gensim.models import word2vec\n",
    "from nltk import FreqDist\n",
    "from nltk.corpus import stopwords\n",
    "import string\n",
    "from sklearn.model_selection import train_test_split\n",
    "import nltk\n",
    "from sklearn.feature_extraction.text import TfidfVectorizer,CountVectorizer\n",
    "from sklearn.ensemble import RandomForestClassifier\n",
    "from sklearn import metrics\n",
    "from sklearn.metrics import accuracy_score\n",
    "from sklearn.preprocessing import label_binarize\n",
    "from sklearn.model_selection import GridSearchCV\n",
    "\n",
    "from nltk.stem.wordnet import WordNetLemmatizer\n",
    "from sklearn.pipeline import Pipeline\n",
    "from sklearn.feature_extraction.text import CountVectorizer,TfidfTransformer \n",
    "from sklearn.naive_bayes import MultinomialNB\n",
    "\n",
    "from gensim.models import Word2Vec\n",
    "from gensim.utils import simple_preprocess\n",
    "\n",
    "import numpy as np\n",
    "\n",
    "import seaborn as sns\n",
    "\n",
    "from sklearn.metrics import confusion_matrix\n",
    "import itertools\n",
    "\n",
    "from tensorflow.keras.layers import Input,Dense,LSTM,Embedding\n",
    "from tensorflow.keras.layers import Dropout, Activation, Bidirectional, GlobalMaxPool1D, GRU\n",
    "from tensorflow.keras.models import Sequential\n",
    "from tensorflow.keras import initializers, regularizers, constraints, optimizers, layers\n",
    "from tensorflow.keras.callbacks import EarlyStopping,ModelCheckpoint\n",
    "\n",
    "from tensorflow.keras.preprocessing import text,sequence\n",
    "from tensorflow.keras.utils import to_categorical\n",
    "\n",
    "\n",
    "import nltk\n",
    "nltk.download('stopwords')\n",
    "nltk.download('wordnet')\n",
    "nltk.download('punkt')\n",
    "\n",
    "import matplotlib.pyplot as plt"
   ]
  },
  {
   "cell_type": "code",
   "execution_count": 44,
   "metadata": {
    "ExecuteTime": {
     "end_time": "2021-01-13T17:21:06.449457Z",
     "start_time": "2021-01-13T17:21:06.400409Z"
    }
   },
   "outputs": [
    {
     "data": {
      "text/html": [
       "<div>\n",
       "<style scoped>\n",
       "    .dataframe tbody tr th:only-of-type {\n",
       "        vertical-align: middle;\n",
       "    }\n",
       "\n",
       "    .dataframe tbody tr th {\n",
       "        vertical-align: top;\n",
       "    }\n",
       "\n",
       "    .dataframe thead th {\n",
       "        text-align: right;\n",
       "    }\n",
       "</style>\n",
       "<table border=\"1\" class=\"dataframe\">\n",
       "  <thead>\n",
       "    <tr style=\"text-align: right;\">\n",
       "      <th></th>\n",
       "      <th>tweet_text</th>\n",
       "      <th>emotion_in_tweet_is_directed_at</th>\n",
       "      <th>is_there_an_emotion_directed_at_a_brand_or_product</th>\n",
       "    </tr>\n",
       "  </thead>\n",
       "  <tbody>\n",
       "    <tr>\n",
       "      <th>0</th>\n",
       "      <td>.@wesley83 I have a 3G iPhone. After 3 hrs twe...</td>\n",
       "      <td>iPhone</td>\n",
       "      <td>Negative emotion</td>\n",
       "    </tr>\n",
       "    <tr>\n",
       "      <th>1</th>\n",
       "      <td>@jessedee Know about @fludapp ? Awesome iPad/i...</td>\n",
       "      <td>iPad or iPhone App</td>\n",
       "      <td>Positive emotion</td>\n",
       "    </tr>\n",
       "    <tr>\n",
       "      <th>2</th>\n",
       "      <td>@swonderlin Can not wait for #iPad 2 also. The...</td>\n",
       "      <td>iPad</td>\n",
       "      <td>Positive emotion</td>\n",
       "    </tr>\n",
       "    <tr>\n",
       "      <th>3</th>\n",
       "      <td>@sxsw I hope this year's festival isn't as cra...</td>\n",
       "      <td>iPad or iPhone App</td>\n",
       "      <td>Negative emotion</td>\n",
       "    </tr>\n",
       "    <tr>\n",
       "      <th>4</th>\n",
       "      <td>@sxtxstate great stuff on Fri #SXSW: Marissa M...</td>\n",
       "      <td>Google</td>\n",
       "      <td>Positive emotion</td>\n",
       "    </tr>\n",
       "    <tr>\n",
       "      <th>...</th>\n",
       "      <td>...</td>\n",
       "      <td>...</td>\n",
       "      <td>...</td>\n",
       "    </tr>\n",
       "    <tr>\n",
       "      <th>9088</th>\n",
       "      <td>Ipad everywhere. #SXSW {link}</td>\n",
       "      <td>iPad</td>\n",
       "      <td>Positive emotion</td>\n",
       "    </tr>\n",
       "    <tr>\n",
       "      <th>9089</th>\n",
       "      <td>Wave, buzz... RT @mention We interrupt your re...</td>\n",
       "      <td>NaN</td>\n",
       "      <td>No emotion toward brand or product</td>\n",
       "    </tr>\n",
       "    <tr>\n",
       "      <th>9090</th>\n",
       "      <td>Google's Zeiger, a physician never reported po...</td>\n",
       "      <td>NaN</td>\n",
       "      <td>No emotion toward brand or product</td>\n",
       "    </tr>\n",
       "    <tr>\n",
       "      <th>9091</th>\n",
       "      <td>Some Verizon iPhone customers complained their...</td>\n",
       "      <td>NaN</td>\n",
       "      <td>No emotion toward brand or product</td>\n",
       "    </tr>\n",
       "    <tr>\n",
       "      <th>9092</th>\n",
       "      <td>Ï¡Ïàü_ÊÎÒ£Áââ_£â_ÛâRT @...</td>\n",
       "      <td>NaN</td>\n",
       "      <td>No emotion toward brand or product</td>\n",
       "    </tr>\n",
       "  </tbody>\n",
       "</table>\n",
       "<p>9093 rows × 3 columns</p>\n",
       "</div>"
      ],
      "text/plain": [
       "                                             tweet_text  \\\n",
       "0     .@wesley83 I have a 3G iPhone. After 3 hrs twe...   \n",
       "1     @jessedee Know about @fludapp ? Awesome iPad/i...   \n",
       "2     @swonderlin Can not wait for #iPad 2 also. The...   \n",
       "3     @sxsw I hope this year's festival isn't as cra...   \n",
       "4     @sxtxstate great stuff on Fri #SXSW: Marissa M...   \n",
       "...                                                 ...   \n",
       "9088                      Ipad everywhere. #SXSW {link}   \n",
       "9089  Wave, buzz... RT @mention We interrupt your re...   \n",
       "9090  Google's Zeiger, a physician never reported po...   \n",
       "9091  Some Verizon iPhone customers complained their...   \n",
       "9092  Ï¡Ïàü_ÊÎÒ£Áââ_£â_ÛâRT @...   \n",
       "\n",
       "     emotion_in_tweet_is_directed_at  \\\n",
       "0                             iPhone   \n",
       "1                 iPad or iPhone App   \n",
       "2                               iPad   \n",
       "3                 iPad or iPhone App   \n",
       "4                             Google   \n",
       "...                              ...   \n",
       "9088                            iPad   \n",
       "9089                             NaN   \n",
       "9090                             NaN   \n",
       "9091                             NaN   \n",
       "9092                             NaN   \n",
       "\n",
       "     is_there_an_emotion_directed_at_a_brand_or_product  \n",
       "0                                      Negative emotion  \n",
       "1                                      Positive emotion  \n",
       "2                                      Positive emotion  \n",
       "3                                      Negative emotion  \n",
       "4                                      Positive emotion  \n",
       "...                                                 ...  \n",
       "9088                                   Positive emotion  \n",
       "9089                 No emotion toward brand or product  \n",
       "9090                 No emotion toward brand or product  \n",
       "9091                 No emotion toward brand or product  \n",
       "9092                 No emotion toward brand or product  \n",
       "\n",
       "[9093 rows x 3 columns]"
      ]
     },
     "execution_count": 44,
     "metadata": {},
     "output_type": "execute_result"
    }
   ],
   "source": [
    "df = pd.read_csv('tweet_dataset.csv',encoding= 'unicode_escape')\n",
    "df"
   ]
  },
  {
   "cell_type": "code",
   "execution_count": 45,
   "metadata": {
    "ExecuteTime": {
     "end_time": "2021-01-13T17:21:06.476451Z",
     "start_time": "2021-01-13T17:21:06.451409Z"
    }
   },
   "outputs": [
    {
     "name": "stdout",
     "output_type": "stream",
     "text": [
      "No emotion toward brand or product    5389\n",
      "Positive emotion                      2978\n",
      "Negative emotion                       570\n",
      "I can't tell                           156\n",
      "Name: is_there_an_emotion_directed_at_a_brand_or_product, dtype: int64\n"
     ]
    },
    {
     "name": "stderr",
     "output_type": "stream",
     "text": [
      "C:\\Users\\Biel_\\anaconda3\\envs\\learn-env\\lib\\site-packages\\ipykernel_launcher.py:8: SettingWithCopyWarning: \n",
      "A value is trying to be set on a copy of a slice from a DataFrame.\n",
      "Try using .loc[row_indexer,col_indexer] = value instead\n",
      "\n",
      "See the caveats in the documentation: https://pandas.pydata.org/pandas-docs/stable/user_guide/indexing.html#returning-a-view-versus-a-copy\n",
      "  \n",
      "C:\\Users\\Biel_\\anaconda3\\envs\\learn-env\\lib\\site-packages\\pandas\\core\\frame.py:4174: SettingWithCopyWarning: \n",
      "A value is trying to be set on a copy of a slice from a DataFrame\n",
      "\n",
      "See the caveats in the documentation: https://pandas.pydata.org/pandas-docs/stable/user_guide/indexing.html#returning-a-view-versus-a-copy\n",
      "  errors=errors,\n",
      "C:\\Users\\Biel_\\anaconda3\\envs\\learn-env\\lib\\site-packages\\ipykernel_launcher.py:18: SettingWithCopyWarning: \n",
      "A value is trying to be set on a copy of a slice from a DataFrame\n",
      "\n",
      "See the caveats in the documentation: https://pandas.pydata.org/pandas-docs/stable/user_guide/indexing.html#returning-a-view-versus-a-copy\n"
     ]
    },
    {
     "data": {
      "text/html": [
       "<div>\n",
       "<style scoped>\n",
       "    .dataframe tbody tr th:only-of-type {\n",
       "        vertical-align: middle;\n",
       "    }\n",
       "\n",
       "    .dataframe tbody tr th {\n",
       "        vertical-align: top;\n",
       "    }\n",
       "\n",
       "    .dataframe thead th {\n",
       "        text-align: right;\n",
       "    }\n",
       "</style>\n",
       "<table border=\"1\" class=\"dataframe\">\n",
       "  <thead>\n",
       "    <tr style=\"text-align: right;\">\n",
       "      <th></th>\n",
       "      <th>tweet_text</th>\n",
       "      <th>is_there_an_emotion_directed_at_a_brand_or_product</th>\n",
       "    </tr>\n",
       "  </thead>\n",
       "  <tbody>\n",
       "    <tr>\n",
       "      <th>0</th>\n",
       "      <td>.@wesley83 I have a 3G iPhone. After 3 hrs twe...</td>\n",
       "      <td>Negative emotion</td>\n",
       "    </tr>\n",
       "    <tr>\n",
       "      <th>1</th>\n",
       "      <td>@jessedee Know about @fludapp ? Awesome iPad/i...</td>\n",
       "      <td>Positive emotion</td>\n",
       "    </tr>\n",
       "    <tr>\n",
       "      <th>2</th>\n",
       "      <td>@swonderlin Can not wait for #iPad 2 also. The...</td>\n",
       "      <td>Positive emotion</td>\n",
       "    </tr>\n",
       "    <tr>\n",
       "      <th>3</th>\n",
       "      <td>@sxsw I hope this year's festival isn't as cra...</td>\n",
       "      <td>Negative emotion</td>\n",
       "    </tr>\n",
       "    <tr>\n",
       "      <th>4</th>\n",
       "      <td>@sxtxstate great stuff on Fri #SXSW: Marissa M...</td>\n",
       "      <td>Positive emotion</td>\n",
       "    </tr>\n",
       "    <tr>\n",
       "      <th>...</th>\n",
       "      <td>...</td>\n",
       "      <td>...</td>\n",
       "    </tr>\n",
       "    <tr>\n",
       "      <th>9088</th>\n",
       "      <td>Ipad everywhere. #SXSW {link}</td>\n",
       "      <td>Positive emotion</td>\n",
       "    </tr>\n",
       "    <tr>\n",
       "      <th>9089</th>\n",
       "      <td>Wave, buzz... RT @mention We interrupt your re...</td>\n",
       "      <td>No emotion</td>\n",
       "    </tr>\n",
       "    <tr>\n",
       "      <th>9090</th>\n",
       "      <td>Google's Zeiger, a physician never reported po...</td>\n",
       "      <td>No emotion</td>\n",
       "    </tr>\n",
       "    <tr>\n",
       "      <th>9091</th>\n",
       "      <td>Some Verizon iPhone customers complained their...</td>\n",
       "      <td>No emotion</td>\n",
       "    </tr>\n",
       "    <tr>\n",
       "      <th>9092</th>\n",
       "      <td>Ï¡Ïàü_ÊÎÒ£Áââ_£â_ÛâRT @...</td>\n",
       "      <td>No emotion</td>\n",
       "    </tr>\n",
       "  </tbody>\n",
       "</table>\n",
       "<p>8936 rows × 2 columns</p>\n",
       "</div>"
      ],
      "text/plain": [
       "                                             tweet_text  \\\n",
       "0     .@wesley83 I have a 3G iPhone. After 3 hrs twe...   \n",
       "1     @jessedee Know about @fludapp ? Awesome iPad/i...   \n",
       "2     @swonderlin Can not wait for #iPad 2 also. The...   \n",
       "3     @sxsw I hope this year's festival isn't as cra...   \n",
       "4     @sxtxstate great stuff on Fri #SXSW: Marissa M...   \n",
       "...                                                 ...   \n",
       "9088                      Ipad everywhere. #SXSW {link}   \n",
       "9089  Wave, buzz... RT @mention We interrupt your re...   \n",
       "9090  Google's Zeiger, a physician never reported po...   \n",
       "9091  Some Verizon iPhone customers complained their...   \n",
       "9092  Ï¡Ïàü_ÊÎÒ£Áââ_£â_ÛâRT @...   \n",
       "\n",
       "     is_there_an_emotion_directed_at_a_brand_or_product  \n",
       "0                                      Negative emotion  \n",
       "1                                      Positive emotion  \n",
       "2                                      Positive emotion  \n",
       "3                                      Negative emotion  \n",
       "4                                      Positive emotion  \n",
       "...                                                 ...  \n",
       "9088                                   Positive emotion  \n",
       "9089                                         No emotion  \n",
       "9090                                         No emotion  \n",
       "9091                                         No emotion  \n",
       "9092                                         No emotion  \n",
       "\n",
       "[8936 rows x 2 columns]"
      ]
     },
     "execution_count": 45,
     "metadata": {},
     "output_type": "execute_result"
    }
   ],
   "source": [
    "#CHECKING EMOTION UNIQUE VALUES AND VALUE COUNTS\n",
    "print(df['is_there_an_emotion_directed_at_a_brand_or_product'].value_counts())\n",
    "\n",
    "#DROPPING COLUMNS 'I CAN'T TELL' AND NO EMOTION TOWARD BRAND BECAUSE WANT TO MAKE A BINARY CLASSIFICATION\n",
    "df = df[(df['is_there_an_emotion_directed_at_a_brand_or_product'] != \"I can't tell\")] #& (df['is_there_an_emotion_directed_at_a_brand_or_product'] != 'No emotion toward brand or product')]\n",
    "\n",
    "#CHANGING NO EMOTION TOWARD BRAND OR PRODUCT TO NO EMOTION\n",
    "df['is_there_an_emotion_directed_at_a_brand_or_product'] = df['is_there_an_emotion_directed_at_a_brand_or_product'].replace({'No emotion toward brand or product':'No emotion'})\n",
    "\n",
    "# #TURNING EMOTION COLUMN INTO BINARY\n",
    "# df['Positive_emotion'] = (df['is_there_an_emotion_directed_at_a_brand_or_product']=='Positive emotion').astype(int)\n",
    "# print(df['Positive_emotion'].value_counts(1))\n",
    "\n",
    "#DROPPING UNNEEDED COLUMNS\n",
    "df.drop(['emotion_in_tweet_is_directed_at'],axis=1,inplace=True)\n",
    "\n",
    "#DROPPING THE 1 NULL VALUE IN COLUMN TWEET_TEXT\n",
    "df.dropna(inplace=True)\n",
    "\n",
    "df"
   ]
  },
  {
   "cell_type": "code",
   "execution_count": 46,
   "metadata": {
    "ExecuteTime": {
     "end_time": "2021-01-13T17:21:06.483409Z",
     "start_time": "2021-01-13T17:21:06.478412Z"
    }
   },
   "outputs": [],
   "source": [
    "stopwords_list = stopwords.words('english')\n",
    "\n",
    "# Add punctuation to stopwords_list\n",
    "stopwords_list.extend(string.punctuation)\n",
    "\n",
    "# Add the additional Tweet Punctuation below to stopwords_list\n",
    "additional_punc = ['“','”','...',\"''\",'’','``']\n",
    "stopwords_list.extend(additional_punc)"
   ]
  },
  {
   "cell_type": "markdown",
   "metadata": {
    "ExecuteTime": {
     "end_time": "2021-01-10T22:35:31.361544Z",
     "start_time": "2021-01-10T22:35:31.346599Z"
    }
   },
   "source": [
    "# VANILLA RANDOM FORREST"
   ]
  },
  {
   "cell_type": "code",
   "execution_count": 47,
   "metadata": {
    "ExecuteTime": {
     "end_time": "2021-01-13T17:21:06.667411Z",
     "start_time": "2021-01-13T17:21:06.658409Z"
    }
   },
   "outputs": [],
   "source": [
    "rf = RandomForestClassifier(class_weight='balanced')"
   ]
  },
  {
   "cell_type": "code",
   "execution_count": 48,
   "metadata": {
    "ExecuteTime": {
     "end_time": "2021-01-13T17:21:06.684409Z",
     "start_time": "2021-01-13T17:21:06.668411Z"
    }
   },
   "outputs": [
    {
     "data": {
      "text/plain": [
       "0       .@wesley83 I have a 3G iPhone. After 3 hrs twe...\n",
       "1       @jessedee Know about @fludapp ? Awesome iPad/i...\n",
       "2       @swonderlin Can not wait for #iPad 2 also. The...\n",
       "3       @sxsw I hope this year's festival isn't as cra...\n",
       "4       @sxtxstate great stuff on Fri #SXSW: Marissa M...\n",
       "                              ...                        \n",
       "9088                        Ipad everywhere. #SXSW {link}\n",
       "9089    Wave, buzz... RT @mention We interrupt your re...\n",
       "9090    Google's Zeiger, a physician never reported po...\n",
       "9091    Some Verizon iPhone customers complained their...\n",
       "9092    Ï¡Ïàü_ÊÎÒ£Áââ_£â_ÛâRT @...\n",
       "Name: tweet_text, Length: 8936, dtype: object"
      ]
     },
     "execution_count": 48,
     "metadata": {},
     "output_type": "execute_result"
    }
   ],
   "source": [
    "# y=label_binarize(df['is_there_an_emotion_directed_at_a_brand_or_product'].copy(),\n",
    "#                  classes = ['Negative emotion','Positive emotion','No emotion toward brand or product'])\n",
    "y = df['is_there_an_emotion_directed_at_a_brand_or_product'].copy()\n",
    "X=df['tweet_text'].copy()\n",
    "X"
   ]
  },
  {
   "cell_type": "code",
   "execution_count": 49,
   "metadata": {
    "ExecuteTime": {
     "end_time": "2021-01-13T17:21:06.694408Z",
     "start_time": "2021-01-13T17:21:06.686408Z"
    }
   },
   "outputs": [],
   "source": [
    "#TRAIN TEST SPLIT\n",
    "X_train, X_test, y_train, y_test = train_test_split(X,y, test_size=0.2,\n",
    "                                                    random_state=69)"
   ]
  },
  {
   "cell_type": "code",
   "execution_count": 50,
   "metadata": {
    "ExecuteTime": {
     "end_time": "2021-01-13T17:21:06.708406Z",
     "start_time": "2021-01-13T17:21:06.697426Z"
    }
   },
   "outputs": [
    {
     "data": {
      "text/plain": [
       "No emotion          0.597790\n",
       "Positive emotion    0.336598\n",
       "Negative emotion    0.065613\n",
       "Name: is_there_an_emotion_directed_at_a_brand_or_product, dtype: float64"
      ]
     },
     "execution_count": 50,
     "metadata": {},
     "output_type": "execute_result"
    }
   ],
   "source": [
    "# Check y_train and y_test value counts\n",
    "\n",
    "y_train.value_counts(1)"
   ]
  },
  {
   "cell_type": "code",
   "execution_count": 51,
   "metadata": {
    "ExecuteTime": {
     "end_time": "2021-01-13T17:21:06.718408Z",
     "start_time": "2021-01-13T17:21:06.710408Z"
    }
   },
   "outputs": [
    {
     "data": {
      "text/plain": [
       "<nltk.tokenize.casual.TweetTokenizer at 0x269e3002ac8>"
      ]
     },
     "execution_count": 51,
     "metadata": {},
     "output_type": "execute_result"
    }
   ],
   "source": [
    "tokenizer = nltk.TweetTokenizer(preserve_case=False)\n",
    "tokenizer"
   ]
  },
  {
   "cell_type": "code",
   "execution_count": 52,
   "metadata": {
    "ExecuteTime": {
     "end_time": "2021-01-13T17:21:07.648411Z",
     "start_time": "2021-01-13T17:21:06.719412Z"
    }
   },
   "outputs": [
    {
     "data": {
      "text/plain": [
       "<7148x9320 sparse matrix of type '<class 'numpy.float64'>'\n",
       "\twith 85601 stored elements in Compressed Sparse Row format>"
      ]
     },
     "execution_count": 52,
     "metadata": {},
     "output_type": "execute_result"
    }
   ],
   "source": [
    "## Make a TfIdf Vectorizer using tweet tokenizer's .tokenize method\n",
    "vectorizer = TfidfVectorizer(tokenizer=tokenizer.tokenize,\n",
    "                           stop_words=stopwords_list)\n",
    "\n",
    "# Vectorize data and make X_train_tfidf and X_test_tfidf\n",
    "X_train_tfidf = vectorizer.fit_transform(X_train)\n",
    "X_test_tfidf = vectorizer.transform(X_test)\n",
    "X_train_tfidf"
   ]
  },
  {
   "cell_type": "code",
   "execution_count": 53,
   "metadata": {
    "ExecuteTime": {
     "end_time": "2021-01-13T17:21:07.655451Z",
     "start_time": "2021-01-13T17:21:07.650411Z"
    }
   },
   "outputs": [
    {
     "data": {
      "text/plain": [
       "9320"
      ]
     },
     "execution_count": 53,
     "metadata": {},
     "output_type": "execute_result"
    }
   ],
   "source": [
    "len(vectorizer.vocabulary_)"
   ]
  },
  {
   "cell_type": "code",
   "execution_count": 54,
   "metadata": {
    "ExecuteTime": {
     "end_time": "2021-01-13T17:21:07.671411Z",
     "start_time": "2021-01-13T17:21:07.658408Z"
    }
   },
   "outputs": [],
   "source": [
    "def model_eval(model,X_train,y_train,X_test,y_test,classes=None,\n",
    "                           normalize='true',cmap='Blues',label=''):\n",
    "\n",
    "#         \"\"\"Example function with PEP 484 type annotations.\n",
    "\n",
    "#         Args:\n",
    "#             model: The Model Classifier.\n",
    "#             X_train: X_train being used to fit model (could be scaled or not).\n",
    "#             y_train: y_train being used to fit model and to get train accuracy.\n",
    "#             X_test: X_test to get test predictions.\n",
    "#             y_test: y_test used to get test accuracy\n",
    "#             classes: Class labels\n",
    "#             normalize: set to true\n",
    "#             cmap: Color scheme for Confusion Matrix. Set to Blues\n",
    "#             label: Confusion Matrix Label\n",
    "\n",
    "#         Returns:\n",
    "#             Model Accuracy. Confusion Matrix, ROC Curve, and best params for GridSearch\n",
    "\n",
    "#     \"\"\"\n",
    "    \n",
    "    \n",
    "    #FITTING MODEL WITH TRAIN DATA\n",
    "    model.fit(X_train,y_train)   \n",
    "      \n",
    "    #GETTING TRAIN PREDICTIONS\n",
    "    y_hat_train = model.predict(X_train)\n",
    "    \n",
    "    #GETING TEST PREDICTIONS\n",
    "    y_hat_test = model.predict(X_test)\n",
    "    \n",
    "    dashes = '---'*20\n",
    "    \n",
    "    if isinstance(model,GridSearchCV):\n",
    "        grid_header = \"GRID SEARCH FOUND THE FOLLOWING OPTIMAL PARAMETERS: \"\n",
    "        print(dashes,grid_header,dashes,sep='\\n')\n",
    "        best_parameters = model.best_params_\n",
    "        for param_name in sorted(best_parameters.keys()):\n",
    "            print(\"%s: %r\" % (param_name, best_parameters[param_name]))\n",
    "    \n",
    "    #GETTING ACCURACY SCORE FOR TRAIN AND TEST\n",
    "    \n",
    "    if len(label)>0:\n",
    "        accuracy_header = f'{label} ACCURACY'\n",
    "    else:\n",
    "        accuracy_header = 'MODEL ACCURACY'\n",
    "    print(dashes,accuracy_header,dashes,sep='\\n')\n",
    "    training_accuracy = accuracy_score(y_train, y_hat_train)\n",
    "    testing_accuracy = accuracy_score(y_test, y_hat_test)\n",
    "    \n",
    "    print(f'TRAINING ACCURACY: {round(training_accuracy*100,2)}%')\n",
    "    print(f'TESTING ACCURACY: {round(testing_accuracy*100,2)}%')\n",
    "          \n",
    "    #CLASSIFICATION REPORT AND SCORES\n",
    "    test_header = \"CLASSIFICATION REPORT\"\n",
    "    \n",
    "    #ADDING LABEL IF GIVEN\n",
    "    if len(label)>0:\n",
    "        test_header += f\" USING {label}\"\n",
    "    \n",
    "    # PRINT CLASSIFICATION REPORT\n",
    "    \n",
    "    print(dashes,test_header,dashes,sep='\\n')\n",
    "\n",
    "    print(metrics.classification_report(y_test,y_hat_test,\n",
    "                                    target_names=classes))\n",
    "\n",
    "    print(dashes+\"\\n\\n\")\n",
    "    \n",
    "    \n",
    "\n",
    "    # MAKE FIGURE\n",
    "    fig, axes = plt.subplots(figsize=(10,10),ncols=1)\n",
    "   \n",
    "\n",
    "    # PLOTTING CONFUSION MATRIX \n",
    "    if isinstance(model,GridSearchCV):\n",
    "        metrics.plot_confusion_matrix(model.best_estimator_, X_test,y_test,\n",
    "                                      display_labels=classes,\n",
    "                                      normalize=normalize,\n",
    "                                     cmap=cmap,ax=axes,xticks_rotation=45)\n",
    "        axes.set(title='Confusion Matrix')\n",
    "    else:\n",
    "        metrics.plot_confusion_matrix(model, X_test,y_test,\n",
    "                                      display_labels=classes,\n",
    "                                      normalize=normalize,\n",
    "                                     cmap=cmap,ax=axes,xticks_rotation=45)\n",
    "        axes.set(title='Confusion Matrix')\n",
    "    \n",
    "    #PLOTTING ROC CURVE\n",
    "#     roc_plot = metrics.plot_roc_curve(model, X_test, y_test,ax=axes[1])\n",
    "#     axes[1].legend()\n",
    "#     axes[1].plot([0,1],[0,1],ls=':')\n",
    "#     axes[1].grid()\n",
    "#     axes[1].set_title('Receiving Operator Characteristic (ROC) Curve') \n",
    "    fig.tight_layout()\n",
    "    plt.show()\n",
    "\n",
    "   "
   ]
  },
  {
   "cell_type": "code",
   "execution_count": 55,
   "metadata": {
    "ExecuteTime": {
     "end_time": "2021-01-13T17:21:15.996040Z",
     "start_time": "2021-01-13T17:21:07.673407Z"
    }
   },
   "outputs": [
    {
     "name": "stdout",
     "output_type": "stream",
     "text": [
      "------------------------------------------------------------\n",
      "MODEL ACCURACY\n",
      "------------------------------------------------------------\n",
      "TRAINING ACCURACY: 99.55%\n",
      "TESTING ACCURACY: 68.9%\n",
      "------------------------------------------------------------\n",
      "CLASSIFICATION REPORT\n",
      "------------------------------------------------------------\n",
      "                  precision    recall  f1-score   support\n",
      "\n",
      "Negative emotion       0.74      0.23      0.35       101\n",
      "      No emotion       0.70      0.89      0.79      1115\n",
      "Positive emotion       0.62      0.38      0.47       572\n",
      "\n",
      "        accuracy                           0.69      1788\n",
      "       macro avg       0.69      0.50      0.53      1788\n",
      "    weighted avg       0.68      0.69      0.66      1788\n",
      "\n",
      "------------------------------------------------------------\n",
      "\n",
      "\n"
     ]
    },
    {
     "data": {
      "image/png": "[encoded data removed]",
      "text/plain": [
       "<Figure size 720x720 with 2 Axes>"
      ]
     },
     "metadata": {
      "needs_background": "light"
     },
     "output_type": "display_data"
    }
   ],
   "source": [
    "## Evaluate Model using function\n",
    "model_eval(rf,X_train_tfidf,y_train,X_test_tfidf,y_test)"
   ]
  },
  {
   "cell_type": "code",
   "execution_count": 56,
   "metadata": {
    "ExecuteTime": {
     "end_time": "2021-01-13T17:21:16.377013Z",
     "start_time": "2021-01-13T17:21:15.998017Z"
    }
   },
   "outputs": [
    {
     "data": {
      "image/png": "[encoded data removed]",
      "text/plain": [
       "<Figure size 748.8x514.8 with 1 Axes>"
      ]
     },
     "metadata": {
      "needs_background": "light"
     },
     "output_type": "display_data"
    }
   ],
   "source": [
    "# Plot the top 30 most important features\n",
    "with plt.style.context('seaborn-talk'):\n",
    "\n",
    "    ## Get Feature Importance\n",
    "    importance = pd.Series(rf.feature_importances_,index=vectorizer.get_feature_names())\n",
    "\n",
    "    ## Sort values \n",
    "\n",
    "\n",
    "    ## Take the .tail 30 and plot kind='barh'\n",
    "    importance.sort_values().tail(30).plot(kind='barh')"
   ]
  },
  {
   "cell_type": "code",
   "execution_count": 15,
   "metadata": {
    "ExecuteTime": {
     "end_time": "2021-01-13T17:12:12.042623Z",
     "start_time": "2021-01-13T17:12:12.015600Z"
    }
   },
   "outputs": [
    {
     "data": {
      "text/plain": [
       "Pipeline(steps=[('text_pipe',\n",
       "                 Pipeline(steps=[('count_vectorizer', CountVectorizer()),\n",
       "                                 ('tf_transformer', TfidfTransformer())])),\n",
       "                ('clf', RandomForestClassifier(class_weight='balanced'))])"
      ]
     },
     "execution_count": 15,
     "metadata": {},
     "output_type": "execute_result"
    }
   ],
   "source": [
    "count_vect = CountVectorizer()\n",
    "tf_transform = TfidfTransformer(use_idf=True)\n",
    "lemmatizer = WordNetLemmatizer()\n",
    "\n",
    "text_pipe = Pipeline(steps=[                       \n",
    "    ('count_vectorizer',count_vect),\n",
    "    ('tf_transformer',tf_transform)])\n",
    "\n",
    "full_pipe = Pipeline(steps=[\n",
    "    ('text_pipe',text_pipe),\n",
    "    ('clf',RandomForestClassifier(class_weight='balanced'))\n",
    "])\n",
    "full_pipe"
   ]
  },
  {
   "cell_type": "code",
   "execution_count": 16,
   "metadata": {
    "ExecuteTime": {
     "end_time": "2021-01-13T17:12:12.051583Z",
     "start_time": "2021-01-13T17:12:12.044579Z"
    }
   },
   "outputs": [],
   "source": [
    "params = {'text_pipe__tf_transformer__use_idf':[True, False],\n",
    "         'text_pipe__count_vectorizer__tokenizer':[None,tokenizer.tokenize],\n",
    "          'text_pipe__count_vectorizer__preprocessor':[None,lemmatizer.lemmatize],\n",
    "         'text_pipe__count_vectorizer__stop_words':[None,stopwords_list],\n",
    "         'clf__criterion':['gini', 'entropy']}\n",
    "\n",
    "## Make and fit grid\n",
    "grid = GridSearchCV(full_pipe,params,cv=3)"
   ]
  },
  {
   "cell_type": "code",
   "execution_count": 17,
   "metadata": {
    "ExecuteTime": {
     "end_time": "2021-01-13T17:12:12.062598Z",
     "start_time": "2021-01-13T17:12:12.054581Z"
    }
   },
   "outputs": [],
   "source": [
    "# model_eval(grid,X_train,y_train,X_test,y_test)"
   ]
  },
  {
   "cell_type": "markdown",
   "metadata": {},
   "source": [
    "# DEEP NLP"
   ]
  },
  {
   "cell_type": "code",
   "execution_count": 64,
   "metadata": {
    "ExecuteTime": {
     "end_time": "2021-01-13T17:43:34.816045Z",
     "start_time": "2021-01-13T17:43:34.796001Z"
    }
   },
   "outputs": [],
   "source": [
    "def model_eval_2(y_test,y_hat_test,classes=None,\n",
    "                           normalize='true',cmap='Blues',label='',\n",
    "                           title='Confusion matrix'):\n",
    "\n",
    "#         \"\"\"Example function with PEP 484 type annotations.\n",
    "\n",
    "#         Args:\n",
    "#             model: The Model Classifier.\n",
    "#             X_train: X_train being used to fit model (could be scaled or not).\n",
    "#             y_train: y_train being used to fit model and to get train accuracy.\n",
    "#             X_test: X_test to get test predictions.\n",
    "#             y_test: y_test used to get test accuracy\n",
    "#             classes: Class labels\n",
    "#             normalize: set to true\n",
    "#             cmap: Color scheme for Confusion Matrix. Set to Blues\n",
    "#             label: Confusion Matrix Label\n",
    "\n",
    "#         Returns:\n",
    "#             Model Accuracy. Confusion Matrix, ROC Curve, and best params for GridSearch\n",
    "\n",
    "#     \"\"\"\n",
    "    \n",
    "    dashes = '---'*20\n",
    "\n",
    "    #GETTING ACCURACY SCORE FOR TRAIN AND TEST\n",
    "    \n",
    "    if len(label)>0:\n",
    "        accuracy_header = f'{label} ACCURACY'\n",
    "    else:\n",
    "        accuracy_header = 'MODEL ACCURACY'\n",
    "    print(dashes,accuracy_header,dashes,sep='\\n')\n",
    "#     training_accuracy = accuracy_score(y_train, y_hat_train)\n",
    "    testing_accuracy = accuracy_score(y_test, y_hat_test)\n",
    "    \n",
    "#     print(f'TRAINING ACCURACY: {round(training_accuracy*100,2)}%')\n",
    "    print(f'TESTING ACCURACY: {round(testing_accuracy*100,2)}%')\n",
    "          \n",
    "    #CLASSIFICATION REPORT AND SCORES\n",
    "    test_header = \"CLASSIFICATION REPORT\"\n",
    "    \n",
    "    #ADDING LABEL IF GIVEN\n",
    "    if len(label)>0:\n",
    "        test_header += f\" USING {label}\"\n",
    "    \n",
    "    # PRINT CLASSIFICATION REPORT\n",
    "    \n",
    "    print(dashes,test_header,dashes,sep='\\n')\n",
    "\n",
    "    print(metrics.classification_report(y_test,y_hat_test))#,\n",
    "#                                     target_names=classes))\n",
    "\n",
    "    print(dashes+\"\\n\\n\")\n",
    "        \n",
    "    # MAKE FIGURE\n",
    "    fig, axes = plt.subplots(figsize=(15,5),ncols=3)      \n",
    "   \n",
    "\n",
    "    # PLOTTING CONFUSION MATRIX \n",
    "\n",
    "    cm = confusion_matrix(y_true=y_test, y_pred=y_hat_test,normalize=normalize)\n",
    "    \n",
    "    plt.imshow(cm, interpolation='nearest', cmap=cmap)\n",
    "    plt.title(title)\n",
    "    plt.colorbar(ax=axes[2])\n",
    "    tick_marks = np.arange(len(classes))\n",
    "    plt.xticks(tick_marks, classes, rotation=45)\n",
    "    plt.yticks(tick_marks, classes)\n",
    "\n",
    "    if normalize:\n",
    "        cm = cm.astype('float') / cm.sum(axis=1)[:, np.newaxis]\n",
    "\n",
    "    thresh = cm.max() / 2.\n",
    "    for i, j in itertools.product(range(cm.shape[0]), range(cm.shape[1])):\n",
    "        plt.text(j, i, round(cm[i, j],2),\n",
    "            horizontalalignment=\"center\",\n",
    "            color=\"white\" if cm[i, j] > thresh else \"black\")\n",
    "\n",
    "    plt.tight_layout()\n",
    "    plt.ylabel('True label')\n",
    "    plt.xlabel('Predicted label')\n",
    "    \n",
    "    history_df = pd.DataFrame(history.history)\n",
    "#     plt.subplot(history_df[[col for col in history_df.columns if 'loss' in col]])\n",
    "\n",
    "    loss_df = history_df[[col for col in history_df.columns if 'loss' in col]]\n",
    "    loss_df = loss_df.reset_index()\n",
    "    \n",
    "    acc_df = history_df[[col for col in history_df.columns if 'acc' in col]]\n",
    "    acc_df = acc_df.reset_index()\n",
    "    \n",
    "    sns.lineplot(x='index',y='val_loss',data=loss_df,marker='o',ax=axes[0])\n",
    "    sns.lineplot(x='index',y='loss',data=loss_df,marker='o',ax=axes[0])\n",
    "    \n",
    "    sns.lineplot(x='index',y='val_accuracy',data=acc_df,marker='o',ax=axes[1])\n",
    "    sns.lineplot(x='index',y='accuracy',data=acc_df,marker='o',ax=axes[1])\n",
    "    \n",
    "    fig.tight_layout()\n",
    "    plt.show()\n",
    "\n",
    "   "
   ]
  },
  {
   "cell_type": "code",
   "execution_count": 18,
   "metadata": {
    "ExecuteTime": {
     "end_time": "2021-01-13T17:12:12.685580Z",
     "start_time": "2021-01-13T17:12:12.066581Z"
    }
   },
   "outputs": [
    {
     "name": "stdout",
     "output_type": "stream",
     "text": [
      ".@wesley83 I have a 3G iPhone. After 3 hrs tweeting at #RISE_Austin, it was dead!  I need to upgrade. Plugin stations at #SXSW.\n",
      "/n\n",
      "['wesley', 'have', 'iphone', 'after', 'hrs', 'tweeting', 'at', 'rise_austin', 'it', 'was', 'dead', 'need', 'to', 'upgrade', 'plugin', 'stations', 'at', 'sxsw']\n"
     ]
    }
   ],
   "source": [
    "#TRAINING WORD2VEC FROM FULL DF AND APPLYING SIMPLE PREPROCESSING\n",
    "lower_df=df['tweet_text'].map(lambda x: simple_preprocess(x.lower(),deacc=True,\n",
    "                                                         max_len=100))\n",
    "\n",
    "print(df['tweet_text'][0])\n",
    "print('/n')\n",
    "print(lower_df[0])"
   ]
  },
  {
   "cell_type": "code",
   "execution_count": 19,
   "metadata": {
    "ExecuteTime": {
     "end_time": "2021-01-13T17:12:15.180653Z",
     "start_time": "2021-01-13T17:12:12.688584Z"
    }
   },
   "outputs": [],
   "source": [
    "wv_model = Word2Vec(lower_df,size=100,window=5,min_count=1)"
   ]
  },
  {
   "cell_type": "code",
   "execution_count": 20,
   "metadata": {
    "ExecuteTime": {
     "end_time": "2021-01-13T17:12:24.324585Z",
     "start_time": "2021-01-13T17:12:15.182624Z"
    }
   },
   "outputs": [
    {
     "name": "stderr",
     "output_type": "stream",
     "text": [
      "WARNING: Logging before flag parsing goes to stderr.\n",
      "W0113 12:12:15.183582 24528 base_any2vec.py:1168] Effective 'alpha' higher than previous training cycles\n"
     ]
    },
    {
     "data": {
      "text/plain": [
       "(10557455, 15425100)"
      ]
     },
     "execution_count": 20,
     "metadata": {},
     "output_type": "execute_result"
    }
   ],
   "source": [
    "wv_model.train(lower_df,total_examples=wv_model.corpus_count,epochs=100)"
   ]
  },
  {
   "cell_type": "code",
   "execution_count": 21,
   "metadata": {
    "ExecuteTime": {
     "end_time": "2021-01-13T17:12:24.331606Z",
     "start_time": "2021-01-13T17:12:24.326582Z"
    }
   },
   "outputs": [
    {
     "data": {
      "text/plain": [
       "<gensim.models.keyedvectors.Word2VecKeyedVectors at 0x269e92a8c18>"
      ]
     },
     "execution_count": 21,
     "metadata": {},
     "output_type": "execute_result"
    }
   ],
   "source": [
    "#GET KEYED VECTOR\n",
    "wv=wv_model.wv\n",
    "wv"
   ]
  },
  {
   "cell_type": "code",
   "execution_count": 22,
   "metadata": {
    "ExecuteTime": {
     "end_time": "2021-01-13T17:12:24.346580Z",
     "start_time": "2021-01-13T17:12:24.332613Z"
    }
   },
   "outputs": [
    {
     "data": {
      "text/plain": [
       "array([-3.560996  , -0.17676182,  0.21693292, -0.28035837, -2.9304636 ,\n",
       "        1.3971874 , -1.7168086 ,  1.6035503 ,  1.0201504 ,  0.97729796,\n",
       "        0.9033472 ,  1.1531888 , -0.45311165, -0.13631   ,  2.772481  ,\n",
       "       -0.75759876, -2.6360219 , -2.1542966 ,  1.5657825 ,  2.4024463 ,\n",
       "        0.5916406 , -2.0293944 ,  0.3513335 , -1.3664249 ,  2.1219459 ,\n",
       "        0.2471549 ,  2.7978475 , -3.311901  , -1.444727  , -2.33521   ,\n",
       "       -1.5920774 ,  0.8438445 , -1.4371943 , -2.9053953 ,  2.3999143 ,\n",
       "        1.7295127 ,  1.1660333 , -0.99529916, -0.04913001,  1.6317097 ,\n",
       "       -1.7119612 ,  0.7284203 , -2.2370863 , -1.2953035 , -3.9796302 ,\n",
       "        0.42657185,  2.2321367 , -3.6831279 , -0.16269252, -2.9107804 ,\n",
       "       -1.3509363 ,  1.1119249 ,  1.1771437 , -1.8125601 ,  2.391629  ,\n",
       "        1.0506887 , -2.4670446 , -1.416804  , -1.1201572 , -1.1478455 ,\n",
       "       -1.296311  ,  0.8957223 , -2.0833073 , -0.7937743 , -0.68721104,\n",
       "        0.8315716 ,  3.1037128 ,  2.6788278 , -1.8538573 ,  4.4405527 ,\n",
       "        0.03451519,  4.0234127 , -0.5909609 ,  1.1393733 , -0.043123  ,\n",
       "       -2.1129124 ,  3.2271383 , -1.0948335 , -2.4201176 ,  0.7490795 ,\n",
       "       -1.4117184 , -1.795287  , -3.2718709 , -2.5508192 ,  1.0746405 ,\n",
       "       -0.93582106,  2.5226018 ,  0.55124974, -0.4076631 ,  0.4866499 ,\n",
       "        0.41831455,  0.8669202 ,  1.5251987 ,  0.19511957, -2.72995   ,\n",
       "        2.4919128 , -0.43731713, -0.76377076,  1.580461  ,  0.25584272],\n",
       "      dtype=float32)"
      ]
     },
     "execution_count": 22,
     "metadata": {},
     "output_type": "execute_result"
    }
   ],
   "source": [
    "wv['tweet']"
   ]
  },
  {
   "cell_type": "code",
   "execution_count": 23,
   "metadata": {
    "ExecuteTime": {
     "end_time": "2021-01-13T17:12:24.355625Z",
     "start_time": "2021-01-13T17:12:24.348582Z"
    }
   },
   "outputs": [
    {
     "data": {
      "text/plain": [
       "9264"
      ]
     },
     "execution_count": 23,
     "metadata": {},
     "output_type": "execute_result"
    }
   ],
   "source": [
    "len(wv.vocab)"
   ]
  },
  {
   "cell_type": "code",
   "execution_count": 24,
   "metadata": {
    "ExecuteTime": {
     "end_time": "2021-01-13T17:12:24.380584Z",
     "start_time": "2021-01-13T17:12:24.358583Z"
    }
   },
   "outputs": [
    {
     "data": {
      "text/plain": [
       "[('design', 0.40125077962875366),\n",
       " ('css', 0.3269037902355194),\n",
       " ('packed', 0.31159573793411255),\n",
       " ('awesome', 0.3093876242637634),\n",
       " ('apis', 0.3034557104110718),\n",
       " ('good', 0.2971240282058716),\n",
       " ('fastest', 0.29055726528167725),\n",
       " ('excited', 0.28990060091018677),\n",
       " ('browserwars', 0.28926312923431396),\n",
       " ('visualizing', 0.28636714816093445)]"
      ]
     },
     "execution_count": 24,
     "metadata": {},
     "output_type": "execute_result"
    }
   ],
   "source": [
    "wv.most_similar('great')"
   ]
  },
  {
   "cell_type": "code",
   "execution_count": 25,
   "metadata": {
    "ExecuteTime": {
     "end_time": "2021-01-13T17:12:24.393617Z",
     "start_time": "2021-01-13T17:12:24.381581Z"
    }
   },
   "outputs": [],
   "source": [
    "# y=label_binarize(df['is_there_an_emotion_directed_at_a_brand_or_product'].copy(),\n",
    "#                  classes = ['Negative emotion','Positive emotion','No emotion toward brand or product'])\n",
    "y = df['is_there_an_emotion_directed_at_a_brand_or_product'].replace({'Negative emotion':0,\n",
    "                                                                     'Positive emotion':1,\n",
    "                                                                     'No emotion':2})\n",
    "X=df['tweet_text'].copy()"
   ]
  },
  {
   "cell_type": "code",
   "execution_count": 26,
   "metadata": {
    "ExecuteTime": {
     "end_time": "2021-01-13T17:12:24.403580Z",
     "start_time": "2021-01-13T17:12:24.395584Z"
    }
   },
   "outputs": [],
   "source": [
    "#TRAIN TEST SPLIT\n",
    "X_train, X_test, y_train, y_test = train_test_split(X,y, test_size=0.2,\n",
    "                                                    random_state=999)"
   ]
  },
  {
   "cell_type": "code",
   "execution_count": 27,
   "metadata": {
    "ExecuteTime": {
     "end_time": "2021-01-13T17:12:24.422614Z",
     "start_time": "2021-01-13T17:12:24.406582Z"
    }
   },
   "outputs": [
    {
     "name": "stderr",
     "output_type": "stream",
     "text": [
      "C:\\Users\\Biel_\\anaconda3\\envs\\learn-env\\lib\\site-packages\\sklearn\\utils\\validation.py:70: FutureWarning: Pass classes=[0 1 2], y=4777    2\n",
      "6112    2\n",
      "6010    2\n",
      "3318    2\n",
      "884     1\n",
      "       ..\n",
      "8554    2\n",
      "7713    2\n",
      "8562    1\n",
      "5936    1\n",
      "490     1\n",
      "Name: is_there_an_emotion_directed_at_a_brand_or_product, Length: 7148, dtype: int64 as keyword args. From version 0.25 passing these as positional arguments will result in an error\n",
      "  FutureWarning)\n"
     ]
    },
    {
     "data": {
      "text/plain": [
       "{0: 5.124014336917563, 1: 1.0083227535618564, 2: 0.5515432098765433}"
      ]
     },
     "execution_count": 27,
     "metadata": {},
     "output_type": "execute_result"
    }
   ],
   "source": [
    "from sklearn.utils.class_weight import compute_class_weight\n",
    "\n",
    "weights = compute_class_weight('balanced',np.unique(y_train),y_train)\n",
    "\n",
    "weights_dict = dict(zip(np.unique(y_train),weights))\n",
    "weights_dict"
   ]
  },
  {
   "cell_type": "code",
   "execution_count": 28,
   "metadata": {
    "ExecuteTime": {
     "end_time": "2021-01-13T17:12:24.431580Z",
     "start_time": "2021-01-13T17:12:24.423581Z"
    }
   },
   "outputs": [
    {
     "data": {
      "text/plain": [
       "(7148, 3)"
      ]
     },
     "execution_count": 28,
     "metadata": {},
     "output_type": "execute_result"
    }
   ],
   "source": [
    "#ONE HOT ENCODE\n",
    "y_train_seq=label_binarize(y_train,\n",
    "                 classes = [0,1,2])\n",
    "\n",
    "y_test_seq=label_binarize(y_test,\n",
    "                 classes = [0,1,2])\n",
    "y_train_seq.shape"
   ]
  },
  {
   "cell_type": "code",
   "execution_count": 29,
   "metadata": {
    "ExecuteTime": {
     "end_time": "2021-01-13T17:12:24.794896Z",
     "start_time": "2021-01-13T17:12:24.432583Z"
    }
   },
   "outputs": [],
   "source": [
    "#TOKENIZE TEXT\n",
    "MAX_WORDS=25000\n",
    "tokenizer = text.Tokenizer(num_words = MAX_WORDS)\n",
    "tokenizer.fit_on_texts(X_train)\n",
    "train_sequences = tokenizer.texts_to_sequences(X_train)\n",
    "test_sequences = tokenizer.texts_to_sequences(X_test)\n",
    "\n",
    "#FIND LONGEST SEQUENCE\n",
    "max(list(map(lambda x:len(x),[*train_sequences,*test_sequences])))\n",
    "\n",
    "MAX_SEQUENCE_LENGTH=40"
   ]
  },
  {
   "cell_type": "code",
   "execution_count": 30,
   "metadata": {
    "ExecuteTime": {
     "end_time": "2021-01-13T17:12:24.852580Z",
     "start_time": "2021-01-13T17:12:24.796583Z"
    }
   },
   "outputs": [
    {
     "data": {
      "text/plain": [
       "array([[   0,    0,    0, ...,   37,    4,    2],\n",
       "       [   0,    0,    0, ..., 2197,   78,  261],\n",
       "       [   0,    0,    0, ...,   26,  129,    4],\n",
       "       ...,\n",
       "       [   0,    0,    0, ...,   67,  229,    1],\n",
       "       [   0,    0,    0, ..., 1551,   96,    1],\n",
       "       [   0,    0,    0, ...,  244,  161, 9049]])"
      ]
     },
     "execution_count": 30,
     "metadata": {},
     "output_type": "execute_result"
    }
   ],
   "source": [
    "X_train_seq = sequence.pad_sequences(train_sequences,maxlen=MAX_SEQUENCE_LENGTH)\n",
    "\n",
    "X_test_seq = sequence.pad_sequences(test_sequences,maxlen=MAX_SEQUENCE_LENGTH)\n",
    "\n",
    "X_train_seq"
   ]
  },
  {
   "cell_type": "code",
   "execution_count": 31,
   "metadata": {
    "ExecuteTime": {
     "end_time": "2021-01-13T17:12:24.860581Z",
     "start_time": "2021-01-13T17:12:24.854585Z"
    }
   },
   "outputs": [
    {
     "data": {
      "text/plain": [
       "9049"
      ]
     },
     "execution_count": 31,
     "metadata": {},
     "output_type": "execute_result"
    }
   ],
   "source": [
    "len(tokenizer.index_word)"
   ]
  },
  {
   "cell_type": "code",
   "execution_count": 84,
   "metadata": {
    "ExecuteTime": {
     "end_time": "2021-01-13T18:08:23.540370Z",
     "start_time": "2021-01-13T18:08:23.536369Z"
    }
   },
   "outputs": [],
   "source": [
    "#GOT FROM JAMES\n",
    "def get_earlystop(monitor='val_accuracy',patience=5, restore_best_weights=True):\n",
    "    \"\"\"\"\"\"\"\"\n",
    "    args = locals()\n",
    "    return EarlyStopping(**args)\n",
    "get_earlystop.__doc__+= EarlyStopping.__doc__"
   ]
  },
  {
   "cell_type": "code",
   "execution_count": 60,
   "metadata": {
    "ExecuteTime": {
     "end_time": "2021-01-13T17:40:09.291454Z",
     "start_time": "2021-01-13T17:40:09.285459Z"
    }
   },
   "outputs": [
    {
     "data": {
      "text/plain": [
       "array([[0, 0, 1],\n",
       "       [0, 1, 0],\n",
       "       [0, 0, 1],\n",
       "       ...,\n",
       "       [0, 1, 0],\n",
       "       [0, 0, 1],\n",
       "       [0, 1, 0]])"
      ]
     },
     "execution_count": 60,
     "metadata": {},
     "output_type": "execute_result"
    }
   ],
   "source": [
    "y_test_seq"
   ]
  },
  {
   "cell_type": "code",
   "execution_count": 85,
   "metadata": {
    "ExecuteTime": {
     "end_time": "2021-01-13T18:10:14.553455Z",
     "start_time": "2021-01-13T18:08:26.104370Z"
    }
   },
   "outputs": [
    {
     "name": "stdout",
     "output_type": "stream",
     "text": [
      "Model: \"sequential_13\"\n",
      "_________________________________________________________________\n",
      "Layer (type)                 Output Shape              Param #   \n",
      "=================================================================\n",
      "embedding_13 (Embedding)     (None, None, 100)         2500000   \n",
      "_________________________________________________________________\n",
      "lstm_20 (LSTM)               (None, 50)                30200     \n",
      "_________________________________________________________________\n",
      "dense_21 (Dense)             (None, 25)                1275      \n",
      "_________________________________________________________________\n",
      "dropout_9 (Dropout)          (None, 25)                0         \n",
      "_________________________________________________________________\n",
      "dense_22 (Dense)             (None, 3)                 78        \n",
      "=================================================================\n",
      "Total params: 2,531,553\n",
      "Trainable params: 2,531,553\n",
      "Non-trainable params: 0\n",
      "_________________________________________________________________\n"
     ]
    },
    {
     "data": {
      "text/plain": [
       "None"
      ]
     },
     "metadata": {},
     "output_type": "display_data"
    },
    {
     "name": "stdout",
     "output_type": "stream",
     "text": [
      "Epoch 1/50\n",
      "90/90 [==============================] - 6s 69ms/step - loss: 1.0990 - accuracy: 0.4976 - val_loss: 0.9622 - val_accuracy: 0.4951\n",
      "Epoch 2/50\n",
      "90/90 [==============================] - 6s 65ms/step - loss: 0.8770 - accuracy: 0.5568 - val_loss: 0.8995 - val_accuracy: 0.5832\n",
      "Epoch 3/50\n",
      "90/90 [==============================] - 6s 64ms/step - loss: 0.6286 - accuracy: 0.6987 - val_loss: 0.8246 - val_accuracy: 0.6322\n",
      "Epoch 4/50\n",
      "90/90 [==============================] - 6s 64ms/step - loss: 0.4830 - accuracy: 0.7896 - val_loss: 0.8735 - val_accuracy: 0.6315\n",
      "Epoch 5/50\n",
      "90/90 [==============================] - 6s 65ms/step - loss: 0.3707 - accuracy: 0.8414 - val_loss: 1.0054 - val_accuracy: 0.6210\n",
      "Epoch 6/50\n",
      "90/90 [==============================] - 6s 68ms/step - loss: 0.3175 - accuracy: 0.8643 - val_loss: 0.9754 - val_accuracy: 0.6210\n",
      "Epoch 7/50\n",
      "90/90 [==============================] - 6s 64ms/step - loss: 0.2824 - accuracy: 0.8870 - val_loss: 1.0911 - val_accuracy: 0.6231\n",
      "Epoch 8/50\n",
      "90/90 [==============================] - 6s 64ms/step - loss: 0.2509 - accuracy: 0.8979 - val_loss: 1.1722 - val_accuracy: 0.6448\n",
      "Epoch 9/50\n",
      "90/90 [==============================] - 6s 65ms/step - loss: 0.2269 - accuracy: 0.9043 - val_loss: 1.2222 - val_accuracy: 0.6105\n",
      "Epoch 10/50\n",
      "90/90 [==============================] - 6s 65ms/step - loss: 0.2150 - accuracy: 0.9145 - val_loss: 1.1697 - val_accuracy: 0.6266\n",
      "Epoch 11/50\n",
      "90/90 [==============================] - 6s 65ms/step - loss: 0.1971 - accuracy: 0.9204 - val_loss: 1.3658 - val_accuracy: 0.6336\n",
      "Epoch 12/50\n",
      "90/90 [==============================] - 6s 64ms/step - loss: 0.1786 - accuracy: 0.9243 - val_loss: 1.4222 - val_accuracy: 0.6231\n",
      "Epoch 13/50\n",
      "90/90 [==============================] - 6s 66ms/step - loss: 0.1667 - accuracy: 0.9243 - val_loss: 1.3772 - val_accuracy: 0.6552\n",
      "Epoch 14/50\n",
      "90/90 [==============================] - 6s 63ms/step - loss: 0.1600 - accuracy: 0.9300 - val_loss: 1.6858 - val_accuracy: 0.6399\n",
      "Epoch 15/50\n",
      "90/90 [==============================] - 6s 63ms/step - loss: 0.1461 - accuracy: 0.9363 - val_loss: 1.7748 - val_accuracy: 0.6063\n",
      "Epoch 16/50\n",
      "90/90 [==============================] - 6s 62ms/step - loss: 0.1480 - accuracy: 0.9325 - val_loss: 1.3214 - val_accuracy: 0.6322\n",
      "Epoch 17/50\n",
      "90/90 [==============================] - 5s 60ms/step - loss: 0.1625 - accuracy: 0.9299 - val_loss: 1.6481 - val_accuracy: 0.6371\n",
      "Epoch 18/50\n",
      "90/90 [==============================] - 5s 60ms/step - loss: 0.1385 - accuracy: 0.9349 - val_loss: 1.6944 - val_accuracy: 0.6357\n"
     ]
    }
   ],
   "source": [
    "def make_model(EMBEDDING_SIZE=100):\n",
    "    model=Sequential()\n",
    "    model.add(Embedding(MAX_WORDS,EMBEDDING_SIZE))\n",
    "    model.add(LSTM(50,return_sequences=False))\n",
    "#     model.add(LSTM(25,return_sequences=False))\n",
    "\n",
    "#     model.add(LSTM(50,return_sequences=False,recurrent_dropout=0.3))\n",
    "    model.add(Dense(25,activation='relu',kernel_regularizer=regularizers.l2(0.001)))\n",
    "    model.add(Dropout(0.5))\n",
    "    model.add(Dense(3, activation='softmax'))\n",
    "    \n",
    "    model.compile(loss='categorical_crossentropy',optimizer='adam',metrics=['accuracy'])\n",
    "    display(model.summary())\n",
    "    return model\n",
    "model = make_model()\n",
    "history = model.fit(X_train_seq, y_train_seq, epochs=50,batch_size=64, \n",
    "                    validation_split = 0.2, callbacks=get_earlystop(),\n",
    "                   class_weight=weights_dict,workers=3)\n",
    "y_hat_test = model.predict(X_test_seq).argmax(axis=1)"
   ]
  },
  {
   "cell_type": "code",
   "execution_count": 86,
   "metadata": {
    "ExecuteTime": {
     "end_time": "2021-01-13T18:10:15.236429Z",
     "start_time": "2021-01-13T18:10:14.555330Z"
    }
   },
   "outputs": [
    {
     "name": "stdout",
     "output_type": "stream",
     "text": [
      "------------------------------------------------------------\n",
      "MODEL ACCURACY\n",
      "------------------------------------------------------------\n",
      "TESTING ACCURACY: 66.61%\n",
      "------------------------------------------------------------\n",
      "CLASSIFICATION REPORT\n",
      "------------------------------------------------------------\n",
      "              precision    recall  f1-score   support\n",
      "\n",
      "           0       0.35      0.34      0.34       105\n",
      "           1       0.60      0.53      0.56       615\n",
      "           2       0.73      0.78      0.75      1068\n",
      "\n",
      "    accuracy                           0.67      1788\n",
      "   macro avg       0.56      0.55      0.55      1788\n",
      "weighted avg       0.66      0.67      0.66      1788\n",
      "\n",
      "------------------------------------------------------------\n",
      "\n",
      "\n"
     ]
    },
    {
     "data": {
      "image/png": "[encoded data removed]",
      "text/plain": [
       "<Figure size 1080x360 with 4 Axes>"
      ]
     },
     "metadata": {
      "needs_background": "light"
     },
     "output_type": "display_data"
    }
   ],
   "source": [
    "model_eval_2(y_test_seq.argmax(axis=1),y_hat_test,classes=[0,1,2])"
   ]
  },
  {
   "cell_type": "code",
   "execution_count": 34,
   "metadata": {
    "ExecuteTime": {
     "end_time": "2021-01-13T17:13:41.779102Z",
     "start_time": "2021-01-13T17:13:40.857104Z"
    }
   },
   "outputs": [
    {
     "data": {
      "text/plain": [
       "array([1, 2, 1, 1, 1], dtype=int64)"
      ]
     },
     "execution_count": 34,
     "metadata": {},
     "output_type": "execute_result"
    }
   ],
   "source": [
    "y_hat_test = model.predict(X_test_seq).argmax(axis=1)\n",
    "y_hat_test[:5]"
   ]
  },
  {
   "cell_type": "code",
   "execution_count": 35,
   "metadata": {
    "ExecuteTime": {
     "end_time": "2021-01-13T17:13:41.785104Z",
     "start_time": "2021-01-13T17:13:41.781104Z"
    }
   },
   "outputs": [],
   "source": [
    "# def plot_confusion_matrix( classes,\n",
    "#                         normalize=False,\n",
    "#                         title='Confusion matrix',\n",
    "#                         cmap=plt.cm.Blues,\n",
    "#                          ):\n",
    "#     \"\"\"\n",
    "#     This function prints and plots the confusion matrix.\n",
    "#     Normalization can be applied by setting `normalize=True`.\n",
    "#     \"\"\"\n",
    "#     print(metrics.classification_report(y_test,y_hat_test))\n",
    "#     print('\\n')\n",
    "    \n",
    "#     cm = confusion_matrix(y_true=y_test, y_pred=y_hat_test,normalize=normalize)\n",
    "    \n",
    "#     plt.imshow(cm, interpolation='nearest', cmap=cmap)\n",
    "#     plt.title(title)\n",
    "#     plt.colorbar(ax=ax)\n",
    "#     tick_marks = np.arange(len(classes))\n",
    "#     plt.xticks(tick_marks, classes, rotation=45)\n",
    "#     plt.yticks(tick_marks, classes)\n",
    "\n",
    "#     if normalize:\n",
    "#         cm = cm.astype('float') / cm.sum(axis=1)[:, np.newaxis]\n",
    "\n",
    "#     thresh = cm.max() / 2.\n",
    "#     for i, j in itertools.product(range(cm.shape[0]), range(cm.shape[1])):\n",
    "#         plt.text(j, i, round(cm[i, j],2),\n",
    "#             horizontalalignment=\"center\",\n",
    "#             color=\"white\" if cm[i, j] > thresh else \"black\")\n",
    "\n",
    "#     plt.tight_layout()\n",
    "#     plt.ylabel('True label')\n",
    "#     plt.xlabel('Predicted label')\n",
    "    \n",
    "    "
   ]
  },
  {
   "cell_type": "code",
   "execution_count": 37,
   "metadata": {
    "ExecuteTime": {
     "end_time": "2021-01-13T17:13:42.341151Z",
     "start_time": "2021-01-13T17:13:41.811102Z"
    }
   },
   "outputs": [
    {
     "name": "stdout",
     "output_type": "stream",
     "text": [
      "------------------------------------------------------------\n",
      "MODEL ACCURACY\n",
      "------------------------------------------------------------\n",
      "TESTING ACCURACY: 65.38%\n",
      "------------------------------------------------------------\n",
      "CLASSIFICATION REPORT\n",
      "------------------------------------------------------------\n",
      "              precision    recall  f1-score   support\n",
      "\n",
      "           0       0.29      0.33      0.31       105\n",
      "           1       0.61      0.49      0.54       615\n",
      "           2       0.71      0.78      0.74      1068\n",
      "\n",
      "    accuracy                           0.65      1788\n",
      "   macro avg       0.54      0.53      0.53      1788\n",
      "weighted avg       0.65      0.65      0.65      1788\n",
      "\n",
      "------------------------------------------------------------\n",
      "\n",
      "\n"
     ]
    },
    {
     "data": {
      "image/png": "[encoded data removed]",
      "text/plain": [
       "<Figure size 1080x360 with 4 Axes>"
      ]
     },
     "metadata": {
      "needs_background": "light"
     },
     "output_type": "display_data"
    }
   ],
   "source": [
    "model_eval_2(y_test,y_hat_test,classes=[0,1,2])"
   ]
  },
  {
   "cell_type": "code",
   "execution_count": 38,
   "metadata": {
    "ExecuteTime": {
     "end_time": "2021-01-13T17:13:42.345104Z",
     "start_time": "2021-01-13T17:13:42.342102Z"
    }
   },
   "outputs": [],
   "source": [
    "# from sklearn.metrics import confusion_matrix\n",
    "# import itertools\n",
    "\n",
    "# cm = confusion_matrix(y_true=y_test, y_pred=y_hat_test,normalize='true')\n",
    "\n",
    "# fig, axes = plt.subplots(figsize=(10,10),ncols=2)\n",
    "\n",
    "# print(metrics.classification_report(y_test,y_hat_test))\n",
    "# print('\\n')\n",
    "# history_df = pd.DataFrame(history.history)\n",
    "# history_df[[col for col in history_df.columns if 'loss' in col]].plot(marker='o')\n",
    "\n",
    "# plot_confusion_matrix(cm,classes=[0,1,2],normalize=True,ax=axes[1])"
   ]
  },
  {
   "cell_type": "code",
   "execution_count": 39,
   "metadata": {
    "ExecuteTime": {
     "end_time": "2021-01-13T17:13:42.356148Z",
     "start_time": "2021-01-13T17:13:42.346103Z"
    }
   },
   "outputs": [],
   "source": [
    "# from tensorflow.keras.layers import Embedding\n",
    "\n",
    "\n",
    "# #FUNCTION SOURCE >>> https://github.com/RaRe-Technologies/gensim/wiki/Using-Gensim-Embeddings-with-Keras-and-Tensorflow\n",
    "# def gensim_to_keras_embedding(model, train_embeddings=False):\n",
    "#     \"\"\"Get a Keras 'Embedding' layer with weights set from Word2Vec model's learned word embeddings.\n",
    "\n",
    "#     Parameters\n",
    "#     ----------\n",
    "#     train_embeddings : bool\n",
    "#         If False, the returned weights are frozen and stopped from being updated.\n",
    "#         If True, the weights can / will be further updated in Keras.\n",
    "\n",
    "#     Returns\n",
    "#     -------\n",
    "#     `keras.layers.Embedding`\n",
    "#         Embedding layer, to be used as input to deeper network layers.\n",
    "\n",
    "#     \"\"\"\n",
    "#     keyed_vectors = model.wv  # structure holding the result of training\n",
    "#     weights = keyed_vectors.vectors  # vectors themselves, a 2D numpy array    \n",
    "#     index_to_key = keyed_vectors.index2word  # which row in `weights` corresponds to which word?\n",
    "\n",
    "#     layer = Embedding(\n",
    "#         input_dim=weights.shape[0],\n",
    "#         output_dim=weights.shape[1],\n",
    "#         weights=[weights],\n",
    "#         trainable=train_embeddings,\n",
    "#     )\n",
    "#     return layer\n",
    "# gensim_to_keras_embedding(wv_model)"
   ]
  },
  {
   "cell_type": "code",
   "execution_count": 40,
   "metadata": {
    "ExecuteTime": {
     "end_time": "2021-01-13T17:14:51.972107Z",
     "start_time": "2021-01-13T17:13:42.357102Z"
    }
   },
   "outputs": [
    {
     "name": "stdout",
     "output_type": "stream",
     "text": [
      "Model: \"sequential_1\"\n",
      "_________________________________________________________________\n",
      "Layer (type)                 Output Shape              Param #   \n",
      "=================================================================\n",
      "embedding_1 (Embedding)      (None, None, 100)         926400    \n",
      "_________________________________________________________________\n",
      "lstm_2 (LSTM)                (None, None, 50)          30200     \n",
      "_________________________________________________________________\n",
      "lstm_3 (LSTM)                (None, 50)                20200     \n",
      "_________________________________________________________________\n",
      "dense_2 (Dense)              (None, 3)                 153       \n",
      "=================================================================\n",
      "Total params: 976,953\n",
      "Trainable params: 50,553\n",
      "Non-trainable params: 926,400\n",
      "_________________________________________________________________\n"
     ]
    },
    {
     "data": {
      "text/plain": [
       "None"
      ]
     },
     "metadata": {},
     "output_type": "display_data"
    },
    {
     "name": "stdout",
     "output_type": "stream",
     "text": [
      "Epoch 1/50\n",
      "179/179 [==============================] - 9s 48ms/step - loss: 1.0352 - accuracy: 0.4388 - val_loss: 0.9312 - val_accuracy: 0.5364\n",
      "Epoch 2/50\n",
      "179/179 [==============================] - 8s 45ms/step - loss: 0.8837 - accuracy: 0.5350 - val_loss: 0.9127 - val_accuracy: 0.5343\n",
      "Epoch 3/50\n",
      "179/179 [==============================] - 8s 45ms/step - loss: 0.7652 - accuracy: 0.6007 - val_loss: 0.8884 - val_accuracy: 0.5552\n",
      "Epoch 4/50\n",
      "179/179 [==============================] - 8s 45ms/step - loss: 0.6395 - accuracy: 0.6570 - val_loss: 0.9154 - val_accuracy: 0.5399\n",
      "Epoch 5/50\n",
      "179/179 [==============================] - 8s 45ms/step - loss: 0.5576 - accuracy: 0.6898 - val_loss: 0.8635 - val_accuracy: 0.5965\n",
      "Epoch 6/50\n",
      "179/179 [==============================] - 8s 46ms/step - loss: 0.4611 - accuracy: 0.7310 - val_loss: 0.9619 - val_accuracy: 0.5755\n",
      "Epoch 7/50\n",
      "179/179 [==============================] - 8s 45ms/step - loss: 0.4220 - accuracy: 0.7604 - val_loss: 0.9390 - val_accuracy: 0.5993\n",
      "Epoch 8/50\n",
      "179/179 [==============================] - 9s 50ms/step - loss: 0.3723 - accuracy: 0.7807 - val_loss: 1.0257 - val_accuracy: 0.5811\n"
     ]
    }
   ],
   "source": [
    "def make_model_w2v(wv):\n",
    "    model=Sequential()\n",
    "    \n",
    "    model.add(wv.get_keras_embedding())\n",
    "    model.add(LSTM(50,return_sequences=True))\n",
    "#     model.add(LSTM(25,return_sequences=False))\n",
    "\n",
    "    model.add(LSTM(50,return_sequences=False,recurrent_dropout=0.3))\n",
    "#     model.add(Dense(50,activation='relu',kernel_regularizer=regularizers.l2(0.01)))\n",
    "#     model.add(Dropout(0.3))\n",
    "    model.add(Dense(3, activation='softmax'))\n",
    "    \n",
    "    model.compile(loss='categorical_crossentropy',optimizer='adam',metrics=['accuracy'])\n",
    "    display(model.summary())\n",
    "    return model\n",
    "model = make_model_w2v(wv)\n",
    "history = model.fit(X_train_seq, y_train_seq, epochs=50,batch_size=32, validation_split = 0.2, callbacks=get_earlystop(),class_weight=weights_dict)"
   ]
  },
  {
   "cell_type": "code",
   "execution_count": 41,
   "metadata": {
    "ExecuteTime": {
     "end_time": "2021-01-13T17:14:53.810106Z",
     "start_time": "2021-01-13T17:14:51.975103Z"
    }
   },
   "outputs": [
    {
     "name": "stdout",
     "output_type": "stream",
     "text": [
      "------------------------------------------------------------\n",
      "MODEL ACCURACY\n",
      "------------------------------------------------------------\n",
      "TESTING ACCURACY: 57.33%\n",
      "------------------------------------------------------------\n",
      "CLASSIFICATION REPORT\n",
      "------------------------------------------------------------\n",
      "              precision    recall  f1-score   support\n",
      "\n",
      "           0       0.18      0.40      0.25       105\n",
      "           1       0.50      0.54      0.52       615\n",
      "           2       0.73      0.61      0.66      1068\n",
      "\n",
      "    accuracy                           0.57      1788\n",
      "   macro avg       0.47      0.52      0.48      1788\n",
      "weighted avg       0.62      0.57      0.59      1788\n",
      "\n",
      "------------------------------------------------------------\n",
      "\n",
      "\n"
     ]
    },
    {
     "data": {
      "image/png": "[encoded data removed]",
      "text/plain": [
       "<Figure size 1080x360 with 4 Axes>"
      ]
     },
     "metadata": {
      "needs_background": "light"
     },
     "output_type": "display_data"
    }
   ],
   "source": [
    "y_hat_test = model.predict(X_test_seq).argmax(axis=1)\n",
    "model_eval_2(y_test,y_hat_test,classes=[0,1,2])"
   ]
  }
 ],
 "metadata": {
  "kernelspec": {
   "display_name": "Python [conda env:learn-env] *",
   "language": "python",
   "name": "conda-env-learn-env-py"
  },
  "language_info": {
   "codemirror_mode": {
    "name": "ipython",
    "version": 3
   },
   "file_extension": ".py",
   "mimetype": "text/x-python",
   "name": "python",
   "nbconvert_exporter": "python",
   "pygments_lexer": "ipython3",
   "version": "3.6.9"
  },
  "toc": {
   "base_numbering": 1,
   "nav_menu": {},
   "number_sections": true,
   "sideBar": true,
   "skip_h1_title": false,
   "title_cell": "Table of Contents",
   "title_sidebar": "Contents",
   "toc_cell": false,
   "toc_position": {},
   "toc_section_display": true,
   "toc_window_display": false
  }
 },
 "nbformat": 4,
 "nbformat_minor": 2
}
