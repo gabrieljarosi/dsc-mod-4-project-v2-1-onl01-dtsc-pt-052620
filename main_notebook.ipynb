{
 "cells": [
  {
   "cell_type": "code",
   "execution_count": 1,
   "metadata": {
    "ExecuteTime": {
     "end_time": "2021-01-13T03:11:08.035626Z",
     "start_time": "2021-01-13T03:11:02.566109Z"
    }
   },
   "outputs": [
    {
     "name": "stderr",
     "output_type": "stream",
     "text": [
      "[nltk_data] Downloading package stopwords to\n",
      "[nltk_data]     C:\\Users\\Biel_\\AppData\\Roaming\\nltk_data...\n",
      "[nltk_data]   Package stopwords is already up-to-date!\n",
      "[nltk_data] Downloading package wordnet to\n",
      "[nltk_data]     C:\\Users\\Biel_\\AppData\\Roaming\\nltk_data...\n",
      "[nltk_data]   Package wordnet is already up-to-date!\n",
      "[nltk_data] Downloading package punkt to\n",
      "[nltk_data]     C:\\Users\\Biel_\\AppData\\Roaming\\nltk_data...\n",
      "[nltk_data]   Package punkt is already up-to-date!\n"
     ]
    }
   ],
   "source": [
    "import pandas as pd\n",
    "from nltk import word_tokenize\n",
    "from gensim.models import word2vec\n",
    "from nltk import FreqDist\n",
    "from nltk.corpus import stopwords\n",
    "import string\n",
    "from sklearn.model_selection import train_test_split\n",
    "import nltk\n",
    "from sklearn.feature_extraction.text import TfidfVectorizer,CountVectorizer\n",
    "from sklearn.ensemble import RandomForestClassifier\n",
    "from sklearn import metrics\n",
    "from sklearn.metrics import accuracy_score\n",
    "from sklearn.preprocessing import label_binarize\n",
    "from sklearn.model_selection import GridSearchCV\n",
    "\n",
    "from nltk.stem.wordnet import WordNetLemmatizer\n",
    "from sklearn.pipeline import Pipeline\n",
    "from sklearn.feature_extraction.text import CountVectorizer,TfidfTransformer \n",
    "from sklearn.naive_bayes import MultinomialNB\n",
    "\n",
    "from gensim.models import Word2Vec\n",
    "from gensim.utils import simple_preprocess\n",
    "\n",
    "import numpy as np\n",
    "\n",
    "import seaborn as sns\n",
    "\n",
    "from sklearn.metrics import confusion_matrix\n",
    "import itertools\n",
    "\n",
    "from tensorflow.keras.layers import Input,Dense,LSTM,Embedding\n",
    "from tensorflow.keras.layers import Dropout, Activation, Bidirectional, GlobalMaxPool1D, GRU\n",
    "from tensorflow.keras.models import Sequential\n",
    "from tensorflow.keras import initializers, regularizers, constraints, optimizers, layers\n",
    "from tensorflow.keras.callbacks import EarlyStopping,ModelCheckpoint\n",
    "\n",
    "from tensorflow.keras.preprocessing import text,sequence\n",
    "from tensorflow.keras.utils import to_categorical\n",
    "\n",
    "\n",
    "import nltk\n",
    "nltk.download('stopwords')\n",
    "nltk.download('wordnet')\n",
    "nltk.download('punkt')\n",
    "\n",
    "import matplotlib.pyplot as plt"
   ]
  },
  {
   "cell_type": "code",
   "execution_count": 2,
   "metadata": {
    "ExecuteTime": {
     "end_time": "2021-01-13T03:11:08.099975Z",
     "start_time": "2021-01-13T03:11:08.037593Z"
    }
   },
   "outputs": [
    {
     "data": {
      "text/html": [
       "<div>\n",
       "<style scoped>\n",
       "    .dataframe tbody tr th:only-of-type {\n",
       "        vertical-align: middle;\n",
       "    }\n",
       "\n",
       "    .dataframe tbody tr th {\n",
       "        vertical-align: top;\n",
       "    }\n",
       "\n",
       "    .dataframe thead th {\n",
       "        text-align: right;\n",
       "    }\n",
       "</style>\n",
       "<table border=\"1\" class=\"dataframe\">\n",
       "  <thead>\n",
       "    <tr style=\"text-align: right;\">\n",
       "      <th></th>\n",
       "      <th>tweet_text</th>\n",
       "      <th>emotion_in_tweet_is_directed_at</th>\n",
       "      <th>is_there_an_emotion_directed_at_a_brand_or_product</th>\n",
       "    </tr>\n",
       "  </thead>\n",
       "  <tbody>\n",
       "    <tr>\n",
       "      <th>0</th>\n",
       "      <td>.@wesley83 I have a 3G iPhone. After 3 hrs twe...</td>\n",
       "      <td>iPhone</td>\n",
       "      <td>Negative emotion</td>\n",
       "    </tr>\n",
       "    <tr>\n",
       "      <th>1</th>\n",
       "      <td>@jessedee Know about @fludapp ? Awesome iPad/i...</td>\n",
       "      <td>iPad or iPhone App</td>\n",
       "      <td>Positive emotion</td>\n",
       "    </tr>\n",
       "    <tr>\n",
       "      <th>2</th>\n",
       "      <td>@swonderlin Can not wait for #iPad 2 also. The...</td>\n",
       "      <td>iPad</td>\n",
       "      <td>Positive emotion</td>\n",
       "    </tr>\n",
       "    <tr>\n",
       "      <th>3</th>\n",
       "      <td>@sxsw I hope this year's festival isn't as cra...</td>\n",
       "      <td>iPad or iPhone App</td>\n",
       "      <td>Negative emotion</td>\n",
       "    </tr>\n",
       "    <tr>\n",
       "      <th>4</th>\n",
       "      <td>@sxtxstate great stuff on Fri #SXSW: Marissa M...</td>\n",
       "      <td>Google</td>\n",
       "      <td>Positive emotion</td>\n",
       "    </tr>\n",
       "    <tr>\n",
       "      <th>...</th>\n",
       "      <td>...</td>\n",
       "      <td>...</td>\n",
       "      <td>...</td>\n",
       "    </tr>\n",
       "    <tr>\n",
       "      <th>9088</th>\n",
       "      <td>Ipad everywhere. #SXSW {link}</td>\n",
       "      <td>iPad</td>\n",
       "      <td>Positive emotion</td>\n",
       "    </tr>\n",
       "    <tr>\n",
       "      <th>9089</th>\n",
       "      <td>Wave, buzz... RT @mention We interrupt your re...</td>\n",
       "      <td>NaN</td>\n",
       "      <td>No emotion toward brand or product</td>\n",
       "    </tr>\n",
       "    <tr>\n",
       "      <th>9090</th>\n",
       "      <td>Google's Zeiger, a physician never reported po...</td>\n",
       "      <td>NaN</td>\n",
       "      <td>No emotion toward brand or product</td>\n",
       "    </tr>\n",
       "    <tr>\n",
       "      <th>9091</th>\n",
       "      <td>Some Verizon iPhone customers complained their...</td>\n",
       "      <td>NaN</td>\n",
       "      <td>No emotion toward brand or product</td>\n",
       "    </tr>\n",
       "    <tr>\n",
       "      <th>9092</th>\n",
       "      <td>Ï¡Ïàü_ÊÎÒ£Áââ_£â_ÛâRT @...</td>\n",
       "      <td>NaN</td>\n",
       "      <td>No emotion toward brand or product</td>\n",
       "    </tr>\n",
       "  </tbody>\n",
       "</table>\n",
       "<p>9093 rows × 3 columns</p>\n",
       "</div>"
      ],
      "text/plain": [
       "                                             tweet_text  \\\n",
       "0     .@wesley83 I have a 3G iPhone. After 3 hrs twe...   \n",
       "1     @jessedee Know about @fludapp ? Awesome iPad/i...   \n",
       "2     @swonderlin Can not wait for #iPad 2 also. The...   \n",
       "3     @sxsw I hope this year's festival isn't as cra...   \n",
       "4     @sxtxstate great stuff on Fri #SXSW: Marissa M...   \n",
       "...                                                 ...   \n",
       "9088                      Ipad everywhere. #SXSW {link}   \n",
       "9089  Wave, buzz... RT @mention We interrupt your re...   \n",
       "9090  Google's Zeiger, a physician never reported po...   \n",
       "9091  Some Verizon iPhone customers complained their...   \n",
       "9092  Ï¡Ïàü_ÊÎÒ£Áââ_£â_ÛâRT @...   \n",
       "\n",
       "     emotion_in_tweet_is_directed_at  \\\n",
       "0                             iPhone   \n",
       "1                 iPad or iPhone App   \n",
       "2                               iPad   \n",
       "3                 iPad or iPhone App   \n",
       "4                             Google   \n",
       "...                              ...   \n",
       "9088                            iPad   \n",
       "9089                             NaN   \n",
       "9090                             NaN   \n",
       "9091                             NaN   \n",
       "9092                             NaN   \n",
       "\n",
       "     is_there_an_emotion_directed_at_a_brand_or_product  \n",
       "0                                      Negative emotion  \n",
       "1                                      Positive emotion  \n",
       "2                                      Positive emotion  \n",
       "3                                      Negative emotion  \n",
       "4                                      Positive emotion  \n",
       "...                                                 ...  \n",
       "9088                                   Positive emotion  \n",
       "9089                 No emotion toward brand or product  \n",
       "9090                 No emotion toward brand or product  \n",
       "9091                 No emotion toward brand or product  \n",
       "9092                 No emotion toward brand or product  \n",
       "\n",
       "[9093 rows x 3 columns]"
      ]
     },
     "execution_count": 2,
     "metadata": {},
     "output_type": "execute_result"
    }
   ],
   "source": [
    "df = pd.read_csv('tweet_dataset.csv',encoding= 'unicode_escape')\n",
    "df"
   ]
  },
  {
   "cell_type": "code",
   "execution_count": 3,
   "metadata": {
    "ExecuteTime": {
     "end_time": "2021-01-13T03:11:08.131656Z",
     "start_time": "2021-01-13T03:11:08.102594Z"
    }
   },
   "outputs": [
    {
     "name": "stdout",
     "output_type": "stream",
     "text": [
      "No emotion toward brand or product    5389\n",
      "Positive emotion                      2978\n",
      "Negative emotion                       570\n",
      "I can't tell                           156\n",
      "Name: is_there_an_emotion_directed_at_a_brand_or_product, dtype: int64\n"
     ]
    },
    {
     "name": "stderr",
     "output_type": "stream",
     "text": [
      "C:\\Users\\Biel_\\anaconda3\\envs\\learn-env\\lib\\site-packages\\ipykernel_launcher.py:8: SettingWithCopyWarning: \n",
      "A value is trying to be set on a copy of a slice from a DataFrame.\n",
      "Try using .loc[row_indexer,col_indexer] = value instead\n",
      "\n",
      "See the caveats in the documentation: https://pandas.pydata.org/pandas-docs/stable/user_guide/indexing.html#returning-a-view-versus-a-copy\n",
      "  \n",
      "C:\\Users\\Biel_\\anaconda3\\envs\\learn-env\\lib\\site-packages\\pandas\\core\\frame.py:4174: SettingWithCopyWarning: \n",
      "A value is trying to be set on a copy of a slice from a DataFrame\n",
      "\n",
      "See the caveats in the documentation: https://pandas.pydata.org/pandas-docs/stable/user_guide/indexing.html#returning-a-view-versus-a-copy\n",
      "  errors=errors,\n",
      "C:\\Users\\Biel_\\anaconda3\\envs\\learn-env\\lib\\site-packages\\ipykernel_launcher.py:18: SettingWithCopyWarning: \n",
      "A value is trying to be set on a copy of a slice from a DataFrame\n",
      "\n",
      "See the caveats in the documentation: https://pandas.pydata.org/pandas-docs/stable/user_guide/indexing.html#returning-a-view-versus-a-copy\n"
     ]
    },
    {
     "data": {
      "text/html": [
       "<div>\n",
       "<style scoped>\n",
       "    .dataframe tbody tr th:only-of-type {\n",
       "        vertical-align: middle;\n",
       "    }\n",
       "\n",
       "    .dataframe tbody tr th {\n",
       "        vertical-align: top;\n",
       "    }\n",
       "\n",
       "    .dataframe thead th {\n",
       "        text-align: right;\n",
       "    }\n",
       "</style>\n",
       "<table border=\"1\" class=\"dataframe\">\n",
       "  <thead>\n",
       "    <tr style=\"text-align: right;\">\n",
       "      <th></th>\n",
       "      <th>tweet_text</th>\n",
       "      <th>is_there_an_emotion_directed_at_a_brand_or_product</th>\n",
       "    </tr>\n",
       "  </thead>\n",
       "  <tbody>\n",
       "    <tr>\n",
       "      <th>0</th>\n",
       "      <td>.@wesley83 I have a 3G iPhone. After 3 hrs twe...</td>\n",
       "      <td>Negative emotion</td>\n",
       "    </tr>\n",
       "    <tr>\n",
       "      <th>1</th>\n",
       "      <td>@jessedee Know about @fludapp ? Awesome iPad/i...</td>\n",
       "      <td>Positive emotion</td>\n",
       "    </tr>\n",
       "    <tr>\n",
       "      <th>2</th>\n",
       "      <td>@swonderlin Can not wait for #iPad 2 also. The...</td>\n",
       "      <td>Positive emotion</td>\n",
       "    </tr>\n",
       "    <tr>\n",
       "      <th>3</th>\n",
       "      <td>@sxsw I hope this year's festival isn't as cra...</td>\n",
       "      <td>Negative emotion</td>\n",
       "    </tr>\n",
       "    <tr>\n",
       "      <th>4</th>\n",
       "      <td>@sxtxstate great stuff on Fri #SXSW: Marissa M...</td>\n",
       "      <td>Positive emotion</td>\n",
       "    </tr>\n",
       "    <tr>\n",
       "      <th>...</th>\n",
       "      <td>...</td>\n",
       "      <td>...</td>\n",
       "    </tr>\n",
       "    <tr>\n",
       "      <th>9088</th>\n",
       "      <td>Ipad everywhere. #SXSW {link}</td>\n",
       "      <td>Positive emotion</td>\n",
       "    </tr>\n",
       "    <tr>\n",
       "      <th>9089</th>\n",
       "      <td>Wave, buzz... RT @mention We interrupt your re...</td>\n",
       "      <td>No emotion</td>\n",
       "    </tr>\n",
       "    <tr>\n",
       "      <th>9090</th>\n",
       "      <td>Google's Zeiger, a physician never reported po...</td>\n",
       "      <td>No emotion</td>\n",
       "    </tr>\n",
       "    <tr>\n",
       "      <th>9091</th>\n",
       "      <td>Some Verizon iPhone customers complained their...</td>\n",
       "      <td>No emotion</td>\n",
       "    </tr>\n",
       "    <tr>\n",
       "      <th>9092</th>\n",
       "      <td>Ï¡Ïàü_ÊÎÒ£Áââ_£â_ÛâRT @...</td>\n",
       "      <td>No emotion</td>\n",
       "    </tr>\n",
       "  </tbody>\n",
       "</table>\n",
       "<p>8936 rows × 2 columns</p>\n",
       "</div>"
      ],
      "text/plain": [
       "                                             tweet_text  \\\n",
       "0     .@wesley83 I have a 3G iPhone. After 3 hrs twe...   \n",
       "1     @jessedee Know about @fludapp ? Awesome iPad/i...   \n",
       "2     @swonderlin Can not wait for #iPad 2 also. The...   \n",
       "3     @sxsw I hope this year's festival isn't as cra...   \n",
       "4     @sxtxstate great stuff on Fri #SXSW: Marissa M...   \n",
       "...                                                 ...   \n",
       "9088                      Ipad everywhere. #SXSW {link}   \n",
       "9089  Wave, buzz... RT @mention We interrupt your re...   \n",
       "9090  Google's Zeiger, a physician never reported po...   \n",
       "9091  Some Verizon iPhone customers complained their...   \n",
       "9092  Ï¡Ïàü_ÊÎÒ£Áââ_£â_ÛâRT @...   \n",
       "\n",
       "     is_there_an_emotion_directed_at_a_brand_or_product  \n",
       "0                                      Negative emotion  \n",
       "1                                      Positive emotion  \n",
       "2                                      Positive emotion  \n",
       "3                                      Negative emotion  \n",
       "4                                      Positive emotion  \n",
       "...                                                 ...  \n",
       "9088                                   Positive emotion  \n",
       "9089                                         No emotion  \n",
       "9090                                         No emotion  \n",
       "9091                                         No emotion  \n",
       "9092                                         No emotion  \n",
       "\n",
       "[8936 rows x 2 columns]"
      ]
     },
     "execution_count": 3,
     "metadata": {},
     "output_type": "execute_result"
    }
   ],
   "source": [
    "#CHECKING EMOTION UNIQUE VALUES AND VALUE COUNTS\n",
    "print(df['is_there_an_emotion_directed_at_a_brand_or_product'].value_counts())\n",
    "\n",
    "#DROPPING COLUMNS 'I CAN'T TELL' AND NO EMOTION TOWARD BRAND BECAUSE WANT TO MAKE A BINARY CLASSIFICATION\n",
    "df = df[(df['is_there_an_emotion_directed_at_a_brand_or_product'] != \"I can't tell\")] #& (df['is_there_an_emotion_directed_at_a_brand_or_product'] != 'No emotion toward brand or product')]\n",
    "\n",
    "#CHANGING NO EMOTION TOWARD BRAND OR PRODUCT TO NO EMOTION\n",
    "df['is_there_an_emotion_directed_at_a_brand_or_product'] = df['is_there_an_emotion_directed_at_a_brand_or_product'].replace({'No emotion toward brand or product':'No emotion'})\n",
    "\n",
    "# #TURNING EMOTION COLUMN INTO BINARY\n",
    "# df['Positive_emotion'] = (df['is_there_an_emotion_directed_at_a_brand_or_product']=='Positive emotion').astype(int)\n",
    "# print(df['Positive_emotion'].value_counts(1))\n",
    "\n",
    "#DROPPING UNNEEDED COLUMNS\n",
    "df.drop(['emotion_in_tweet_is_directed_at'],axis=1,inplace=True)\n",
    "\n",
    "#DROPPING THE 1 NULL VALUE IN COLUMN TWEET_TEXT\n",
    "df.dropna(inplace=True)\n",
    "\n",
    "df"
   ]
  },
  {
   "cell_type": "code",
   "execution_count": 4,
   "metadata": {
    "ExecuteTime": {
     "end_time": "2021-01-13T03:11:08.147590Z",
     "start_time": "2021-01-13T03:11:08.132591Z"
    }
   },
   "outputs": [],
   "source": [
    "stopwords_list = stopwords.words('english')\n",
    "\n",
    "# Add punctuation to stopwords_list\n",
    "stopwords_list.extend(string.punctuation)\n",
    "\n",
    "# Add the additional Tweet Punctuation below to stopwords_list\n",
    "additional_punc = ['“','”','...',\"''\",'’','``']\n",
    "stopwords_list.extend(additional_punc)"
   ]
  },
  {
   "cell_type": "markdown",
   "metadata": {
    "ExecuteTime": {
     "end_time": "2021-01-10T22:35:31.361544Z",
     "start_time": "2021-01-10T22:35:31.346599Z"
    }
   },
   "source": [
    "# VANILLA RANDOM FORREST"
   ]
  },
  {
   "cell_type": "code",
   "execution_count": 5,
   "metadata": {
    "ExecuteTime": {
     "end_time": "2021-01-13T03:11:08.163634Z",
     "start_time": "2021-01-13T03:11:08.149591Z"
    }
   },
   "outputs": [],
   "source": [
    "rf = RandomForestClassifier(class_weight='balanced')"
   ]
  },
  {
   "cell_type": "code",
   "execution_count": 6,
   "metadata": {
    "ExecuteTime": {
     "end_time": "2021-01-13T03:11:08.179656Z",
     "start_time": "2021-01-13T03:11:08.165594Z"
    }
   },
   "outputs": [
    {
     "data": {
      "text/plain": [
       "0       .@wesley83 I have a 3G iPhone. After 3 hrs twe...\n",
       "1       @jessedee Know about @fludapp ? Awesome iPad/i...\n",
       "2       @swonderlin Can not wait for #iPad 2 also. The...\n",
       "3       @sxsw I hope this year's festival isn't as cra...\n",
       "4       @sxtxstate great stuff on Fri #SXSW: Marissa M...\n",
       "                              ...                        \n",
       "9088                        Ipad everywhere. #SXSW {link}\n",
       "9089    Wave, buzz... RT @mention We interrupt your re...\n",
       "9090    Google's Zeiger, a physician never reported po...\n",
       "9091    Some Verizon iPhone customers complained their...\n",
       "9092    Ï¡Ïàü_ÊÎÒ£Áââ_£â_ÛâRT @...\n",
       "Name: tweet_text, Length: 8936, dtype: object"
      ]
     },
     "execution_count": 6,
     "metadata": {},
     "output_type": "execute_result"
    }
   ],
   "source": [
    "# y=label_binarize(df['is_there_an_emotion_directed_at_a_brand_or_product'].copy(),\n",
    "#                  classes = ['Negative emotion','Positive emotion','No emotion toward brand or product'])\n",
    "y = df['is_there_an_emotion_directed_at_a_brand_or_product'].copy()\n",
    "X=df['tweet_text'].copy()\n",
    "X"
   ]
  },
  {
   "cell_type": "code",
   "execution_count": 7,
   "metadata": {
    "ExecuteTime": {
     "end_time": "2021-01-13T03:11:08.195638Z",
     "start_time": "2021-01-13T03:11:08.184593Z"
    }
   },
   "outputs": [],
   "source": [
    "#TRAIN TEST SPLIT\n",
    "X_train, X_test, y_train, y_test = train_test_split(X,y, test_size=0.2,\n",
    "                                                    random_state=69)"
   ]
  },
  {
   "cell_type": "code",
   "execution_count": 8,
   "metadata": {
    "ExecuteTime": {
     "end_time": "2021-01-13T03:11:08.211593Z",
     "start_time": "2021-01-13T03:11:08.198593Z"
    }
   },
   "outputs": [
    {
     "data": {
      "text/plain": [
       "No emotion          0.597790\n",
       "Positive emotion    0.336598\n",
       "Negative emotion    0.065613\n",
       "Name: is_there_an_emotion_directed_at_a_brand_or_product, dtype: float64"
      ]
     },
     "execution_count": 8,
     "metadata": {},
     "output_type": "execute_result"
    }
   ],
   "source": [
    "# Check y_train and y_test value counts\n",
    "\n",
    "y_train.value_counts(1)"
   ]
  },
  {
   "cell_type": "code",
   "execution_count": 9,
   "metadata": {
    "ExecuteTime": {
     "end_time": "2021-01-13T03:11:08.226619Z",
     "start_time": "2021-01-13T03:11:08.213594Z"
    }
   },
   "outputs": [
    {
     "data": {
      "text/plain": [
       "<nltk.tokenize.casual.TweetTokenizer at 0x1453b573f28>"
      ]
     },
     "execution_count": 9,
     "metadata": {},
     "output_type": "execute_result"
    }
   ],
   "source": [
    "tokenizer = nltk.TweetTokenizer(preserve_case=False)\n",
    "tokenizer"
   ]
  },
  {
   "cell_type": "code",
   "execution_count": 10,
   "metadata": {
    "ExecuteTime": {
     "end_time": "2021-01-13T03:11:09.001591Z",
     "start_time": "2021-01-13T03:11:08.228591Z"
    }
   },
   "outputs": [
    {
     "data": {
      "text/plain": [
       "<7148x9320 sparse matrix of type '<class 'numpy.float64'>'\n",
       "\twith 85601 stored elements in Compressed Sparse Row format>"
      ]
     },
     "execution_count": 10,
     "metadata": {},
     "output_type": "execute_result"
    }
   ],
   "source": [
    "## Make a TfIdf Vectorizer using tweet tokenizer's .tokenize method\n",
    "vectorizer = TfidfVectorizer(tokenizer=tokenizer.tokenize,\n",
    "                            stop_words=stopwords_list)\n",
    "\n",
    "# Vectorize data and make X_train_tfidf and X_test_tfidf\n",
    "X_train_tfidf = vectorizer.fit_transform(X_train)\n",
    "X_test_tfidf = vectorizer.transform(X_test)\n",
    "X_train_tfidf"
   ]
  },
  {
   "cell_type": "code",
   "execution_count": 11,
   "metadata": {
    "ExecuteTime": {
     "end_time": "2021-01-13T03:11:09.017672Z",
     "start_time": "2021-01-13T03:11:09.003591Z"
    }
   },
   "outputs": [
    {
     "data": {
      "text/plain": [
       "9320"
      ]
     },
     "execution_count": 11,
     "metadata": {},
     "output_type": "execute_result"
    }
   ],
   "source": [
    "len(vectorizer.vocabulary_)"
   ]
  },
  {
   "cell_type": "code",
   "execution_count": 12,
   "metadata": {
    "ExecuteTime": {
     "end_time": "2021-01-13T03:11:09.033632Z",
     "start_time": "2021-01-13T03:11:09.019591Z"
    }
   },
   "outputs": [],
   "source": [
    "def model_eval(model,X_train,y_train,X_test,y_test,classes=None,\n",
    "                           normalize='true',cmap='Blues',label=''):\n",
    "\n",
    "#         \"\"\"Example function with PEP 484 type annotations.\n",
    "\n",
    "#         Args:\n",
    "#             model: The Model Classifier.\n",
    "#             X_train: X_train being used to fit model (could be scaled or not).\n",
    "#             y_train: y_train being used to fit model and to get train accuracy.\n",
    "#             X_test: X_test to get test predictions.\n",
    "#             y_test: y_test used to get test accuracy\n",
    "#             classes: Class labels\n",
    "#             normalize: set to true\n",
    "#             cmap: Color scheme for Confusion Matrix. Set to Blues\n",
    "#             label: Confusion Matrix Label\n",
    "\n",
    "#         Returns:\n",
    "#             Model Accuracy. Confusion Matrix, ROC Curve, and best params for GridSearch\n",
    "\n",
    "#     \"\"\"\n",
    "    \n",
    "    \n",
    "    #FITTING MODEL WITH TRAIN DATA\n",
    "    model.fit(X_train,y_train)   \n",
    "      \n",
    "    #GETTING TRAIN PREDICTIONS\n",
    "    y_hat_train = model.predict(X_train)\n",
    "    \n",
    "    #GETING TEST PREDICTIONS\n",
    "    y_hat_test = model.predict(X_test)\n",
    "    \n",
    "    dashes = '---'*20\n",
    "    \n",
    "    if isinstance(model,GridSearchCV):\n",
    "        grid_header = \"GRID SEARCH FOUND THE FOLLOWING OPTIMAL PARAMETERS: \"\n",
    "        print(dashes,grid_header,dashes,sep='\\n')\n",
    "        best_parameters = model.best_params_\n",
    "        for param_name in sorted(best_parameters.keys()):\n",
    "            print(\"%s: %r\" % (param_name, best_parameters[param_name]))\n",
    "    \n",
    "    #GETTING ACCURACY SCORE FOR TRAIN AND TEST\n",
    "    \n",
    "    if len(label)>0:\n",
    "        accuracy_header = f'{label} ACCURACY'\n",
    "    else:\n",
    "        accuracy_header = 'MODEL ACCURACY'\n",
    "    print(dashes,accuracy_header,dashes,sep='\\n')\n",
    "    training_accuracy = accuracy_score(y_train, y_hat_train)\n",
    "    testing_accuracy = accuracy_score(y_test, y_hat_test)\n",
    "    \n",
    "    print(f'TRAINING ACCURACY: {round(training_accuracy*100,2)}%')\n",
    "    print(f'TESTING ACCURACY: {round(testing_accuracy*100,2)}%')\n",
    "          \n",
    "    #CLASSIFICATION REPORT AND SCORES\n",
    "    test_header = \"CLASSIFICATION REPORT\"\n",
    "    \n",
    "    #ADDING LABEL IF GIVEN\n",
    "    if len(label)>0:\n",
    "        test_header += f\" USING {label}\"\n",
    "    \n",
    "    # PRINT CLASSIFICATION REPORT\n",
    "    \n",
    "    print(dashes,test_header,dashes,sep='\\n')\n",
    "\n",
    "    print(metrics.classification_report(y_test,y_hat_test,\n",
    "                                    target_names=classes))\n",
    "\n",
    "    print(dashes+\"\\n\\n\")\n",
    "    \n",
    "    \n",
    "\n",
    "    # MAKE FIGURE\n",
    "    fig, axes = plt.subplots(figsize=(10,10),ncols=1)\n",
    "   \n",
    "\n",
    "    # PLOTTING CONFUSION MATRIX \n",
    "    if isinstance(model,GridSearchCV):\n",
    "        metrics.plot_confusion_matrix(model.best_estimator_, X_test,y_test,\n",
    "                                      display_labels=classes,\n",
    "                                      normalize=normalize,\n",
    "                                     cmap=cmap,ax=axes,xticks_rotation=45)\n",
    "        axes.set(title='Confusion Matrix')\n",
    "    else:\n",
    "        metrics.plot_confusion_matrix(model, X_test,y_test,\n",
    "                                      display_labels=classes,\n",
    "                                      normalize=normalize,\n",
    "                                     cmap=cmap,ax=axes,xticks_rotation=45)\n",
    "        axes.set(title='Confusion Matrix')\n",
    "    \n",
    "    #PLOTTING ROC CURVE\n",
    "#     roc_plot = metrics.plot_roc_curve(model, X_test, y_test,ax=axes[1])\n",
    "#     axes[1].legend()\n",
    "#     axes[1].plot([0,1],[0,1],ls=':')\n",
    "#     axes[1].grid()\n",
    "#     axes[1].set_title('Receiving Operator Characteristic (ROC) Curve') \n",
    "    fig.tight_layout()\n",
    "    plt.show()\n",
    "\n",
    "   "
   ]
  },
  {
   "cell_type": "code",
   "execution_count": 13,
   "metadata": {
    "ExecuteTime": {
     "end_time": "2021-01-13T03:11:16.183638Z",
     "start_time": "2021-01-13T03:11:09.035600Z"
    }
   },
   "outputs": [
    {
     "name": "stdout",
     "output_type": "stream",
     "text": [
      "------------------------------------------------------------\n",
      "MODEL ACCURACY\n",
      "------------------------------------------------------------\n",
      "TRAINING ACCURACY: 99.55%\n",
      "TESTING ACCURACY: 70.41%\n",
      "------------------------------------------------------------\n",
      "CLASSIFICATION REPORT\n",
      "------------------------------------------------------------\n",
      "                  precision    recall  f1-score   support\n",
      "\n",
      "Negative emotion       0.74      0.23      0.35       101\n",
      "      No emotion       0.72      0.88      0.79      1115\n",
      "Positive emotion       0.65      0.44      0.52       572\n",
      "\n",
      "        accuracy                           0.70      1788\n",
      "       macro avg       0.70      0.52      0.55      1788\n",
      "    weighted avg       0.70      0.70      0.68      1788\n",
      "\n",
      "------------------------------------------------------------\n",
      "\n",
      "\n"
     ]
    },
    {
     "data": {
      "image/png": "[encoded data removed]",
      "text/plain": [
       "<Figure size 720x720 with 2 Axes>"
      ]
     },
     "metadata": {
      "needs_background": "light"
     },
     "output_type": "display_data"
    }
   ],
   "source": [
    "## Evaluate Model using function\n",
    "model_eval(rf,X_train_tfidf,y_train,X_test_tfidf,y_test)"
   ]
  },
  {
   "cell_type": "code",
   "execution_count": 14,
   "metadata": {
    "ExecuteTime": {
     "end_time": "2021-01-13T03:11:16.515654Z",
     "start_time": "2021-01-13T03:11:16.184590Z"
    }
   },
   "outputs": [
    {
     "data": {
      "image/png": "[encoded data removed]",
      "text/plain": [
       "<Figure size 748.8x514.8 with 1 Axes>"
      ]
     },
     "metadata": {
      "needs_background": "light"
     },
     "output_type": "display_data"
    }
   ],
   "source": [
    "# Plot the top 30 most important features\n",
    "with plt.style.context('seaborn-talk'):\n",
    "\n",
    "    ## Get Feature Importance\n",
    "    importance = pd.Series(rf.feature_importances_,index=vectorizer.get_feature_names())\n",
    "\n",
    "    ## Sort values \n",
    "\n",
    "\n",
    "    ## Take the .tail 30 and plot kind='barh'\n",
    "    importance.sort_values().tail(30).plot(kind='barh')"
   ]
  },
  {
   "cell_type": "code",
   "execution_count": 15,
   "metadata": {
    "ExecuteTime": {
     "end_time": "2021-01-13T03:11:16.547608Z",
     "start_time": "2021-01-13T03:11:16.516592Z"
    }
   },
   "outputs": [
    {
     "data": {
      "text/plain": [
       "Pipeline(steps=[('text_pipe',\n",
       "                 Pipeline(steps=[('count_vectorizer', CountVectorizer()),\n",
       "                                 ('tf_transformer', TfidfTransformer())])),\n",
       "                ('clf', RandomForestClassifier(class_weight='balanced'))])"
      ]
     },
     "execution_count": 15,
     "metadata": {},
     "output_type": "execute_result"
    }
   ],
   "source": [
    "count_vect = CountVectorizer()\n",
    "tf_transform = TfidfTransformer(use_idf=True)\n",
    "lemmatizer = WordNetLemmatizer()\n",
    "\n",
    "text_pipe = Pipeline(steps=[                       \n",
    "    ('count_vectorizer',count_vect),\n",
    "    ('tf_transformer',tf_transform)])\n",
    "\n",
    "full_pipe = Pipeline(steps=[\n",
    "    ('text_pipe',text_pipe),\n",
    "    ('clf',RandomForestClassifier(class_weight='balanced'))\n",
    "])\n",
    "full_pipe"
   ]
  },
  {
   "cell_type": "code",
   "execution_count": 16,
   "metadata": {
    "ExecuteTime": {
     "end_time": "2021-01-13T03:11:16.562658Z",
     "start_time": "2021-01-13T03:11:16.549593Z"
    }
   },
   "outputs": [],
   "source": [
    "params = {'text_pipe__tf_transformer__use_idf':[True, False],\n",
    "         'text_pipe__count_vectorizer__tokenizer':[None,tokenizer.tokenize],\n",
    "          'text_pipe__count_vectorizer__preprocessor':[None,lemmatizer.lemmatize],\n",
    "         'text_pipe__count_vectorizer__stop_words':[None,stopwords_list],\n",
    "         'clf__criterion':['gini', 'entropy']}\n",
    "\n",
    "## Make and fit grid\n",
    "grid = GridSearchCV(full_pipe,params,cv=3)"
   ]
  },
  {
   "cell_type": "code",
   "execution_count": 17,
   "metadata": {
    "ExecuteTime": {
     "end_time": "2021-01-13T03:11:16.578660Z",
     "start_time": "2021-01-13T03:11:16.563659Z"
    }
   },
   "outputs": [],
   "source": [
    "# model_eval(grid,X_train,y_train,X_test,y_test)"
   ]
  },
  {
   "cell_type": "markdown",
   "metadata": {},
   "source": [
    "# DEEP NLP"
   ]
  },
  {
   "cell_type": "code",
   "execution_count": 18,
   "metadata": {
    "ExecuteTime": {
     "end_time": "2021-01-13T03:11:17.133729Z",
     "start_time": "2021-01-13T03:11:16.580663Z"
    }
   },
   "outputs": [
    {
     "name": "stdout",
     "output_type": "stream",
     "text": [
      ".@wesley83 I have a 3G iPhone. After 3 hrs tweeting at #RISE_Austin, it was dead!  I need to upgrade. Plugin stations at #SXSW.\n",
      "/n\n",
      "['wesley', 'have', 'iphone', 'after', 'hrs', 'tweeting', 'at', 'rise_austin', 'it', 'was', 'dead', 'need', 'to', 'upgrade', 'plugin', 'stations', 'at', 'sxsw']\n"
     ]
    }
   ],
   "source": [
    "#TRAINING WORD2VEC FROM FULL DF AND APPLYING SIMPLE PREPROCESSING\n",
    "lower_df=df['tweet_text'].map(lambda x: simple_preprocess(x.lower(),deacc=True,\n",
    "                                                         max_len=100))\n",
    "\n",
    "print(df['tweet_text'][0])\n",
    "print('/n')\n",
    "print(lower_df[0])"
   ]
  },
  {
   "cell_type": "code",
   "execution_count": 19,
   "metadata": {
    "ExecuteTime": {
     "end_time": "2021-01-13T03:11:19.358976Z",
     "start_time": "2021-01-13T03:11:17.135659Z"
    }
   },
   "outputs": [],
   "source": [
    "wv_model = Word2Vec(lower_df,size=100,window=5,min_count=1)"
   ]
  },
  {
   "cell_type": "code",
   "execution_count": 20,
   "metadata": {
    "ExecuteTime": {
     "end_time": "2021-01-13T03:11:27.683153Z",
     "start_time": "2021-01-13T03:11:19.361674Z"
    }
   },
   "outputs": [
    {
     "name": "stderr",
     "output_type": "stream",
     "text": [
      "WARNING: Logging before flag parsing goes to stderr.\n",
      "W0112 22:11:19.362678 22236 base_any2vec.py:1168] Effective 'alpha' higher than previous training cycles\n"
     ]
    },
    {
     "data": {
      "text/plain": [
       "(10555591, 15425100)"
      ]
     },
     "execution_count": 20,
     "metadata": {},
     "output_type": "execute_result"
    }
   ],
   "source": [
    "wv_model.train(lower_df,total_examples=wv_model.corpus_count,epochs=100)"
   ]
  },
  {
   "cell_type": "code",
   "execution_count": 21,
   "metadata": {
    "ExecuteTime": {
     "end_time": "2021-01-13T03:11:27.698154Z",
     "start_time": "2021-01-13T03:11:27.684153Z"
    }
   },
   "outputs": [
    {
     "data": {
      "text/plain": [
       "<gensim.models.keyedvectors.Word2VecKeyedVectors at 0x14541839160>"
      ]
     },
     "execution_count": 21,
     "metadata": {},
     "output_type": "execute_result"
    }
   ],
   "source": [
    "#GET KEYED VECTOR\n",
    "wv=wv_model.wv\n",
    "wv"
   ]
  },
  {
   "cell_type": "code",
   "execution_count": 22,
   "metadata": {
    "ExecuteTime": {
     "end_time": "2021-01-13T03:11:27.713157Z",
     "start_time": "2021-01-13T03:11:27.703157Z"
    }
   },
   "outputs": [
    {
     "data": {
      "text/plain": [
       "array([ 3.0026217e+00,  1.1995547e+00, -2.6427164e+00,  1.6952482e+00,\n",
       "       -2.2426353e-01, -1.0376961e+00,  7.8113660e-02, -1.8435597e-01,\n",
       "        2.2802997e+00,  5.3421230e+00,  2.0674175e-01, -3.1630781e-01,\n",
       "        3.1546357e+00, -7.9995614e-01,  6.4600885e-01, -6.1649263e-01,\n",
       "       -1.1272380e+00, -1.1589040e-01,  1.1794894e+00,  1.4469327e+00,\n",
       "        3.8190034e-01,  1.8925595e+00, -3.0104856e+00,  2.5696876e+00,\n",
       "        8.6372936e-01,  9.3197560e-01, -5.4916275e-01, -1.7553433e+00,\n",
       "       -6.5594039e+00,  7.2503708e-02,  2.3127542e-01,  2.4072509e+00,\n",
       "        1.1435697e+00, -2.7613900e+00,  2.0741196e+00, -2.9655516e+00,\n",
       "        2.2040132e-01,  2.7870636e+00,  2.2369611e+00, -1.4161615e+00,\n",
       "       -1.5973573e+00,  2.3801883e-01,  9.6712160e-01, -2.3788979e+00,\n",
       "        6.9877672e-01,  1.4574057e+00, -2.2083921e+00, -1.6420842e+00,\n",
       "        5.3989053e-01,  1.0348945e+00,  1.5004565e+00, -7.8491968e-01,\n",
       "        1.5348960e+00, -2.1946166e+00,  1.6340705e+00,  1.0526371e+00,\n",
       "       -2.1802921e+00,  2.1531465e+00, -2.3405689e-01,  1.6152346e+00,\n",
       "       -3.2777841e+00, -2.2059941e+00, -2.5221577e-03, -2.1581204e+00,\n",
       "       -7.6928222e-01,  2.4446719e+00, -1.0538334e+00, -3.0354311e+00,\n",
       "       -5.3257740e-01, -9.1502070e-01,  5.1995134e-01, -2.9314363e-01,\n",
       "        3.0767301e-01,  2.5817750e+00,  1.1258446e+00, -1.1314853e+00,\n",
       "       -1.3172030e+00,  3.0528742e-01, -8.3813852e-01,  5.6861800e-01,\n",
       "        3.3607287e+00,  5.8420169e-01,  2.8988826e+00, -1.0473510e+00,\n",
       "       -1.4181815e+00, -1.4714013e-01,  1.1153773e+00, -7.6359779e-01,\n",
       "       -4.0629587e+00, -1.2044616e+00,  3.8898504e+00, -7.5534427e-01,\n",
       "       -2.5241823e+00,  6.8721902e-01, -2.2649570e-01,  4.0229419e-01,\n",
       "       -8.0167055e-02,  1.0593484e-01, -1.4619117e+00, -9.8880482e-01],\n",
       "      dtype=float32)"
      ]
     },
     "execution_count": 22,
     "metadata": {},
     "output_type": "execute_result"
    }
   ],
   "source": [
    "wv['tweet']"
   ]
  },
  {
   "cell_type": "code",
   "execution_count": 23,
   "metadata": {
    "ExecuteTime": {
     "end_time": "2021-01-13T03:11:27.729155Z",
     "start_time": "2021-01-13T03:11:27.717156Z"
    }
   },
   "outputs": [
    {
     "data": {
      "text/plain": [
       "9264"
      ]
     },
     "execution_count": 23,
     "metadata": {},
     "output_type": "execute_result"
    }
   ],
   "source": [
    "len(wv.vocab)"
   ]
  },
  {
   "cell_type": "code",
   "execution_count": 24,
   "metadata": {
    "ExecuteTime": {
     "end_time": "2021-01-13T03:11:27.761155Z",
     "start_time": "2021-01-13T03:11:27.731156Z"
    }
   },
   "outputs": [
    {
     "data": {
      "text/plain": [
       "[('fastest', 0.3528936505317688),\n",
       " ('design', 0.33434322476387024),\n",
       " ('visualizing', 0.32526031136512756),\n",
       " ('excellent', 0.32126158475875854),\n",
       " ('rainbow', 0.3208981156349182),\n",
       " ('nice', 0.3076115846633911),\n",
       " ('fun', 0.30702686309814453),\n",
       " ('argh', 0.30472928285598755),\n",
       " ('ux', 0.301527202129364),\n",
       " ('removable', 0.28384095430374146)]"
      ]
     },
     "execution_count": 24,
     "metadata": {},
     "output_type": "execute_result"
    }
   ],
   "source": [
    "wv.most_similar('great')"
   ]
  },
  {
   "cell_type": "code",
   "execution_count": 25,
   "metadata": {
    "ExecuteTime": {
     "end_time": "2021-01-13T03:11:27.777153Z",
     "start_time": "2021-01-13T03:11:27.763154Z"
    }
   },
   "outputs": [],
   "source": [
    "# y=label_binarize(df['is_there_an_emotion_directed_at_a_brand_or_product'].copy(),\n",
    "#                  classes = ['Negative emotion','Positive emotion','No emotion toward brand or product'])\n",
    "y = df['is_there_an_emotion_directed_at_a_brand_or_product'].replace({'Negative emotion':0,\n",
    "                                                                     'Positive emotion':1,\n",
    "                                                                     'No emotion':2})\n",
    "X=df['tweet_text'].copy()"
   ]
  },
  {
   "cell_type": "code",
   "execution_count": 26,
   "metadata": {
    "ExecuteTime": {
     "end_time": "2021-01-13T03:11:27.792155Z",
     "start_time": "2021-01-13T03:11:27.778156Z"
    }
   },
   "outputs": [],
   "source": [
    "#TRAIN TEST SPLIT\n",
    "X_train, X_test, y_train, y_test = train_test_split(X,y, test_size=0.2,\n",
    "                                                    random_state=999)"
   ]
  },
  {
   "cell_type": "code",
   "execution_count": 27,
   "metadata": {
    "ExecuteTime": {
     "end_time": "2021-01-13T03:11:27.808154Z",
     "start_time": "2021-01-13T03:11:27.794154Z"
    }
   },
   "outputs": [
    {
     "name": "stderr",
     "output_type": "stream",
     "text": [
      "C:\\Users\\Biel_\\anaconda3\\envs\\learn-env\\lib\\site-packages\\sklearn\\utils\\validation.py:70: FutureWarning: Pass classes=[0 1 2], y=4777    2\n",
      "6112    2\n",
      "6010    2\n",
      "3318    2\n",
      "884     1\n",
      "       ..\n",
      "8554    2\n",
      "7713    2\n",
      "8562    1\n",
      "5936    1\n",
      "490     1\n",
      "Name: is_there_an_emotion_directed_at_a_brand_or_product, Length: 7148, dtype: int64 as keyword args. From version 0.25 passing these as positional arguments will result in an error\n",
      "  FutureWarning)\n"
     ]
    },
    {
     "data": {
      "text/plain": [
       "{0: 5.124014336917563, 1: 1.0083227535618564, 2: 0.5515432098765433}"
      ]
     },
     "execution_count": 27,
     "metadata": {},
     "output_type": "execute_result"
    }
   ],
   "source": [
    "from sklearn.utils.class_weight import compute_class_weight\n",
    "\n",
    "weights = compute_class_weight('balanced',np.unique(y_train),y_train)\n",
    "\n",
    "weights_dict = dict(zip(np.unique(y_train),weights))\n",
    "weights_dict"
   ]
  },
  {
   "cell_type": "code",
   "execution_count": 28,
   "metadata": {
    "ExecuteTime": {
     "end_time": "2021-01-13T03:11:27.823156Z",
     "start_time": "2021-01-13T03:11:27.809154Z"
    }
   },
   "outputs": [
    {
     "data": {
      "text/plain": [
       "(7148, 3)"
      ]
     },
     "execution_count": 28,
     "metadata": {},
     "output_type": "execute_result"
    }
   ],
   "source": [
    "#ONE HOT ENCODE\n",
    "y_train_seq=label_binarize(y_train,\n",
    "                 classes = [0,1,2])\n",
    "\n",
    "y_test_seq=label_binarize(y_test,\n",
    "                 classes = [0,1,2])\n",
    "y_train_seq.shape"
   ]
  },
  {
   "cell_type": "code",
   "execution_count": 29,
   "metadata": {
    "ExecuteTime": {
     "end_time": "2021-01-13T03:11:28.143540Z",
     "start_time": "2021-01-13T03:11:27.825155Z"
    }
   },
   "outputs": [],
   "source": [
    "#TOKENIZE TEXT\n",
    "MAX_WORDS=25000\n",
    "tokenizer = text.Tokenizer(num_words = MAX_WORDS)\n",
    "tokenizer.fit_on_texts(X_train)\n",
    "train_sequences = tokenizer.texts_to_sequences(X_train)\n",
    "test_sequences = tokenizer.texts_to_sequences(X_test)\n",
    "\n",
    "#FIND LONGEST SEQUENCE\n",
    "max(list(map(lambda x:len(x),[*train_sequences,*test_sequences])))\n",
    "\n",
    "MAX_SEQUENCE_LENGTH=40"
   ]
  },
  {
   "cell_type": "code",
   "execution_count": 30,
   "metadata": {
    "ExecuteTime": {
     "end_time": "2021-01-13T03:11:28.206190Z",
     "start_time": "2021-01-13T03:11:28.146154Z"
    }
   },
   "outputs": [
    {
     "data": {
      "text/plain": [
       "array([[   0,    0,    0, ...,   37,    4,    2],\n",
       "       [   0,    0,    0, ..., 2197,   78,  261],\n",
       "       [   0,    0,    0, ...,   26,  129,    4],\n",
       "       ...,\n",
       "       [   0,    0,    0, ...,   67,  229,    1],\n",
       "       [   0,    0,    0, ..., 1551,   96,    1],\n",
       "       [   0,    0,    0, ...,  244,  161, 9049]])"
      ]
     },
     "execution_count": 30,
     "metadata": {},
     "output_type": "execute_result"
    }
   ],
   "source": [
    "X_train_seq = sequence.pad_sequences(train_sequences,maxlen=MAX_SEQUENCE_LENGTH)\n",
    "\n",
    "X_test_seq = sequence.pad_sequences(test_sequences,maxlen=MAX_SEQUENCE_LENGTH)\n",
    "\n",
    "X_train_seq"
   ]
  },
  {
   "cell_type": "code",
   "execution_count": 31,
   "metadata": {
    "ExecuteTime": {
     "end_time": "2021-01-13T03:11:28.221153Z",
     "start_time": "2021-01-13T03:11:28.208188Z"
    }
   },
   "outputs": [
    {
     "data": {
      "text/plain": [
       "9049"
      ]
     },
     "execution_count": 31,
     "metadata": {},
     "output_type": "execute_result"
    }
   ],
   "source": [
    "len(tokenizer.index_word)"
   ]
  },
  {
   "cell_type": "code",
   "execution_count": 32,
   "metadata": {
    "ExecuteTime": {
     "end_time": "2021-01-13T03:11:28.237197Z",
     "start_time": "2021-01-13T03:11:28.222158Z"
    }
   },
   "outputs": [],
   "source": [
    "def get_earlystop(monitor='val_loss',patience=3, restore_best_weights=False):\n",
    "    \"\"\"\"\"\"\"\"\n",
    "    args = locals()\n",
    "    return EarlyStopping(**args)\n",
    "get_earlystop.__doc__+= EarlyStopping.__doc__"
   ]
  },
  {
   "cell_type": "code",
   "execution_count": 33,
   "metadata": {
    "ExecuteTime": {
     "end_time": "2021-01-13T03:12:36.339154Z",
     "start_time": "2021-01-13T03:11:28.240158Z"
    }
   },
   "outputs": [
    {
     "name": "stdout",
     "output_type": "stream",
     "text": [
      "Model: \"sequential\"\n",
      "_________________________________________________________________\n",
      "Layer (type)                 Output Shape              Param #   \n",
      "=================================================================\n",
      "embedding (Embedding)        (None, None, 128)         3200000   \n",
      "_________________________________________________________________\n",
      "lstm (LSTM)                  (None, None, 50)          35800     \n",
      "_________________________________________________________________\n",
      "lstm_1 (LSTM)                (None, 50)                20200     \n",
      "_________________________________________________________________\n",
      "dense (Dense)                (None, 50)                2550      \n",
      "_________________________________________________________________\n",
      "dropout (Dropout)            (None, 50)                0         \n",
      "_________________________________________________________________\n",
      "dense_1 (Dense)              (None, 3)                 153       \n",
      "=================================================================\n",
      "Total params: 3,258,703\n",
      "Trainable params: 3,258,703\n",
      "Non-trainable params: 0\n",
      "_________________________________________________________________\n"
     ]
    },
    {
     "data": {
      "text/plain": [
       "None"
      ]
     },
     "metadata": {},
     "output_type": "display_data"
    },
    {
     "name": "stdout",
     "output_type": "stream",
     "text": [
      "Epoch 1/50\n",
      "157/157 [==============================] - 11s 67ms/step - loss: 1.2849 - accuracy: 0.4000 - val_loss: 0.9760 - val_accuracy: 0.5678\n",
      "Epoch 2/50\n",
      "157/157 [==============================] - 10s 65ms/step - loss: 0.8429 - accuracy: 0.6478 - val_loss: 0.8808 - val_accuracy: 0.6275\n",
      "Epoch 3/50\n",
      "157/157 [==============================] - 11s 70ms/step - loss: 0.5120 - accuracy: 0.7817 - val_loss: 0.8717 - val_accuracy: 0.6326\n",
      "Epoch 4/50\n",
      "157/157 [==============================] - 11s 70ms/step - loss: 0.3630 - accuracy: 0.8453 - val_loss: 0.9308 - val_accuracy: 0.6392\n",
      "Epoch 5/50\n",
      "157/157 [==============================] - 11s 69ms/step - loss: 0.2978 - accuracy: 0.8777 - val_loss: 1.0404 - val_accuracy: 0.6331\n",
      "Epoch 6/50\n",
      "157/157 [==============================] - 11s 69ms/step - loss: 0.2515 - accuracy: 0.8943 - val_loss: 1.0344 - val_accuracy: 0.6583\n"
     ]
    }
   ],
   "source": [
    "def make_model(EMBEDDING_SIZE=128):\n",
    "    model=Sequential()\n",
    "    model.add(Embedding(MAX_WORDS,EMBEDDING_SIZE))\n",
    "    model.add(LSTM(50,return_sequences=True))\n",
    "#     model.add(LSTM(25,return_sequences=False))\n",
    "\n",
    "    model.add(LSTM(50,return_sequences=False,recurrent_dropout=0.3))\n",
    "    model.add(Dense(50,activation='relu',kernel_regularizer=regularizers.l2(0.01)))\n",
    "    model.add(Dropout(0.3))\n",
    "    model.add(Dense(3, activation='softmax'))\n",
    "    \n",
    "    model.compile(loss='categorical_crossentropy',optimizer='adam',metrics=['accuracy'])\n",
    "    display(model.summary())\n",
    "    return model\n",
    "model = make_model()\n",
    "history = model.fit(X_train_seq, y_train_seq, epochs=50,batch_size=32, \n",
    "                    validation_split = 0.3, callbacks=get_earlystop(),\n",
    "                   class_weight=weights_dict,workers=3)"
   ]
  },
  {
   "cell_type": "code",
   "execution_count": 34,
   "metadata": {
    "ExecuteTime": {
     "end_time": "2021-01-13T03:12:37.255154Z",
     "start_time": "2021-01-13T03:12:36.341156Z"
    }
   },
   "outputs": [
    {
     "data": {
      "text/plain": [
       "array([1, 1, 1, 1, 1], dtype=int64)"
      ]
     },
     "execution_count": 34,
     "metadata": {},
     "output_type": "execute_result"
    }
   ],
   "source": [
    "y_hat_test = model.predict(X_test_seq).argmax(axis=1)\n",
    "y_hat_test[:5]"
   ]
  },
  {
   "cell_type": "code",
   "execution_count": 35,
   "metadata": {
    "ExecuteTime": {
     "end_time": "2021-01-13T03:12:37.270154Z",
     "start_time": "2021-01-13T03:12:37.257155Z"
    }
   },
   "outputs": [],
   "source": [
    "# def plot_confusion_matrix( classes,\n",
    "#                         normalize=False,\n",
    "#                         title='Confusion matrix',\n",
    "#                         cmap=plt.cm.Blues,\n",
    "#                          ):\n",
    "#     \"\"\"\n",
    "#     This function prints and plots the confusion matrix.\n",
    "#     Normalization can be applied by setting `normalize=True`.\n",
    "#     \"\"\"\n",
    "#     print(metrics.classification_report(y_test,y_hat_test))\n",
    "#     print('\\n')\n",
    "    \n",
    "#     cm = confusion_matrix(y_true=y_test, y_pred=y_hat_test,normalize=normalize)\n",
    "    \n",
    "#     plt.imshow(cm, interpolation='nearest', cmap=cmap)\n",
    "#     plt.title(title)\n",
    "#     plt.colorbar(ax=ax)\n",
    "#     tick_marks = np.arange(len(classes))\n",
    "#     plt.xticks(tick_marks, classes, rotation=45)\n",
    "#     plt.yticks(tick_marks, classes)\n",
    "\n",
    "#     if normalize:\n",
    "#         cm = cm.astype('float') / cm.sum(axis=1)[:, np.newaxis]\n",
    "\n",
    "#     thresh = cm.max() / 2.\n",
    "#     for i, j in itertools.product(range(cm.shape[0]), range(cm.shape[1])):\n",
    "#         plt.text(j, i, round(cm[i, j],2),\n",
    "#             horizontalalignment=\"center\",\n",
    "#             color=\"white\" if cm[i, j] > thresh else \"black\")\n",
    "\n",
    "#     plt.tight_layout()\n",
    "#     plt.ylabel('True label')\n",
    "#     plt.xlabel('Predicted label')\n",
    "    \n",
    "    "
   ]
  },
  {
   "cell_type": "code",
   "execution_count": 36,
   "metadata": {
    "ExecuteTime": {
     "end_time": "2021-01-13T03:12:37.301165Z",
     "start_time": "2021-01-13T03:12:37.272158Z"
    }
   },
   "outputs": [],
   "source": [
    "def model_eval_2(y_test,y_hat_test,classes=None,\n",
    "                           normalize='true',cmap='Blues',label='',\n",
    "                           title='Confusion matrix'):\n",
    "\n",
    "#         \"\"\"Example function with PEP 484 type annotations.\n",
    "\n",
    "#         Args:\n",
    "#             model: The Model Classifier.\n",
    "#             X_train: X_train being used to fit model (could be scaled or not).\n",
    "#             y_train: y_train being used to fit model and to get train accuracy.\n",
    "#             X_test: X_test to get test predictions.\n",
    "#             y_test: y_test used to get test accuracy\n",
    "#             classes: Class labels\n",
    "#             normalize: set to true\n",
    "#             cmap: Color scheme for Confusion Matrix. Set to Blues\n",
    "#             label: Confusion Matrix Label\n",
    "\n",
    "#         Returns:\n",
    "#             Model Accuracy. Confusion Matrix, ROC Curve, and best params for GridSearch\n",
    "\n",
    "#     \"\"\"\n",
    "    \n",
    "    dashes = '---'*20\n",
    "\n",
    "    #GETTING ACCURACY SCORE FOR TRAIN AND TEST\n",
    "    \n",
    "    if len(label)>0:\n",
    "        accuracy_header = f'{label} ACCURACY'\n",
    "    else:\n",
    "        accuracy_header = 'MODEL ACCURACY'\n",
    "    print(dashes,accuracy_header,dashes,sep='\\n')\n",
    "#     training_accuracy = accuracy_score(y_train, y_hat_train)\n",
    "    testing_accuracy = accuracy_score(y_test, y_hat_test)\n",
    "    \n",
    "#     print(f'TRAINING ACCURACY: {round(training_accuracy*100,2)}%')\n",
    "    print(f'TESTING ACCURACY: {round(testing_accuracy*100,2)}%')\n",
    "          \n",
    "    #CLASSIFICATION REPORT AND SCORES\n",
    "    test_header = \"CLASSIFICATION REPORT\"\n",
    "    \n",
    "    #ADDING LABEL IF GIVEN\n",
    "    if len(label)>0:\n",
    "        test_header += f\" USING {label}\"\n",
    "    \n",
    "    # PRINT CLASSIFICATION REPORT\n",
    "    \n",
    "    print(dashes,test_header,dashes,sep='\\n')\n",
    "\n",
    "    print(metrics.classification_report(y_test,y_hat_test))#,\n",
    "#                                     target_names=classes))\n",
    "\n",
    "    print(dashes+\"\\n\\n\")\n",
    "        \n",
    "    # MAKE FIGURE\n",
    "    fig, axes = plt.subplots(figsize=(15,5),ncols=3)      \n",
    "   \n",
    "\n",
    "    # PLOTTING CONFUSION MATRIX \n",
    "\n",
    "    cm = confusion_matrix(y_true=y_test, y_pred=y_hat_test,normalize=normalize)\n",
    "    \n",
    "    plt.imshow(cm, interpolation='nearest', cmap=cmap)\n",
    "    plt.title(title)\n",
    "    plt.colorbar(ax=axes[2])\n",
    "    tick_marks = np.arange(len(classes))\n",
    "    plt.xticks(tick_marks, classes, rotation=45)\n",
    "    plt.yticks(tick_marks, classes)\n",
    "\n",
    "    if normalize:\n",
    "        cm = cm.astype('float') / cm.sum(axis=1)[:, np.newaxis]\n",
    "\n",
    "    thresh = cm.max() / 2.\n",
    "    for i, j in itertools.product(range(cm.shape[0]), range(cm.shape[1])):\n",
    "        plt.text(j, i, round(cm[i, j],2),\n",
    "            horizontalalignment=\"center\",\n",
    "            color=\"white\" if cm[i, j] > thresh else \"black\")\n",
    "\n",
    "    plt.tight_layout()\n",
    "    plt.ylabel('True label')\n",
    "    plt.xlabel('Predicted label')\n",
    "    \n",
    "    history_df = pd.DataFrame(history.history)\n",
    "#     plt.subplot(history_df[[col for col in history_df.columns if 'loss' in col]])\n",
    "\n",
    "    loss_df = history_df[[col for col in history_df.columns if 'loss' in col]]\n",
    "    loss_df = loss_df.reset_index()\n",
    "    \n",
    "    acc_df = history_df[[col for col in history_df.columns if 'acc' in col]]\n",
    "    acc_df = acc_df.reset_index()\n",
    "    \n",
    "    sns.lineplot(x='index',y='val_loss',data=loss_df,markers='o',ax=axes[0])\n",
    "    sns.lineplot(x='index',y='loss',data=loss_df,markers='o',ax=axes[0])\n",
    "    \n",
    "    sns.lineplot(x='index',y='val_accuracy',data=acc_df,markers='o',ax=axes[1])\n",
    "    sns.lineplot(x='index',y='accuracy',data=acc_df,markers='o',ax=axes[1])\n",
    "    \n",
    "    fig.tight_layout()\n",
    "    plt.show()\n",
    "\n",
    "   "
   ]
  },
  {
   "cell_type": "code",
   "execution_count": 37,
   "metadata": {
    "ExecuteTime": {
     "end_time": "2021-01-13T03:12:37.811154Z",
     "start_time": "2021-01-13T03:12:37.303154Z"
    }
   },
   "outputs": [
    {
     "name": "stdout",
     "output_type": "stream",
     "text": [
      "------------------------------------------------------------\n",
      "MODEL ACCURACY\n",
      "------------------------------------------------------------\n",
      "TESTING ACCURACY: 64.77%\n",
      "------------------------------------------------------------\n",
      "CLASSIFICATION REPORT\n",
      "------------------------------------------------------------\n",
      "              precision    recall  f1-score   support\n",
      "\n",
      "           0       0.28      0.34      0.31       105\n",
      "           1       0.58      0.53      0.56       615\n",
      "           2       0.72      0.74      0.73      1068\n",
      "\n",
      "    accuracy                           0.65      1788\n",
      "   macro avg       0.53      0.54      0.53      1788\n",
      "weighted avg       0.65      0.65      0.65      1788\n",
      "\n",
      "------------------------------------------------------------\n",
      "\n",
      "\n"
     ]
    },
    {
     "data": {
      "image/png": "[encoded data removed]",
      "text/plain": [
       "<Figure size 1080x360 with 4 Axes>"
      ]
     },
     "metadata": {
      "needs_background": "light"
     },
     "output_type": "display_data"
    }
   ],
   "source": [
    "model_eval_2(y_test,y_hat_test,classes=[0,1,2])"
   ]
  },
  {
   "cell_type": "code",
   "execution_count": 38,
   "metadata": {
    "ExecuteTime": {
     "end_time": "2021-01-13T03:12:37.827157Z",
     "start_time": "2021-01-13T03:12:37.812191Z"
    }
   },
   "outputs": [],
   "source": [
    "# from sklearn.metrics import confusion_matrix\n",
    "# import itertools\n",
    "\n",
    "# cm = confusion_matrix(y_true=y_test, y_pred=y_hat_test,normalize='true')\n",
    "\n",
    "# fig, axes = plt.subplots(figsize=(10,10),ncols=2)\n",
    "\n",
    "# print(metrics.classification_report(y_test,y_hat_test))\n",
    "# print('\\n')\n",
    "# history_df = pd.DataFrame(history.history)\n",
    "# history_df[[col for col in history_df.columns if 'loss' in col]].plot(marker='o')\n",
    "\n",
    "# plot_confusion_matrix(cm,classes=[0,1,2],normalize=True,ax=axes[1])"
   ]
  },
  {
   "cell_type": "code",
   "execution_count": 39,
   "metadata": {
    "ExecuteTime": {
     "end_time": "2021-01-13T03:12:37.843154Z",
     "start_time": "2021-01-13T03:12:37.829156Z"
    }
   },
   "outputs": [],
   "source": [
    "# from tensorflow.keras.layers import Embedding\n",
    "\n",
    "\n",
    "# #FUNCTION SOURCE >>> https://github.com/RaRe-Technologies/gensim/wiki/Using-Gensim-Embeddings-with-Keras-and-Tensorflow\n",
    "# def gensim_to_keras_embedding(model, train_embeddings=False):\n",
    "#     \"\"\"Get a Keras 'Embedding' layer with weights set from Word2Vec model's learned word embeddings.\n",
    "\n",
    "#     Parameters\n",
    "#     ----------\n",
    "#     train_embeddings : bool\n",
    "#         If False, the returned weights are frozen and stopped from being updated.\n",
    "#         If True, the weights can / will be further updated in Keras.\n",
    "\n",
    "#     Returns\n",
    "#     -------\n",
    "#     `keras.layers.Embedding`\n",
    "#         Embedding layer, to be used as input to deeper network layers.\n",
    "\n",
    "#     \"\"\"\n",
    "#     keyed_vectors = model.wv  # structure holding the result of training\n",
    "#     weights = keyed_vectors.vectors  # vectors themselves, a 2D numpy array    \n",
    "#     index_to_key = keyed_vectors.index2word  # which row in `weights` corresponds to which word?\n",
    "\n",
    "#     layer = Embedding(\n",
    "#         input_dim=weights.shape[0],\n",
    "#         output_dim=weights.shape[1],\n",
    "#         weights=[weights],\n",
    "#         trainable=train_embeddings,\n",
    "#     )\n",
    "#     return layer\n",
    "# gensim_to_keras_embedding(wv_model)"
   ]
  },
  {
   "cell_type": "code",
   "execution_count": 40,
   "metadata": {
    "ExecuteTime": {
     "end_time": "2021-01-13T03:13:47.011258Z",
     "start_time": "2021-01-13T03:12:37.844154Z"
    }
   },
   "outputs": [
    {
     "name": "stdout",
     "output_type": "stream",
     "text": [
      "Model: \"sequential_1\"\n",
      "_________________________________________________________________\n",
      "Layer (type)                 Output Shape              Param #   \n",
      "=================================================================\n",
      "embedding_1 (Embedding)      (None, None, 100)         926400    \n",
      "_________________________________________________________________\n",
      "lstm_2 (LSTM)                (None, None, 50)          30200     \n",
      "_________________________________________________________________\n",
      "lstm_3 (LSTM)                (None, 50)                20200     \n",
      "_________________________________________________________________\n",
      "dense_2 (Dense)              (None, 50)                2550      \n",
      "_________________________________________________________________\n",
      "dropout_1 (Dropout)          (None, 50)                0         \n",
      "_________________________________________________________________\n",
      "dense_3 (Dense)              (None, 3)                 153       \n",
      "=================================================================\n",
      "Total params: 979,503\n",
      "Trainable params: 53,103\n",
      "Non-trainable params: 926,400\n",
      "_________________________________________________________________\n"
     ]
    },
    {
     "data": {
      "text/plain": [
       "None"
      ]
     },
     "metadata": {},
     "output_type": "display_data"
    },
    {
     "name": "stdout",
     "output_type": "stream",
     "text": [
      "Epoch 1/50\n",
      "179/179 [==============================] - 9s 48ms/step - loss: 1.3222 - accuracy: 0.4384 - val_loss: 1.2230 - val_accuracy: 0.4175\n",
      "Epoch 2/50\n",
      "179/179 [==============================] - 8s 45ms/step - loss: 1.0146 - accuracy: 0.4904 - val_loss: 1.0371 - val_accuracy: 0.4601\n",
      "Epoch 3/50\n",
      "179/179 [==============================] - 8s 46ms/step - loss: 0.8707 - accuracy: 0.5560 - val_loss: 1.0008 - val_accuracy: 0.4888\n",
      "Epoch 4/50\n",
      "179/179 [==============================] - 8s 45ms/step - loss: 0.7508 - accuracy: 0.5978 - val_loss: 0.9440 - val_accuracy: 0.5573\n",
      "Epoch 5/50\n",
      "179/179 [==============================] - 8s 46ms/step - loss: 0.6828 - accuracy: 0.6350 - val_loss: 0.9012 - val_accuracy: 0.5734\n",
      "Epoch 6/50\n",
      "179/179 [==============================] - 8s 45ms/step - loss: 0.6008 - accuracy: 0.6754 - val_loss: 0.9890 - val_accuracy: 0.5650\n",
      "Epoch 7/50\n",
      "179/179 [==============================] - 8s 45ms/step - loss: 0.5364 - accuracy: 0.7078 - val_loss: 0.9771 - val_accuracy: 0.5692\n",
      "Epoch 8/50\n",
      "179/179 [==============================] - 8s 47ms/step - loss: 0.4818 - accuracy: 0.7303 - val_loss: 0.9045 - val_accuracy: 0.6189\n"
     ]
    }
   ],
   "source": [
    "def make_model_w2v(wv):\n",
    "    model=Sequential()\n",
    "    \n",
    "    model.add(wv.get_keras_embedding())\n",
    "    model.add(LSTM(50,return_sequences=True))\n",
    "#     model.add(LSTM(25,return_sequences=False))\n",
    "\n",
    "    model.add(LSTM(50,return_sequences=False,recurrent_dropout=0.3))\n",
    "    model.add(Dense(50,activation='relu',kernel_regularizer=regularizers.l2(0.01)))\n",
    "    model.add(Dropout(0.3))\n",
    "    model.add(Dense(3, activation='softmax'))\n",
    "    \n",
    "    model.compile(loss='categorical_crossentropy',optimizer='adam',metrics=['accuracy'])\n",
    "    display(model.summary())\n",
    "    return model\n",
    "model = make_model_w2v(wv)\n",
    "history = model.fit(X_train_seq, y_train_seq, epochs=50,batch_size=32, validation_split = 0.2, callbacks=get_earlystop(),class_weight=weights_dict)"
   ]
  },
  {
   "cell_type": "code",
   "execution_count": 41,
   "metadata": {
    "ExecuteTime": {
     "end_time": "2021-01-13T03:13:48.772823Z",
     "start_time": "2021-01-13T03:13:47.019254Z"
    }
   },
   "outputs": [
    {
     "name": "stdout",
     "output_type": "stream",
     "text": [
      "------------------------------------------------------------\n",
      "MODEL ACCURACY\n",
      "------------------------------------------------------------\n",
      "TESTING ACCURACY: 61.52%\n",
      "------------------------------------------------------------\n",
      "CLASSIFICATION REPORT\n",
      "------------------------------------------------------------\n",
      "              precision    recall  f1-score   support\n",
      "\n",
      "           0       0.26      0.31      0.29       105\n",
      "           1       0.51      0.58      0.54       615\n",
      "           2       0.73      0.67      0.70      1068\n",
      "\n",
      "    accuracy                           0.62      1788\n",
      "   macro avg       0.50      0.52      0.51      1788\n",
      "weighted avg       0.63      0.62      0.62      1788\n",
      "\n",
      "------------------------------------------------------------\n",
      "\n",
      "\n"
     ]
    },
    {
     "data": {
      "image/png": "[encoded data removed]",
      "text/plain": [
       "<Figure size 1080x360 with 4 Axes>"
      ]
     },
     "metadata": {
      "needs_background": "light"
     },
     "output_type": "display_data"
    }
   ],
   "source": [
    "y_hat_test = model.predict(X_test_seq).argmax(axis=1)\n",
    "model_eval_2(y_test,y_hat_test,classes=[0,1,2])"
   ]
  }
 ],
 "metadata": {
  "kernelspec": {
   "display_name": "Python [conda env:learn-env] *",
   "language": "python",
   "name": "conda-env-learn-env-py"
  },
  "language_info": {
   "codemirror_mode": {
    "name": "ipython",
    "version": 3
   },
   "file_extension": ".py",
   "mimetype": "text/x-python",
   "name": "python",
   "nbconvert_exporter": "python",
   "pygments_lexer": "ipython3",
   "version": "3.6.9"
  },
  "toc": {
   "base_numbering": 1,
   "nav_menu": {},
   "number_sections": true,
   "sideBar": true,
   "skip_h1_title": false,
   "title_cell": "Table of Contents",
   "title_sidebar": "Contents",
   "toc_cell": false,
   "toc_position": {},
   "toc_section_display": true,
   "toc_window_display": false
  }
 },
 "nbformat": 4,
 "nbformat_minor": 2
}
