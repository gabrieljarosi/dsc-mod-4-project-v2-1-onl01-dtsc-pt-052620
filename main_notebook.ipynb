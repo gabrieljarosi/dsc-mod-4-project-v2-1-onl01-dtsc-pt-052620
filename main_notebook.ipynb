{
 "cells": [
  {
   "cell_type": "code",
   "execution_count": 1,
   "metadata": {
    "ExecuteTime": {
     "end_time": "2021-01-13T01:21:09.026479Z",
     "start_time": "2021-01-13T01:21:03.846845Z"
    }
   },
   "outputs": [
    {
     "name": "stderr",
     "output_type": "stream",
     "text": [
      "[nltk_data] Downloading package stopwords to\n",
      "[nltk_data]     C:\\Users\\Biel_\\AppData\\Roaming\\nltk_data...\n",
      "[nltk_data]   Package stopwords is already up-to-date!\n",
      "[nltk_data] Downloading package wordnet to\n",
      "[nltk_data]     C:\\Users\\Biel_\\AppData\\Roaming\\nltk_data...\n",
      "[nltk_data]   Package wordnet is already up-to-date!\n",
      "[nltk_data] Downloading package punkt to\n",
      "[nltk_data]     C:\\Users\\Biel_\\AppData\\Roaming\\nltk_data...\n",
      "[nltk_data]   Package punkt is already up-to-date!\n"
     ]
    }
   ],
   "source": [
    "import pandas as pd\n",
    "from nltk import word_tokenize\n",
    "from gensim.models import word2vec\n",
    "from nltk import FreqDist\n",
    "from nltk.corpus import stopwords\n",
    "import string\n",
    "from sklearn.model_selection import train_test_split\n",
    "import nltk\n",
    "from sklearn.feature_extraction.text import TfidfVectorizer,CountVectorizer\n",
    "from sklearn.ensemble import RandomForestClassifier\n",
    "from sklearn import metrics\n",
    "from sklearn.metrics import accuracy_score\n",
    "from sklearn.preprocessing import label_binarize\n",
    "from sklearn.model_selection import GridSearchCV\n",
    "\n",
    "from nltk.stem.wordnet import WordNetLemmatizer\n",
    "from sklearn.pipeline import Pipeline\n",
    "from sklearn.feature_extraction.text import CountVectorizer,TfidfTransformer \n",
    "from sklearn.naive_bayes import MultinomialNB\n",
    "\n",
    "from gensim.models import Word2Vec\n",
    "from gensim.utils import simple_preprocess\n",
    "\n",
    "import numpy as np\n",
    "\n",
    "from tensorflow.keras.layers import Input,Dense,LSTM,Embedding\n",
    "from tensorflow.keras.layers import Dropout, Activation, Bidirectional, GlobalMaxPool1D, GRU\n",
    "from tensorflow.keras.models import Sequential\n",
    "from tensorflow.keras import initializers, regularizers, constraints, optimizers, layers\n",
    "from tensorflow.keras.callbacks import EarlyStopping,ModelCheckpoint\n",
    "\n",
    "from tensorflow.keras.preprocessing import text,sequence\n",
    "from tensorflow.keras.utils import to_categorical\n",
    "\n",
    "\n",
    "import nltk\n",
    "nltk.download('stopwords')\n",
    "nltk.download('wordnet')\n",
    "nltk.download('punkt')\n",
    "\n",
    "import matplotlib.pyplot as plt"
   ]
  },
  {
   "cell_type": "code",
   "execution_count": 2,
   "metadata": {
    "ExecuteTime": {
     "end_time": "2021-01-13T01:21:09.089125Z",
     "start_time": "2021-01-13T01:21:09.028535Z"
    }
   },
   "outputs": [
    {
     "data": {
      "text/html": [
       "<div>\n",
       "<style scoped>\n",
       "    .dataframe tbody tr th:only-of-type {\n",
       "        vertical-align: middle;\n",
       "    }\n",
       "\n",
       "    .dataframe tbody tr th {\n",
       "        vertical-align: top;\n",
       "    }\n",
       "\n",
       "    .dataframe thead th {\n",
       "        text-align: right;\n",
       "    }\n",
       "</style>\n",
       "<table border=\"1\" class=\"dataframe\">\n",
       "  <thead>\n",
       "    <tr style=\"text-align: right;\">\n",
       "      <th></th>\n",
       "      <th>tweet_text</th>\n",
       "      <th>emotion_in_tweet_is_directed_at</th>\n",
       "      <th>is_there_an_emotion_directed_at_a_brand_or_product</th>\n",
       "    </tr>\n",
       "  </thead>\n",
       "  <tbody>\n",
       "    <tr>\n",
       "      <th>0</th>\n",
       "      <td>.@wesley83 I have a 3G iPhone. After 3 hrs twe...</td>\n",
       "      <td>iPhone</td>\n",
       "      <td>Negative emotion</td>\n",
       "    </tr>\n",
       "    <tr>\n",
       "      <th>1</th>\n",
       "      <td>@jessedee Know about @fludapp ? Awesome iPad/i...</td>\n",
       "      <td>iPad or iPhone App</td>\n",
       "      <td>Positive emotion</td>\n",
       "    </tr>\n",
       "    <tr>\n",
       "      <th>2</th>\n",
       "      <td>@swonderlin Can not wait for #iPad 2 also. The...</td>\n",
       "      <td>iPad</td>\n",
       "      <td>Positive emotion</td>\n",
       "    </tr>\n",
       "    <tr>\n",
       "      <th>3</th>\n",
       "      <td>@sxsw I hope this year's festival isn't as cra...</td>\n",
       "      <td>iPad or iPhone App</td>\n",
       "      <td>Negative emotion</td>\n",
       "    </tr>\n",
       "    <tr>\n",
       "      <th>4</th>\n",
       "      <td>@sxtxstate great stuff on Fri #SXSW: Marissa M...</td>\n",
       "      <td>Google</td>\n",
       "      <td>Positive emotion</td>\n",
       "    </tr>\n",
       "    <tr>\n",
       "      <th>...</th>\n",
       "      <td>...</td>\n",
       "      <td>...</td>\n",
       "      <td>...</td>\n",
       "    </tr>\n",
       "    <tr>\n",
       "      <th>9088</th>\n",
       "      <td>Ipad everywhere. #SXSW {link}</td>\n",
       "      <td>iPad</td>\n",
       "      <td>Positive emotion</td>\n",
       "    </tr>\n",
       "    <tr>\n",
       "      <th>9089</th>\n",
       "      <td>Wave, buzz... RT @mention We interrupt your re...</td>\n",
       "      <td>NaN</td>\n",
       "      <td>No emotion toward brand or product</td>\n",
       "    </tr>\n",
       "    <tr>\n",
       "      <th>9090</th>\n",
       "      <td>Google's Zeiger, a physician never reported po...</td>\n",
       "      <td>NaN</td>\n",
       "      <td>No emotion toward brand or product</td>\n",
       "    </tr>\n",
       "    <tr>\n",
       "      <th>9091</th>\n",
       "      <td>Some Verizon iPhone customers complained their...</td>\n",
       "      <td>NaN</td>\n",
       "      <td>No emotion toward brand or product</td>\n",
       "    </tr>\n",
       "    <tr>\n",
       "      <th>9092</th>\n",
       "      <td>Ï¡Ïàü_ÊÎÒ£Áââ_£â_ÛâRT @...</td>\n",
       "      <td>NaN</td>\n",
       "      <td>No emotion toward brand or product</td>\n",
       "    </tr>\n",
       "  </tbody>\n",
       "</table>\n",
       "<p>9093 rows × 3 columns</p>\n",
       "</div>"
      ],
      "text/plain": [
       "                                             tweet_text  \\\n",
       "0     .@wesley83 I have a 3G iPhone. After 3 hrs twe...   \n",
       "1     @jessedee Know about @fludapp ? Awesome iPad/i...   \n",
       "2     @swonderlin Can not wait for #iPad 2 also. The...   \n",
       "3     @sxsw I hope this year's festival isn't as cra...   \n",
       "4     @sxtxstate great stuff on Fri #SXSW: Marissa M...   \n",
       "...                                                 ...   \n",
       "9088                      Ipad everywhere. #SXSW {link}   \n",
       "9089  Wave, buzz... RT @mention We interrupt your re...   \n",
       "9090  Google's Zeiger, a physician never reported po...   \n",
       "9091  Some Verizon iPhone customers complained their...   \n",
       "9092  Ï¡Ïàü_ÊÎÒ£Áââ_£â_ÛâRT @...   \n",
       "\n",
       "     emotion_in_tweet_is_directed_at  \\\n",
       "0                             iPhone   \n",
       "1                 iPad or iPhone App   \n",
       "2                               iPad   \n",
       "3                 iPad or iPhone App   \n",
       "4                             Google   \n",
       "...                              ...   \n",
       "9088                            iPad   \n",
       "9089                             NaN   \n",
       "9090                             NaN   \n",
       "9091                             NaN   \n",
       "9092                             NaN   \n",
       "\n",
       "     is_there_an_emotion_directed_at_a_brand_or_product  \n",
       "0                                      Negative emotion  \n",
       "1                                      Positive emotion  \n",
       "2                                      Positive emotion  \n",
       "3                                      Negative emotion  \n",
       "4                                      Positive emotion  \n",
       "...                                                 ...  \n",
       "9088                                   Positive emotion  \n",
       "9089                 No emotion toward brand or product  \n",
       "9090                 No emotion toward brand or product  \n",
       "9091                 No emotion toward brand or product  \n",
       "9092                 No emotion toward brand or product  \n",
       "\n",
       "[9093 rows x 3 columns]"
      ]
     },
     "execution_count": 2,
     "metadata": {},
     "output_type": "execute_result"
    }
   ],
   "source": [
    "df = pd.read_csv('tweet_dataset.csv',encoding= 'unicode_escape')\n",
    "df"
   ]
  },
  {
   "cell_type": "code",
   "execution_count": 3,
   "metadata": {
    "ExecuteTime": {
     "end_time": "2021-01-13T01:21:09.121074Z",
     "start_time": "2021-01-13T01:21:09.091074Z"
    }
   },
   "outputs": [
    {
     "name": "stdout",
     "output_type": "stream",
     "text": [
      "No emotion toward brand or product    5389\n",
      "Positive emotion                      2978\n",
      "Negative emotion                       570\n",
      "I can't tell                           156\n",
      "Name: is_there_an_emotion_directed_at_a_brand_or_product, dtype: int64\n"
     ]
    },
    {
     "name": "stderr",
     "output_type": "stream",
     "text": [
      "C:\\Users\\Biel_\\anaconda3\\envs\\learn-env\\lib\\site-packages\\ipykernel_launcher.py:8: SettingWithCopyWarning: \n",
      "A value is trying to be set on a copy of a slice from a DataFrame.\n",
      "Try using .loc[row_indexer,col_indexer] = value instead\n",
      "\n",
      "See the caveats in the documentation: https://pandas.pydata.org/pandas-docs/stable/user_guide/indexing.html#returning-a-view-versus-a-copy\n",
      "  \n",
      "C:\\Users\\Biel_\\anaconda3\\envs\\learn-env\\lib\\site-packages\\pandas\\core\\frame.py:4174: SettingWithCopyWarning: \n",
      "A value is trying to be set on a copy of a slice from a DataFrame\n",
      "\n",
      "See the caveats in the documentation: https://pandas.pydata.org/pandas-docs/stable/user_guide/indexing.html#returning-a-view-versus-a-copy\n",
      "  errors=errors,\n",
      "C:\\Users\\Biel_\\anaconda3\\envs\\learn-env\\lib\\site-packages\\ipykernel_launcher.py:18: SettingWithCopyWarning: \n",
      "A value is trying to be set on a copy of a slice from a DataFrame\n",
      "\n",
      "See the caveats in the documentation: https://pandas.pydata.org/pandas-docs/stable/user_guide/indexing.html#returning-a-view-versus-a-copy\n"
     ]
    },
    {
     "data": {
      "text/html": [
       "<div>\n",
       "<style scoped>\n",
       "    .dataframe tbody tr th:only-of-type {\n",
       "        vertical-align: middle;\n",
       "    }\n",
       "\n",
       "    .dataframe tbody tr th {\n",
       "        vertical-align: top;\n",
       "    }\n",
       "\n",
       "    .dataframe thead th {\n",
       "        text-align: right;\n",
       "    }\n",
       "</style>\n",
       "<table border=\"1\" class=\"dataframe\">\n",
       "  <thead>\n",
       "    <tr style=\"text-align: right;\">\n",
       "      <th></th>\n",
       "      <th>tweet_text</th>\n",
       "      <th>is_there_an_emotion_directed_at_a_brand_or_product</th>\n",
       "    </tr>\n",
       "  </thead>\n",
       "  <tbody>\n",
       "    <tr>\n",
       "      <th>0</th>\n",
       "      <td>.@wesley83 I have a 3G iPhone. After 3 hrs twe...</td>\n",
       "      <td>Negative emotion</td>\n",
       "    </tr>\n",
       "    <tr>\n",
       "      <th>1</th>\n",
       "      <td>@jessedee Know about @fludapp ? Awesome iPad/i...</td>\n",
       "      <td>Positive emotion</td>\n",
       "    </tr>\n",
       "    <tr>\n",
       "      <th>2</th>\n",
       "      <td>@swonderlin Can not wait for #iPad 2 also. The...</td>\n",
       "      <td>Positive emotion</td>\n",
       "    </tr>\n",
       "    <tr>\n",
       "      <th>3</th>\n",
       "      <td>@sxsw I hope this year's festival isn't as cra...</td>\n",
       "      <td>Negative emotion</td>\n",
       "    </tr>\n",
       "    <tr>\n",
       "      <th>4</th>\n",
       "      <td>@sxtxstate great stuff on Fri #SXSW: Marissa M...</td>\n",
       "      <td>Positive emotion</td>\n",
       "    </tr>\n",
       "    <tr>\n",
       "      <th>...</th>\n",
       "      <td>...</td>\n",
       "      <td>...</td>\n",
       "    </tr>\n",
       "    <tr>\n",
       "      <th>9088</th>\n",
       "      <td>Ipad everywhere. #SXSW {link}</td>\n",
       "      <td>Positive emotion</td>\n",
       "    </tr>\n",
       "    <tr>\n",
       "      <th>9089</th>\n",
       "      <td>Wave, buzz... RT @mention We interrupt your re...</td>\n",
       "      <td>No emotion</td>\n",
       "    </tr>\n",
       "    <tr>\n",
       "      <th>9090</th>\n",
       "      <td>Google's Zeiger, a physician never reported po...</td>\n",
       "      <td>No emotion</td>\n",
       "    </tr>\n",
       "    <tr>\n",
       "      <th>9091</th>\n",
       "      <td>Some Verizon iPhone customers complained their...</td>\n",
       "      <td>No emotion</td>\n",
       "    </tr>\n",
       "    <tr>\n",
       "      <th>9092</th>\n",
       "      <td>Ï¡Ïàü_ÊÎÒ£Áââ_£â_ÛâRT @...</td>\n",
       "      <td>No emotion</td>\n",
       "    </tr>\n",
       "  </tbody>\n",
       "</table>\n",
       "<p>8936 rows × 2 columns</p>\n",
       "</div>"
      ],
      "text/plain": [
       "                                             tweet_text  \\\n",
       "0     .@wesley83 I have a 3G iPhone. After 3 hrs twe...   \n",
       "1     @jessedee Know about @fludapp ? Awesome iPad/i...   \n",
       "2     @swonderlin Can not wait for #iPad 2 also. The...   \n",
       "3     @sxsw I hope this year's festival isn't as cra...   \n",
       "4     @sxtxstate great stuff on Fri #SXSW: Marissa M...   \n",
       "...                                                 ...   \n",
       "9088                      Ipad everywhere. #SXSW {link}   \n",
       "9089  Wave, buzz... RT @mention We interrupt your re...   \n",
       "9090  Google's Zeiger, a physician never reported po...   \n",
       "9091  Some Verizon iPhone customers complained their...   \n",
       "9092  Ï¡Ïàü_ÊÎÒ£Áââ_£â_ÛâRT @...   \n",
       "\n",
       "     is_there_an_emotion_directed_at_a_brand_or_product  \n",
       "0                                      Negative emotion  \n",
       "1                                      Positive emotion  \n",
       "2                                      Positive emotion  \n",
       "3                                      Negative emotion  \n",
       "4                                      Positive emotion  \n",
       "...                                                 ...  \n",
       "9088                                   Positive emotion  \n",
       "9089                                         No emotion  \n",
       "9090                                         No emotion  \n",
       "9091                                         No emotion  \n",
       "9092                                         No emotion  \n",
       "\n",
       "[8936 rows x 2 columns]"
      ]
     },
     "execution_count": 3,
     "metadata": {},
     "output_type": "execute_result"
    }
   ],
   "source": [
    "#CHECKING EMOTION UNIQUE VALUES AND VALUE COUNTS\n",
    "print(df['is_there_an_emotion_directed_at_a_brand_or_product'].value_counts())\n",
    "\n",
    "#DROPPING COLUMNS 'I CAN'T TELL' AND NO EMOTION TOWARD BRAND BECAUSE WANT TO MAKE A BINARY CLASSIFICATION\n",
    "df = df[(df['is_there_an_emotion_directed_at_a_brand_or_product'] != \"I can't tell\")] #& (df['is_there_an_emotion_directed_at_a_brand_or_product'] != 'No emotion toward brand or product')]\n",
    "\n",
    "#CHANGING NO EMOTION TOWARD BRAND OR PRODUCT TO NO EMOTION\n",
    "df['is_there_an_emotion_directed_at_a_brand_or_product'] = df['is_there_an_emotion_directed_at_a_brand_or_product'].replace({'No emotion toward brand or product':'No emotion'})\n",
    "\n",
    "# #TURNING EMOTION COLUMN INTO BINARY\n",
    "# df['Positive_emotion'] = (df['is_there_an_emotion_directed_at_a_brand_or_product']=='Positive emotion').astype(int)\n",
    "# print(df['Positive_emotion'].value_counts(1))\n",
    "\n",
    "#DROPPING UNNEEDED COLUMNS\n",
    "df.drop(['emotion_in_tweet_is_directed_at'],axis=1,inplace=True)\n",
    "\n",
    "#DROPPING THE 1 NULL VALUE IN COLUMN TWEET_TEXT\n",
    "df.dropna(inplace=True)\n",
    "\n",
    "df"
   ]
  },
  {
   "cell_type": "code",
   "execution_count": 4,
   "metadata": {
    "ExecuteTime": {
     "end_time": "2021-01-13T01:21:09.137106Z",
     "start_time": "2021-01-13T01:21:09.123077Z"
    }
   },
   "outputs": [],
   "source": [
    "stopwords_list = stopwords.words('english')\n",
    "\n",
    "# Add punctuation to stopwords_list\n",
    "stopwords_list.extend(string.punctuation)\n",
    "\n",
    "# Add the additional Tweet Punctuation below to stopwords_list\n",
    "additional_punc = ['“','”','...',\"''\",'’','``']\n",
    "stopwords_list.extend(additional_punc)"
   ]
  },
  {
   "cell_type": "markdown",
   "metadata": {
    "ExecuteTime": {
     "end_time": "2021-01-10T22:35:31.361544Z",
     "start_time": "2021-01-10T22:35:31.346599Z"
    }
   },
   "source": [
    "# VANILLA RANDOM FORREST"
   ]
  },
  {
   "cell_type": "code",
   "execution_count": 5,
   "metadata": {
    "ExecuteTime": {
     "end_time": "2021-01-13T01:21:09.153108Z",
     "start_time": "2021-01-13T01:21:09.138074Z"
    }
   },
   "outputs": [],
   "source": [
    "rf = RandomForestClassifier(class_weight='balanced')"
   ]
  },
  {
   "cell_type": "code",
   "execution_count": 6,
   "metadata": {
    "ExecuteTime": {
     "end_time": "2021-01-13T01:21:09.169074Z",
     "start_time": "2021-01-13T01:21:09.154076Z"
    }
   },
   "outputs": [
    {
     "data": {
      "text/plain": [
       "0       .@wesley83 I have a 3G iPhone. After 3 hrs twe...\n",
       "1       @jessedee Know about @fludapp ? Awesome iPad/i...\n",
       "2       @swonderlin Can not wait for #iPad 2 also. The...\n",
       "3       @sxsw I hope this year's festival isn't as cra...\n",
       "4       @sxtxstate great stuff on Fri #SXSW: Marissa M...\n",
       "                              ...                        \n",
       "9088                        Ipad everywhere. #SXSW {link}\n",
       "9089    Wave, buzz... RT @mention We interrupt your re...\n",
       "9090    Google's Zeiger, a physician never reported po...\n",
       "9091    Some Verizon iPhone customers complained their...\n",
       "9092    Ï¡Ïàü_ÊÎÒ£Áââ_£â_ÛâRT @...\n",
       "Name: tweet_text, Length: 8936, dtype: object"
      ]
     },
     "execution_count": 6,
     "metadata": {},
     "output_type": "execute_result"
    }
   ],
   "source": [
    "# y=label_binarize(df['is_there_an_emotion_directed_at_a_brand_or_product'].copy(),\n",
    "#                  classes = ['Negative emotion','Positive emotion','No emotion toward brand or product'])\n",
    "y = df['is_there_an_emotion_directed_at_a_brand_or_product'].copy()\n",
    "X=df['tweet_text'].copy()\n",
    "X"
   ]
  },
  {
   "cell_type": "code",
   "execution_count": 7,
   "metadata": {
    "ExecuteTime": {
     "end_time": "2021-01-13T01:21:09.185122Z",
     "start_time": "2021-01-13T01:21:09.171078Z"
    }
   },
   "outputs": [],
   "source": [
    "#TRAIN TEST SPLIT\n",
    "X_train, X_test, y_train, y_test = train_test_split(X,y, test_size=0.2,\n",
    "                                                    random_state=69)"
   ]
  },
  {
   "cell_type": "code",
   "execution_count": 8,
   "metadata": {
    "ExecuteTime": {
     "end_time": "2021-01-13T01:21:09.201102Z",
     "start_time": "2021-01-13T01:21:09.188085Z"
    }
   },
   "outputs": [
    {
     "data": {
      "text/plain": [
       "No emotion          0.597790\n",
       "Positive emotion    0.336598\n",
       "Negative emotion    0.065613\n",
       "Name: is_there_an_emotion_directed_at_a_brand_or_product, dtype: float64"
      ]
     },
     "execution_count": 8,
     "metadata": {},
     "output_type": "execute_result"
    }
   ],
   "source": [
    "# Check y_train and y_test value counts\n",
    "\n",
    "y_train.value_counts(1)"
   ]
  },
  {
   "cell_type": "code",
   "execution_count": 9,
   "metadata": {
    "ExecuteTime": {
     "end_time": "2021-01-13T01:21:09.217072Z",
     "start_time": "2021-01-13T01:21:09.203073Z"
    }
   },
   "outputs": [
    {
     "data": {
      "text/plain": [
       "<nltk.tokenize.casual.TweetTokenizer at 0x2c897081be0>"
      ]
     },
     "execution_count": 9,
     "metadata": {},
     "output_type": "execute_result"
    }
   ],
   "source": [
    "tokenizer = nltk.TweetTokenizer(preserve_case=False)\n",
    "tokenizer"
   ]
  },
  {
   "cell_type": "code",
   "execution_count": 10,
   "metadata": {
    "ExecuteTime": {
     "end_time": "2021-01-13T01:21:09.935074Z",
     "start_time": "2021-01-13T01:21:09.219077Z"
    }
   },
   "outputs": [
    {
     "data": {
      "text/plain": [
       "<7148x9320 sparse matrix of type '<class 'numpy.float64'>'\n",
       "\twith 85601 stored elements in Compressed Sparse Row format>"
      ]
     },
     "execution_count": 10,
     "metadata": {},
     "output_type": "execute_result"
    }
   ],
   "source": [
    "## Make a TfIdf Vectorizer using tweet tokenizer's .tokenize method\n",
    "vectorizer = TfidfVectorizer(tokenizer=tokenizer.tokenize,\n",
    "                            stop_words=stopwords_list)\n",
    "\n",
    "# Vectorize data and make X_train_tfidf and X_test_tfidf\n",
    "X_train_tfidf = vectorizer.fit_transform(X_train)\n",
    "X_test_tfidf = vectorizer.transform(X_test)\n",
    "X_train_tfidf"
   ]
  },
  {
   "cell_type": "code",
   "execution_count": 11,
   "metadata": {
    "ExecuteTime": {
     "end_time": "2021-01-13T01:21:09.951072Z",
     "start_time": "2021-01-13T01:21:09.936073Z"
    }
   },
   "outputs": [
    {
     "data": {
      "text/plain": [
       "9320"
      ]
     },
     "execution_count": 11,
     "metadata": {},
     "output_type": "execute_result"
    }
   ],
   "source": [
    "len(vectorizer.vocabulary_)"
   ]
  },
  {
   "cell_type": "code",
   "execution_count": 12,
   "metadata": {
    "ExecuteTime": {
     "end_time": "2021-01-13T01:21:09.967074Z",
     "start_time": "2021-01-13T01:21:09.953074Z"
    }
   },
   "outputs": [],
   "source": [
    "def model_eval(model,X_train,y_train,X_test,y_test,classes=None,\n",
    "                           normalize='true',cmap='Blues',label=''):\n",
    "\n",
    "#         \"\"\"Example function with PEP 484 type annotations.\n",
    "\n",
    "#         Args:\n",
    "#             model: The Model Classifier.\n",
    "#             X_train: X_train being used to fit model (could be scaled or not).\n",
    "#             y_train: y_train being used to fit model and to get train accuracy.\n",
    "#             X_test: X_test to get test predictions.\n",
    "#             y_test: y_test used to get test accuracy\n",
    "#             classes: Class labels\n",
    "#             normalize: set to true\n",
    "#             cmap: Color scheme for Confusion Matrix. Set to Blues\n",
    "#             label: Confusion Matrix Label\n",
    "\n",
    "#         Returns:\n",
    "#             Model Accuracy. Confusion Matrix, ROC Curve, and best params for GridSearch\n",
    "\n",
    "#     \"\"\"\n",
    "    \n",
    "    \n",
    "    #FITTING MODEL WITH TRAIN DATA\n",
    "    model.fit(X_train,y_train)   \n",
    "      \n",
    "    #GETTING TRAIN PREDICTIONS\n",
    "    y_hat_train = model.predict(X_train)\n",
    "    \n",
    "    #GETING TEST PREDICTIONS\n",
    "    y_hat_test = model.predict(X_test)\n",
    "    \n",
    "    dashes = '---'*20\n",
    "    \n",
    "    if isinstance(model,GridSearchCV):\n",
    "        grid_header = \"GRID SEARCH FOUND THE FOLLOWING OPTIMAL PARAMETERS: \"\n",
    "        print(dashes,grid_header,dashes,sep='\\n')\n",
    "        best_parameters = model.best_params_\n",
    "        for param_name in sorted(best_parameters.keys()):\n",
    "            print(\"%s: %r\" % (param_name, best_parameters[param_name]))\n",
    "    \n",
    "    #GETTING ACCURACY SCORE FOR TRAIN AND TEST\n",
    "    \n",
    "    if len(label)>0:\n",
    "        accuracy_header = f'{label} ACCURACY'\n",
    "    else:\n",
    "        accuracy_header = 'MODEL ACCURACY'\n",
    "    print(dashes,accuracy_header,dashes,sep='\\n')\n",
    "    training_accuracy = accuracy_score(y_train, y_hat_train)\n",
    "    testing_accuracy = accuracy_score(y_test, y_hat_test)\n",
    "    \n",
    "    print(f'TRAINING ACCURACY: {round(training_accuracy*100,2)}%')\n",
    "    print(f'TESTING ACCURACY: {round(testing_accuracy*100,2)}%')\n",
    "          \n",
    "    #CLASSIFICATION REPORT AND SCORES\n",
    "    test_header = \"CLASSIFICATION REPORT\"\n",
    "    \n",
    "    #ADDING LABEL IF GIVEN\n",
    "    if len(label)>0:\n",
    "        test_header += f\" USING {label}\"\n",
    "    \n",
    "    # PRINT CLASSIFICATION REPORT\n",
    "    \n",
    "    print(dashes,test_header,dashes,sep='\\n')\n",
    "\n",
    "    print(metrics.classification_report(y_test,y_hat_test,\n",
    "                                    target_names=classes))\n",
    "\n",
    "    print(dashes+\"\\n\\n\")\n",
    "    \n",
    "    \n",
    "\n",
    "    # MAKE FIGURE\n",
    "    fig, axes = plt.subplots(figsize=(10,10),ncols=1)\n",
    "   \n",
    "\n",
    "    # PLOTTING CONFUSION MATRIX \n",
    "    if isinstance(model,GridSearchCV):\n",
    "        metrics.plot_confusion_matrix(model.best_estimator_, X_test,y_test,\n",
    "                                      display_labels=classes,\n",
    "                                      normalize=normalize,\n",
    "                                     cmap=cmap,ax=axes,xticks_rotation=45)\n",
    "        axes.set(title='Confusion Matrix')\n",
    "    else:\n",
    "        metrics.plot_confusion_matrix(model, X_test,y_test,\n",
    "                                      display_labels=classes,\n",
    "                                      normalize=normalize,\n",
    "                                     cmap=cmap,ax=axes,xticks_rotation=45)\n",
    "        axes.set(title='Confusion Matrix')\n",
    "    \n",
    "    #PLOTTING ROC CURVE\n",
    "#     roc_plot = metrics.plot_roc_curve(model, X_test, y_test,ax=axes[1])\n",
    "#     axes[1].legend()\n",
    "#     axes[1].plot([0,1],[0,1],ls=':')\n",
    "#     axes[1].grid()\n",
    "#     axes[1].set_title('Receiving Operator Characteristic (ROC) Curve') \n",
    "    fig.tight_layout()\n",
    "    plt.show()\n",
    "\n",
    "   "
   ]
  },
  {
   "cell_type": "code",
   "execution_count": 13,
   "metadata": {
    "ExecuteTime": {
     "end_time": "2021-01-13T01:21:16.582121Z",
     "start_time": "2021-01-13T01:21:09.970078Z"
    }
   },
   "outputs": [
    {
     "name": "stdout",
     "output_type": "stream",
     "text": [
      "------------------------------------------------------------\n",
      "MODEL ACCURACY\n",
      "------------------------------------------------------------\n",
      "TRAINING ACCURACY: 99.55%\n",
      "TESTING ACCURACY: 70.58%\n",
      "------------------------------------------------------------\n",
      "CLASSIFICATION REPORT\n",
      "------------------------------------------------------------\n",
      "                  precision    recall  f1-score   support\n",
      "\n",
      "Negative emotion       0.80      0.24      0.37       101\n",
      "      No emotion       0.72      0.89      0.80      1115\n",
      "Positive emotion       0.65      0.43      0.52       572\n",
      "\n",
      "        accuracy                           0.71      1788\n",
      "       macro avg       0.72      0.52      0.56      1788\n",
      "    weighted avg       0.70      0.71      0.68      1788\n",
      "\n",
      "------------------------------------------------------------\n",
      "\n",
      "\n"
     ]
    },
    {
     "data": {
      "image/png": "[encoded data removed]",
      "text/plain": [
       "<Figure size 720x720 with 2 Axes>"
      ]
     },
     "metadata": {
      "needs_background": "light"
     },
     "output_type": "display_data"
    }
   ],
   "source": [
    "## Evaluate Model using function\n",
    "model_eval(rf,X_train_tfidf,y_train,X_test_tfidf,y_test)"
   ]
  },
  {
   "cell_type": "code",
   "execution_count": 14,
   "metadata": {
    "ExecuteTime": {
     "end_time": "2021-01-13T01:21:16.883118Z",
     "start_time": "2021-01-13T01:21:16.583076Z"
    }
   },
   "outputs": [
    {
     "data": {
      "image/png": "[encoded data removed]",
      "text/plain": [
       "<Figure size 748.8x514.8 with 1 Axes>"
      ]
     },
     "metadata": {
      "needs_background": "light"
     },
     "output_type": "display_data"
    }
   ],
   "source": [
    "# Plot the top 30 most important features\n",
    "with plt.style.context('seaborn-talk'):\n",
    "\n",
    "    ## Get Feature Importance\n",
    "    importance = pd.Series(rf.feature_importances_,index=vectorizer.get_feature_names())\n",
    "\n",
    "    ## Sort values \n",
    "\n",
    "\n",
    "    ## Take the .tail 30 and plot kind='barh'\n",
    "    importance.sort_values().tail(30).plot(kind='barh')"
   ]
  },
  {
   "cell_type": "code",
   "execution_count": 15,
   "metadata": {
    "ExecuteTime": {
     "end_time": "2021-01-13T01:21:16.915074Z",
     "start_time": "2021-01-13T01:21:16.885101Z"
    }
   },
   "outputs": [
    {
     "data": {
      "text/plain": [
       "Pipeline(steps=[('text_pipe',\n",
       "                 Pipeline(steps=[('count_vectorizer', CountVectorizer()),\n",
       "                                 ('tf_transformer', TfidfTransformer())])),\n",
       "                ('clf', RandomForestClassifier(class_weight='balanced'))])"
      ]
     },
     "execution_count": 15,
     "metadata": {},
     "output_type": "execute_result"
    }
   ],
   "source": [
    "count_vect = CountVectorizer()\n",
    "tf_transform = TfidfTransformer(use_idf=True)\n",
    "lemmatizer = WordNetLemmatizer()\n",
    "\n",
    "text_pipe = Pipeline(steps=[                       \n",
    "    ('count_vectorizer',count_vect),\n",
    "    ('tf_transformer',tf_transform)])\n",
    "\n",
    "full_pipe = Pipeline(steps=[\n",
    "    ('text_pipe',text_pipe),\n",
    "    ('clf',RandomForestClassifier(class_weight='balanced'))\n",
    "])\n",
    "full_pipe"
   ]
  },
  {
   "cell_type": "code",
   "execution_count": 16,
   "metadata": {
    "ExecuteTime": {
     "end_time": "2021-01-13T01:21:16.930762Z",
     "start_time": "2021-01-13T01:21:16.917076Z"
    }
   },
   "outputs": [],
   "source": [
    "params = {'text_pipe__tf_transformer__use_idf':[True, False],\n",
    "         'text_pipe__count_vectorizer__tokenizer':[None,tokenizer.tokenize],\n",
    "          'text_pipe__count_vectorizer__preprocessor':[None,lemmatizer.lemmatize],\n",
    "         'text_pipe__count_vectorizer__stop_words':[None,stopwords_list],\n",
    "         'clf__criterion':['gini', 'entropy']}\n",
    "\n",
    "## Make and fit grid\n",
    "grid = GridSearchCV(full_pipe,params,cv=3)"
   ]
  },
  {
   "cell_type": "code",
   "execution_count": 17,
   "metadata": {
    "ExecuteTime": {
     "end_time": "2021-01-13T01:21:16.946699Z",
     "start_time": "2021-01-13T01:21:16.931733Z"
    }
   },
   "outputs": [],
   "source": [
    "# model_eval(grid,X_train,y_train,X_test,y_test)"
   ]
  },
  {
   "cell_type": "markdown",
   "metadata": {},
   "source": [
    "# DEEP NLP"
   ]
  },
  {
   "cell_type": "code",
   "execution_count": 18,
   "metadata": {
    "ExecuteTime": {
     "end_time": "2021-01-13T01:21:17.355081Z",
     "start_time": "2021-01-13T01:21:16.948701Z"
    }
   },
   "outputs": [
    {
     "name": "stdout",
     "output_type": "stream",
     "text": [
      ".@wesley83 I have a 3G iPhone. After 3 hrs tweeting at #RISE_Austin, it was dead!  I need to upgrade. Plugin stations at #SXSW.\n",
      "/n\n",
      "['wesley', 'have', 'iphone', 'after', 'hrs', 'tweeting', 'at', 'rise_austin', 'it', 'was', 'dead', 'need', 'to', 'upgrade', 'plugin', 'stations', 'at', 'sxsw']\n"
     ]
    }
   ],
   "source": [
    "#TRAINING WORD2VEC FROM FULL DF AND APPLYING SIMPLE PREPROCESSING\n",
    "lower_df=df['tweet_text'].map(lambda x: simple_preprocess(x.lower(),deacc=True,\n",
    "                                                         max_len=100))\n",
    "\n",
    "print(df['tweet_text'][0])\n",
    "print('/n')\n",
    "print(lower_df[0])"
   ]
  },
  {
   "cell_type": "code",
   "execution_count": 19,
   "metadata": {
    "ExecuteTime": {
     "end_time": "2021-01-13T01:21:18.683688Z",
     "start_time": "2021-01-13T01:21:17.356746Z"
    }
   },
   "outputs": [],
   "source": [
    "wv_model = Word2Vec(lower_df,size=100,window=5,min_count=2)"
   ]
  },
  {
   "cell_type": "code",
   "execution_count": 20,
   "metadata": {
    "ExecuteTime": {
     "end_time": "2021-01-13T01:21:25.742274Z",
     "start_time": "2021-01-13T01:21:18.684579Z"
    }
   },
   "outputs": [
    {
     "name": "stderr",
     "output_type": "stream",
     "text": [
      "WARNING: Logging before flag parsing goes to stderr.\n",
      "W0112 20:21:18.685579  6540 base_any2vec.py:1168] Effective 'alpha' higher than previous training cycles\n"
     ]
    },
    {
     "data": {
      "text/plain": [
       "(10124148, 15425100)"
      ]
     },
     "execution_count": 20,
     "metadata": {},
     "output_type": "execute_result"
    }
   ],
   "source": [
    "wv_model.train(lower_df,total_examples=wv_model.corpus_count,epochs=100)"
   ]
  },
  {
   "cell_type": "code",
   "execution_count": 21,
   "metadata": {
    "ExecuteTime": {
     "end_time": "2021-01-13T01:21:25.758274Z",
     "start_time": "2021-01-13T01:21:25.744274Z"
    }
   },
   "outputs": [
    {
     "data": {
      "text/plain": [
       "<gensim.models.keyedvectors.Word2VecKeyedVectors at 0x2c89d1b6518>"
      ]
     },
     "execution_count": 21,
     "metadata": {},
     "output_type": "execute_result"
    }
   ],
   "source": [
    "#GET KEYED VECTOR\n",
    "wv=wv_model.wv\n",
    "wv"
   ]
  },
  {
   "cell_type": "code",
   "execution_count": 22,
   "metadata": {
    "ExecuteTime": {
     "end_time": "2021-01-13T01:21:25.774359Z",
     "start_time": "2021-01-13T01:21:25.760275Z"
    }
   },
   "outputs": [
    {
     "data": {
      "text/plain": [
       "array([ 1.0463940e+00,  2.5189984e-01, -2.5179729e-01, -3.6631110e+00,\n",
       "        2.3782518e+00,  8.2779807e-01, -4.4191027e-01,  6.4266044e-01,\n",
       "        4.2016241e-01, -1.6513339e+00,  1.5135305e+00, -1.5176452e+00,\n",
       "        9.1831785e-01, -5.6610483e-01, -1.5469313e+00, -2.5902433e+00,\n",
       "       -1.7779604e-01,  2.0818431e+00, -1.4584761e+00, -1.2332454e+00,\n",
       "        1.9322343e+00,  1.0323943e+00,  2.4040966e+00, -1.8846160e+00,\n",
       "       -2.1856375e+00,  1.0329405e+00, -1.7947541e+00,  2.3944266e-03,\n",
       "        2.7239072e-01,  1.4203260e+00, -1.1431019e+00, -1.5542889e-02,\n",
       "        2.0771043e+00, -1.7704473e+00, -1.0440552e+00, -3.2539880e-01,\n",
       "       -2.7869329e+00, -2.3587930e+00,  5.3535562e-02, -2.6399002e+00,\n",
       "        2.4982519e+00,  1.0897563e-01,  3.2259011e+00,  5.4440439e-01,\n",
       "        1.1441629e+00,  9.4429445e-01,  8.5073555e-01, -7.1281713e-01,\n",
       "       -7.3787773e-01, -4.1786070e+00, -1.6282406e+00, -8.3176947e-01,\n",
       "       -5.5317607e+00,  2.3226664e+00,  1.0023046e+00, -3.9598670e+00,\n",
       "       -2.3570108e+00,  8.7225050e-01,  1.0596183e-01, -4.1415185e-02,\n",
       "        5.9869468e-01,  1.1672304e+00, -7.3699558e-01,  1.0091360e+00,\n",
       "       -2.5685832e-01,  2.1078849e+00, -1.5025122e+00, -2.3709831e+00,\n",
       "        2.5685670e+00,  9.3464518e-01, -1.6107413e+00, -1.4213262e+00,\n",
       "        2.7190194e+00,  2.0851769e+00, -3.2281260e+00, -1.6084478e+00,\n",
       "        1.2713321e+00,  5.2864707e-01, -1.4024432e+00, -8.1370711e-01,\n",
       "        2.6361242e-01,  1.8634248e+00, -3.9792895e+00,  1.5922079e+00,\n",
       "       -1.3844638e-01, -1.0014914e+00, -1.5353570e+00,  1.9326489e-01,\n",
       "       -2.4622419e+00, -2.2638659e+00, -4.2088056e+00, -1.5938513e+00,\n",
       "       -1.9813722e+00, -1.4805781e+00,  1.7551577e+00, -2.1942413e+00,\n",
       "       -1.1896373e+00, -5.2516276e-01,  1.3834515e-01,  9.1275305e-01],\n",
       "      dtype=float32)"
      ]
     },
     "execution_count": 22,
     "metadata": {},
     "output_type": "execute_result"
    }
   ],
   "source": [
    "wv['tweet']"
   ]
  },
  {
   "cell_type": "code",
   "execution_count": 23,
   "metadata": {
    "ExecuteTime": {
     "end_time": "2021-01-13T01:21:25.790284Z",
     "start_time": "2021-01-13T01:21:25.777274Z"
    }
   },
   "outputs": [
    {
     "data": {
      "text/plain": [
       "5412"
      ]
     },
     "execution_count": 23,
     "metadata": {},
     "output_type": "execute_result"
    }
   ],
   "source": [
    "len(wv.vocab)"
   ]
  },
  {
   "cell_type": "code",
   "execution_count": 24,
   "metadata": {
    "ExecuteTime": {
     "end_time": "2021-01-13T01:21:25.806274Z",
     "start_time": "2021-01-13T01:21:25.792289Z"
    }
   },
   "outputs": [
    {
     "data": {
      "text/plain": [
       "[('nice', 0.36443305015563965),\n",
       " ('design', 0.3540205955505371),\n",
       " ('missed', 0.34808313846588135),\n",
       " ('fun', 0.3400720953941345),\n",
       " ('good', 0.3327147662639618),\n",
       " ('made', 0.30394142866134644),\n",
       " ('making', 0.2967814803123474),\n",
       " ('agenda', 0.29427292943000793),\n",
       " ('sure', 0.2880237400531769),\n",
       " ('reily', 0.279449999332428)]"
      ]
     },
     "execution_count": 24,
     "metadata": {},
     "output_type": "execute_result"
    }
   ],
   "source": [
    "wv.most_similar('great')"
   ]
  },
  {
   "cell_type": "code",
   "execution_count": 25,
   "metadata": {
    "ExecuteTime": {
     "end_time": "2021-01-13T01:21:25.822353Z",
     "start_time": "2021-01-13T01:21:25.808277Z"
    }
   },
   "outputs": [],
   "source": [
    "# y=label_binarize(df['is_there_an_emotion_directed_at_a_brand_or_product'].copy(),\n",
    "#                  classes = ['Negative emotion','Positive emotion','No emotion toward brand or product'])\n",
    "y = df['is_there_an_emotion_directed_at_a_brand_or_product'].replace({'Negative emotion':0,\n",
    "                                                                     'Positive emotion':1,\n",
    "                                                                     'No emotion':2})\n",
    "X=df['tweet_text'].copy()"
   ]
  },
  {
   "cell_type": "code",
   "execution_count": 26,
   "metadata": {
    "ExecuteTime": {
     "end_time": "2021-01-13T01:21:25.838323Z",
     "start_time": "2021-01-13T01:21:25.824274Z"
    }
   },
   "outputs": [],
   "source": [
    "#TRAIN TEST SPLIT\n",
    "X_train, X_test, y_train, y_test = train_test_split(X,y, test_size=0.2,\n",
    "                                                    random_state=999)"
   ]
  },
  {
   "cell_type": "code",
   "execution_count": 27,
   "metadata": {
    "ExecuteTime": {
     "end_time": "2021-01-13T01:21:25.854321Z",
     "start_time": "2021-01-13T01:21:25.839278Z"
    }
   },
   "outputs": [
    {
     "name": "stderr",
     "output_type": "stream",
     "text": [
      "C:\\Users\\Biel_\\anaconda3\\envs\\learn-env\\lib\\site-packages\\sklearn\\utils\\validation.py:70: FutureWarning: Pass classes=[0 1 2], y=4777    2\n",
      "6112    2\n",
      "6010    2\n",
      "3318    2\n",
      "884     1\n",
      "       ..\n",
      "8554    2\n",
      "7713    2\n",
      "8562    1\n",
      "5936    1\n",
      "490     1\n",
      "Name: is_there_an_emotion_directed_at_a_brand_or_product, Length: 7148, dtype: int64 as keyword args. From version 0.25 passing these as positional arguments will result in an error\n",
      "  FutureWarning)\n"
     ]
    },
    {
     "data": {
      "text/plain": [
       "{0: 5.124014336917563, 1: 1.0083227535618564, 2: 0.5515432098765433}"
      ]
     },
     "execution_count": 27,
     "metadata": {},
     "output_type": "execute_result"
    }
   ],
   "source": [
    "from sklearn.utils.class_weight import compute_class_weight\n",
    "\n",
    "weights = compute_class_weight('balanced',np.unique(y_train),y_train)\n",
    "\n",
    "weights_dict = dict(zip(np.unique(y_train),weights))\n",
    "weights_dict"
   ]
  },
  {
   "cell_type": "code",
   "execution_count": 28,
   "metadata": {
    "ExecuteTime": {
     "end_time": "2021-01-13T01:21:25.870274Z",
     "start_time": "2021-01-13T01:21:25.856298Z"
    }
   },
   "outputs": [
    {
     "data": {
      "text/plain": [
       "(7148, 3)"
      ]
     },
     "execution_count": 28,
     "metadata": {},
     "output_type": "execute_result"
    }
   ],
   "source": [
    "#ONE HOT ENCODE\n",
    "y_train_seq=label_binarize(y_train,\n",
    "                 classes = [0,1,2])\n",
    "\n",
    "y_test_seq=label_binarize(y_test,\n",
    "                 classes = [0,1,2])\n",
    "y_train_seq.shape"
   ]
  },
  {
   "cell_type": "code",
   "execution_count": 29,
   "metadata": {
    "ExecuteTime": {
     "end_time": "2021-01-13T01:21:26.172325Z",
     "start_time": "2021-01-13T01:21:25.871274Z"
    }
   },
   "outputs": [],
   "source": [
    "#TOKENIZE TEXT\n",
    "MAX_WORDS=25000\n",
    "tokenizer = text.Tokenizer(num_words = MAX_WORDS)\n",
    "tokenizer.fit_on_texts(X_train)\n",
    "train_sequences = tokenizer.texts_to_sequences(X_train)\n",
    "test_sequences = tokenizer.texts_to_sequences(X_test)\n",
    "\n",
    "#FIND LONGEST SEQUENCE\n",
    "max(list(map(lambda x:len(x),[*train_sequences,*test_sequences])))\n",
    "\n",
    "MAX_SEQUENCE_LENGTH=40"
   ]
  },
  {
   "cell_type": "code",
   "execution_count": 30,
   "metadata": {
    "ExecuteTime": {
     "end_time": "2021-01-13T01:21:26.235039Z",
     "start_time": "2021-01-13T01:21:26.173276Z"
    }
   },
   "outputs": [
    {
     "data": {
      "text/plain": [
       "array([[   0,    0,    0, ...,   37,    4,    2],\n",
       "       [   0,    0,    0, ..., 2197,   78,  261],\n",
       "       [   0,    0,    0, ...,   26,  129,    4],\n",
       "       ...,\n",
       "       [   0,    0,    0, ...,   67,  229,    1],\n",
       "       [   0,    0,    0, ..., 1551,   96,    1],\n",
       "       [   0,    0,    0, ...,  244,  161, 9049]])"
      ]
     },
     "execution_count": 30,
     "metadata": {},
     "output_type": "execute_result"
    }
   ],
   "source": [
    "X_train_seq = sequence.pad_sequences(train_sequences,maxlen=MAX_SEQUENCE_LENGTH)\n",
    "\n",
    "X_test_seq = sequence.pad_sequences(test_sequences,maxlen=MAX_SEQUENCE_LENGTH)\n",
    "\n",
    "X_train_seq"
   ]
  },
  {
   "cell_type": "code",
   "execution_count": 31,
   "metadata": {
    "ExecuteTime": {
     "end_time": "2021-01-13T01:21:26.251036Z",
     "start_time": "2021-01-13T01:21:26.237034Z"
    }
   },
   "outputs": [
    {
     "data": {
      "text/plain": [
       "9049"
      ]
     },
     "execution_count": 31,
     "metadata": {},
     "output_type": "execute_result"
    }
   ],
   "source": [
    "len(tokenizer.index_word)"
   ]
  },
  {
   "cell_type": "code",
   "execution_count": 32,
   "metadata": {
    "ExecuteTime": {
     "end_time": "2021-01-13T01:21:26.267085Z",
     "start_time": "2021-01-13T01:21:26.253034Z"
    }
   },
   "outputs": [],
   "source": [
    "def get_earlystop(monitor='val_loss',patience=3, restore_best_weights=False):\n",
    "    \"\"\"\"\"\"\"\"\n",
    "    args = locals()\n",
    "    return EarlyStopping(**args)\n",
    "get_earlystop.__doc__+= EarlyStopping.__doc__"
   ]
  },
  {
   "cell_type": "code",
   "execution_count": 33,
   "metadata": {
    "ExecuteTime": {
     "end_time": "2021-01-13T01:22:16.268349Z",
     "start_time": "2021-01-13T01:21:26.270038Z"
    }
   },
   "outputs": [
    {
     "name": "stdout",
     "output_type": "stream",
     "text": [
      "Model: \"sequential\"\n",
      "_________________________________________________________________\n",
      "Layer (type)                 Output Shape              Param #   \n",
      "=================================================================\n",
      "embedding (Embedding)        (None, None, 128)         3200000   \n",
      "_________________________________________________________________\n",
      "lstm (LSTM)                  (None, None, 50)          35800     \n",
      "_________________________________________________________________\n",
      "lstm_1 (LSTM)                (None, 50)                20200     \n",
      "_________________________________________________________________\n",
      "dense (Dense)                (None, 50)                2550      \n",
      "_________________________________________________________________\n",
      "dropout (Dropout)            (None, 50)                0         \n",
      "_________________________________________________________________\n",
      "dense_1 (Dense)              (None, 3)                 153       \n",
      "=================================================================\n",
      "Total params: 3,258,703\n",
      "Trainable params: 3,258,703\n",
      "Non-trainable params: 0\n",
      "_________________________________________________________________\n"
     ]
    },
    {
     "data": {
      "text/plain": [
       "None"
      ]
     },
     "metadata": {},
     "output_type": "display_data"
    },
    {
     "name": "stdout",
     "output_type": "stream",
     "text": [
      "Epoch 1/50\n",
      "157/157 [==============================] - 10s 62ms/step - loss: 1.2976 - accuracy: 0.4479 - val_loss: 1.0906 - val_accuracy: 0.4634\n",
      "Epoch 2/50\n",
      "157/157 [==============================] - 9s 57ms/step - loss: 0.8532 - accuracy: 0.5657 - val_loss: 0.8493 - val_accuracy: 0.5977\n",
      "Epoch 3/50\n",
      "157/157 [==============================] - 9s 57ms/step - loss: 0.5767 - accuracy: 0.7174 - val_loss: 0.8958 - val_accuracy: 0.5823\n",
      "Epoch 4/50\n",
      "157/157 [==============================] - 9s 60ms/step - loss: 0.4057 - accuracy: 0.8223 - val_loss: 0.8717 - val_accuracy: 0.6434\n",
      "Epoch 5/50\n",
      "157/157 [==============================] - 10s 61ms/step - loss: 0.3361 - accuracy: 0.8567 - val_loss: 1.0110 - val_accuracy: 0.6182\n"
     ]
    }
   ],
   "source": [
    "def make_model(EMBEDDING_SIZE=128):\n",
    "    model=Sequential()\n",
    "    model.add(Embedding(MAX_WORDS,EMBEDDING_SIZE))\n",
    "    model.add(LSTM(50,return_sequences=True))\n",
    "#     model.add(LSTM(25,return_sequences=False))\n",
    "\n",
    "    model.add(LSTM(50,return_sequences=False,recurrent_dropout=0.3))\n",
    "    model.add(Dense(50,activation='relu',kernel_regularizer=regularizers.l2(0.01)))\n",
    "    model.add(Dropout(0.3))\n",
    "    model.add(Dense(3, activation='softmax'))\n",
    "    \n",
    "    model.compile(loss='categorical_crossentropy',optimizer='adam',metrics=['accuracy'])\n",
    "    display(model.summary())\n",
    "    return model\n",
    "model = make_model()\n",
    "history = model.fit(X_train_seq, y_train_seq, epochs=50,batch_size=32, \n",
    "                    validation_split = 0.3, callbacks=get_earlystop(),\n",
    "                   class_weight=weights_dict,workers=3)"
   ]
  },
  {
   "cell_type": "code",
   "execution_count": 34,
   "metadata": {
    "ExecuteTime": {
     "end_time": "2021-01-13T01:22:17.072648Z",
     "start_time": "2021-01-13T01:22:16.270349Z"
    }
   },
   "outputs": [
    {
     "data": {
      "text/plain": [
       "array([1, 1, 1, 1, 1], dtype=int64)"
      ]
     },
     "execution_count": 34,
     "metadata": {},
     "output_type": "execute_result"
    }
   ],
   "source": [
    "y_hat_test = model.predict(X_test_seq).argmax(axis=1)\n",
    "y_hat_test[:5]"
   ]
  },
  {
   "cell_type": "code",
   "execution_count": 45,
   "metadata": {
    "ExecuteTime": {
     "end_time": "2021-01-13T01:26:57.739249Z",
     "start_time": "2021-01-13T01:26:57.724252Z"
    }
   },
   "outputs": [],
   "source": [
    "def plot_confusion_matrix(cm, classes,ax,\n",
    "                        normalize=False,\n",
    "                        title='Confusion matrix',\n",
    "                        cmap=plt.cm.Blues,\n",
    "                         ):\n",
    "    \"\"\"\n",
    "    This function prints and plots the confusion matrix.\n",
    "    Normalization can be applied by setting `normalize=True`.\n",
    "    \"\"\"\n",
    "#     np.set_printoptions(precision=2)\n",
    "    plt.imshow(cm, interpolation='nearest', cmap=cmap)\n",
    "    plt.title(title)\n",
    "    plt.colorbar(ax=ax)\n",
    "    tick_marks = np.arange(len(classes))\n",
    "    plt.xticks(tick_marks, classes, rotation=45)\n",
    "    plt.yticks(tick_marks, classes)\n",
    "\n",
    "    if normalize:\n",
    "        cm = cm.astype('float') / cm.sum(axis=1)[:, np.newaxis]\n",
    "\n",
    "    thresh = cm.max() / 2.\n",
    "    for i, j in itertools.product(range(cm.shape[0]), range(cm.shape[1])):\n",
    "        plt.text(j, i, round(cm[i, j],2),\n",
    "            horizontalalignment=\"center\",\n",
    "            color=\"white\" if cm[i, j] > thresh else \"black\")\n",
    "\n",
    "    plt.tight_layout()\n",
    "    plt.ylabel('True label')\n",
    "    plt.xlabel('Predicted label')"
   ]
  },
  {
   "cell_type": "code",
   "execution_count": 48,
   "metadata": {
    "ExecuteTime": {
     "end_time": "2021-01-13T01:27:49.553880Z",
     "start_time": "2021-01-13T01:27:49.164847Z"
    }
   },
   "outputs": [
    {
     "name": "stdout",
     "output_type": "stream",
     "text": [
      "              precision    recall  f1-score   support\n",
      "\n",
      "           0       0.23      0.36      0.28       105\n",
      "           1       0.55      0.60      0.57       615\n",
      "           2       0.74      0.66      0.70      1068\n",
      "\n",
      "    accuracy                           0.62      1788\n",
      "   macro avg       0.51      0.54      0.52      1788\n",
      "weighted avg       0.64      0.62      0.63      1788\n",
      "\n",
      "\n",
      "\n"
     ]
    },
    {
     "data": {
      "image/png": "[encoded data removed]",
      "text/plain": [
       "<Figure size 720x720 with 3 Axes>"
      ]
     },
     "metadata": {
      "needs_background": "light"
     },
     "output_type": "display_data"
    },
    {
     "data": {
      "image/png": "[encoded data removed]",
      "text/plain": [
       "<Figure size 432x288 with 1 Axes>"
      ]
     },
     "metadata": {
      "needs_background": "light"
     },
     "output_type": "display_data"
    }
   ],
   "source": [
    "from sklearn.metrics import confusion_matrix\n",
    "import itertools\n",
    "# np.set_printoptions(precision=None)\n",
    "\n",
    "cm = confusion_matrix(y_true=y_test, y_pred=y_hat_test,normalize='true')\n",
    "\n",
    "fig, axes = plt.subplots(figsize=(10,10),ncols=2)\n",
    "\n",
    "print(metrics.classification_report(y_test,y_hat_test))\n",
    "print('\\n')\n",
    "history_df = pd.DataFrame(history.history)\n",
    "history_df[[col for col in history_df.columns if 'loss' in col]].plot(marker='o')\n",
    "\n",
    "plot_confusion_matrix(cm,classes=[0,1,2],normalize=True,ax=axes[1])"
   ]
  },
  {
   "cell_type": "code",
   "execution_count": null,
   "metadata": {
    "ExecuteTime": {
     "end_time": "2021-01-13T01:22:17.595663Z",
     "start_time": "2021-01-13T01:21:04.012Z"
    }
   },
   "outputs": [],
   "source": [
    "wv.get_keras_embedding()"
   ]
  },
  {
   "cell_type": "code",
   "execution_count": null,
   "metadata": {
    "ExecuteTime": {
     "start_time": "2021-01-13T01:39:51.721Z"
    }
   },
   "outputs": [],
   "source": [
    "from tensorflow.keras.layers import Embedding\n",
    "\n",
    "\n",
    "#FUNCTION SOURCE >>> https://github.com/RaRe-Technologies/gensim/wiki/Using-Gensim-Embeddings-with-Keras-and-Tensorflow\n",
    "def gensim_to_keras_embedding(model, train_embeddings=False):\n",
    "    \"\"\"Get a Keras 'Embedding' layer with weights set from Word2Vec model's learned word embeddings.\n",
    "\n",
    "    Parameters\n",
    "    ----------\n",
    "    train_embeddings : bool\n",
    "        If False, the returned weights are frozen and stopped from being updated.\n",
    "        If True, the weights can / will be further updated in Keras.\n",
    "\n",
    "    Returns\n",
    "    -------\n",
    "    `keras.layers.Embedding`\n",
    "        Embedding layer, to be used as input to deeper network layers.\n",
    "\n",
    "    \"\"\"\n",
    "    keyed_vectors = model.wv  # structure holding the result of training\n",
    "    weights = keyed_vectors.vectors  # vectors themselves, a 2D numpy array    \n",
    "    index_to_key = keyed_vectors.index2word  # which row in `weights` corresponds to which word?\n",
    "\n",
    "    layer = Embedding(\n",
    "        input_dim=weights.shape[0],\n",
    "        output_dim=weights.shape[1],\n",
    "        weights=[weights],\n",
    "        trainable=train_embeddings,\n",
    "    )\n",
    "    return layer\n",
    "gensim_to_keras_embedding(wv_model)"
   ]
  },
  {
   "cell_type": "code",
   "execution_count": null,
   "metadata": {
    "ExecuteTime": {
     "end_time": "2021-01-13T01:22:17.597652Z",
     "start_time": "2021-01-13T01:21:04.017Z"
    }
   },
   "outputs": [],
   "source": [
    "def make_model_w2v(wv):\n",
    "    model=Sequential()\n",
    "    \n",
    "    model.add(gensim_to_keras_embedding(wv_model))\n",
    "    model.add(LSTM(50,return_sequences=False))\n",
    "    model.add(Dense(50,activation='relu'))\n",
    "    model.add(Dropout(0.6))\n",
    "    model.add(Dense(3, activation='softmax'))\n",
    "    \n",
    "    model.compile(loss='categorical_crossentropy',optimizer='adam',metrics=['accuracy'])\n",
    "    display(model.summary())\n",
    "    return model\n",
    "model = make_model_w2v(wv)\n",
    "history = model.fit(X_train_seq, y_train_seq, epochs=50,batch_size=32, validation_split = 0.2, callbacks=get_earlystop(),class_weight=weights_dict)"
   ]
  },
  {
   "cell_type": "code",
   "execution_count": null,
   "metadata": {},
   "outputs": [],
   "source": []
  }
 ],
 "metadata": {
  "kernelspec": {
   "display_name": "Python [conda env:learn-env] *",
   "language": "python",
   "name": "conda-env-learn-env-py"
  },
  "language_info": {
   "codemirror_mode": {
    "name": "ipython",
    "version": 3
   },
   "file_extension": ".py",
   "mimetype": "text/x-python",
   "name": "python",
   "nbconvert_exporter": "python",
   "pygments_lexer": "ipython3",
   "version": "3.6.9"
  },
  "toc": {
   "base_numbering": 1,
   "nav_menu": {},
   "number_sections": true,
   "sideBar": true,
   "skip_h1_title": false,
   "title_cell": "Table of Contents",
   "title_sidebar": "Contents",
   "toc_cell": false,
   "toc_position": {},
   "toc_section_display": true,
   "toc_window_display": false
  }
 },
 "nbformat": 4,
 "nbformat_minor": 2
}
